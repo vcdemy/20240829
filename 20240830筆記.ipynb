{
  "nbformat": 4,
  "nbformat_minor": 0,
  "metadata": {
    "colab": {
      "provenance": [],
      "authorship_tag": "ABX9TyPCshjKMiRsDCQfS6mwZRdZ",
      "include_colab_link": true
    },
    "kernelspec": {
      "name": "python3",
      "display_name": "Python 3"
    },
    "language_info": {
      "name": "python"
    }
  },
  "cells": [
    {
      "cell_type": "markdown",
      "metadata": {
        "id": "view-in-github",
        "colab_type": "text"
      },
      "source": [
        "<a href=\"https://colab.research.google.com/github/vcdemy/20240829/blob/main/20240830%E7%AD%86%E8%A8%98.ipynb\" target=\"_parent\"><img src=\"https://colab.research.google.com/assets/colab-badge.svg\" alt=\"Open In Colab\"/></a>"
      ]
    },
    {
      "cell_type": "markdown",
      "source": [
        "# 20240830筆記"
      ],
      "metadata": {
        "id": "pGtFKYiB3-jI"
      }
    },
    {
      "cell_type": "markdown",
      "source": [
        "## 複習基本資料型態及容器型別\n",
        "\n",
        "* int, float, bool, str\n",
        "* list, tuple, dict, set"
      ],
      "metadata": {
        "id": "3XLSa8On4nRM"
      }
    },
    {
      "cell_type": "markdown",
      "source": [
        "### 字串的加法及乘法"
      ],
      "metadata": {
        "id": "IqoTZsCm47j2"
      }
    },
    {
      "cell_type": "code",
      "execution_count": null,
      "metadata": {
        "colab": {
          "base_uri": "https://localhost:8080/",
          "height": 36
        },
        "id": "fsQ1ClQc3o-d",
        "outputId": "8c7c9141-e7ad-416d-dbad-f36523179b85"
      },
      "outputs": [
        {
          "output_type": "execute_result",
          "data": {
            "text/plain": [
              "'abc123'"
            ],
            "application/vnd.google.colaboratory.intrinsic+json": {
              "type": "string"
            }
          },
          "metadata": {},
          "execution_count": 1
        }
      ],
      "source": [
        "'abc' + '123'"
      ]
    },
    {
      "cell_type": "code",
      "source": [
        "'abc' * 3"
      ],
      "metadata": {
        "colab": {
          "base_uri": "https://localhost:8080/",
          "height": 36
        },
        "id": "B_ayxwj_5EET",
        "outputId": "681f6bc4-bc6d-4ba5-c16c-bc348abcea87"
      },
      "execution_count": null,
      "outputs": [
        {
          "output_type": "execute_result",
          "data": {
            "text/plain": [
              "'abcabcabc'"
            ],
            "application/vnd.google.colaboratory.intrinsic+json": {
              "type": "string"
            }
          },
          "metadata": {},
          "execution_count": 2
        }
      ]
    },
    {
      "cell_type": "code",
      "source": [
        "'abc' + 123"
      ],
      "metadata": {
        "colab": {
          "base_uri": "https://localhost:8080/",
          "height": 144
        },
        "id": "QHMINWBC5UVr",
        "outputId": "738da097-d8c9-414d-b7d4-6d0a68255bb0"
      },
      "execution_count": null,
      "outputs": [
        {
          "output_type": "error",
          "ename": "TypeError",
          "evalue": "can only concatenate str (not \"int\") to str",
          "traceback": [
            "\u001b[0;31m---------------------------------------------------------------------------\u001b[0m",
            "\u001b[0;31mTypeError\u001b[0m                                 Traceback (most recent call last)",
            "\u001b[0;32m<ipython-input-4-09288ff2ed8a>\u001b[0m in \u001b[0;36m<cell line: 1>\u001b[0;34m()\u001b[0m\n\u001b[0;32m----> 1\u001b[0;31m \u001b[0;34m'abc'\u001b[0m \u001b[0;34m+\u001b[0m \u001b[0;36m123\u001b[0m\u001b[0;34m\u001b[0m\u001b[0;34m\u001b[0m\u001b[0m\n\u001b[0m",
            "\u001b[0;31mTypeError\u001b[0m: can only concatenate str (not \"int\") to str"
          ]
        }
      ]
    },
    {
      "cell_type": "code",
      "source": [
        "'abc' + str(123)"
      ],
      "metadata": {
        "colab": {
          "base_uri": "https://localhost:8080/",
          "height": 36
        },
        "id": "ZQ0FueiA5gx_",
        "outputId": "2b066b11-9bd9-44de-8e9e-c4eadd8e09b9"
      },
      "execution_count": null,
      "outputs": [
        {
          "output_type": "execute_result",
          "data": {
            "text/plain": [
              "'abc123'"
            ],
            "application/vnd.google.colaboratory.intrinsic+json": {
              "type": "string"
            }
          },
          "metadata": {},
          "execution_count": 5
        }
      ]
    },
    {
      "cell_type": "code",
      "source": [
        "'abc' * 3.0"
      ],
      "metadata": {
        "colab": {
          "base_uri": "https://localhost:8080/",
          "height": 144
        },
        "id": "yh7n1pso5My7",
        "outputId": "38540f79-ce18-482a-dd46-7232fd3c770c"
      },
      "execution_count": null,
      "outputs": [
        {
          "output_type": "error",
          "ename": "TypeError",
          "evalue": "can't multiply sequence by non-int of type 'float'",
          "traceback": [
            "\u001b[0;31m---------------------------------------------------------------------------\u001b[0m",
            "\u001b[0;31mTypeError\u001b[0m                                 Traceback (most recent call last)",
            "\u001b[0;32m<ipython-input-3-f2fcc78f37b5>\u001b[0m in \u001b[0;36m<cell line: 1>\u001b[0;34m()\u001b[0m\n\u001b[0;32m----> 1\u001b[0;31m \u001b[0;34m'abc'\u001b[0m\u001b[0;34m*\u001b[0m\u001b[0;36m3.0\u001b[0m\u001b[0;34m\u001b[0m\u001b[0;34m\u001b[0m\u001b[0m\n\u001b[0m",
            "\u001b[0;31mTypeError\u001b[0m: can't multiply sequence by non-int of type 'float'"
          ]
        }
      ]
    },
    {
      "cell_type": "code",
      "source": [
        "'abc' * int(3.0)"
      ],
      "metadata": {
        "colab": {
          "base_uri": "https://localhost:8080/",
          "height": 36
        },
        "id": "WTk117QR5Rxz",
        "outputId": "f417ca55-a74d-477c-f6c2-7990118e4a19"
      },
      "execution_count": null,
      "outputs": [
        {
          "output_type": "execute_result",
          "data": {
            "text/plain": [
              "'abcabcabc'"
            ],
            "application/vnd.google.colaboratory.intrinsic+json": {
              "type": "string"
            }
          },
          "metadata": {},
          "execution_count": 6
        }
      ]
    },
    {
      "cell_type": "markdown",
      "source": [
        "### 綜合練習 01\n",
        "\n",
        "請用 for 迴圈畫出底下金字塔。\n",
        "\n",
        "```\n",
        "      *\n",
        "     ***\n",
        "    *****\n",
        "   *******\n",
        "  *********\n",
        "```"
      ],
      "metadata": {
        "id": "Nlnh8RaA6Boh"
      }
    },
    {
      "cell_type": "code",
      "source": [
        "for i in range(5):\n",
        "    print(i)"
      ],
      "metadata": {
        "colab": {
          "base_uri": "https://localhost:8080/"
        },
        "id": "JRHQHC4852tS",
        "outputId": "55a500c2-0b8e-4229-bc04-c39b3c7c8cf9"
      },
      "execution_count": null,
      "outputs": [
        {
          "output_type": "stream",
          "name": "stdout",
          "text": [
            "0\n",
            "1\n",
            "2\n",
            "3\n",
            "4\n"
          ]
        }
      ]
    },
    {
      "cell_type": "code",
      "source": [
        "for i in range(5):\n",
        "    print(2*i+1)"
      ],
      "metadata": {
        "colab": {
          "base_uri": "https://localhost:8080/"
        },
        "id": "UrMyspkW6f-b",
        "outputId": "0f92a102-03d1-443c-d21b-bad308672bc9"
      },
      "execution_count": null,
      "outputs": [
        {
          "output_type": "stream",
          "name": "stdout",
          "text": [
            "1\n",
            "3\n",
            "5\n",
            "7\n",
            "9\n"
          ]
        }
      ]
    },
    {
      "cell_type": "code",
      "source": [
        "for i in range(5):\n",
        "    print('*'*(2*i+1))"
      ],
      "metadata": {
        "colab": {
          "base_uri": "https://localhost:8080/"
        },
        "id": "DhPbvecc6uLn",
        "outputId": "211c83c2-09cb-4363-e9da-0853330c0cda"
      },
      "execution_count": null,
      "outputs": [
        {
          "output_type": "stream",
          "name": "stdout",
          "text": [
            "*\n",
            "***\n",
            "*****\n",
            "*******\n",
            "*********\n"
          ]
        }
      ]
    },
    {
      "cell_type": "code",
      "source": [
        "for i in range(5):\n",
        "    print(' '*i+'*'*(2*i+1))"
      ],
      "metadata": {
        "colab": {
          "base_uri": "https://localhost:8080/"
        },
        "id": "jyf9kCCk63-F",
        "outputId": "a27934b5-8d9d-4838-c061-5d7f46d06991"
      },
      "execution_count": null,
      "outputs": [
        {
          "output_type": "stream",
          "name": "stdout",
          "text": [
            "*\n",
            " ***\n",
            "  *****\n",
            "   *******\n",
            "    *********\n"
          ]
        }
      ]
    },
    {
      "cell_type": "code",
      "source": [
        "for i in range(5):\n",
        "    print(' '*(5-i)+'*'*(2*i+1))"
      ],
      "metadata": {
        "colab": {
          "base_uri": "https://localhost:8080/"
        },
        "id": "TUylIl7B8yTR",
        "outputId": "64295b70-b31d-4c12-a590-d10095485413"
      },
      "execution_count": null,
      "outputs": [
        {
          "output_type": "stream",
          "name": "stdout",
          "text": [
            "     *\n",
            "    ***\n",
            "   *****\n",
            "  *******\n",
            " *********\n"
          ]
        }
      ]
    },
    {
      "cell_type": "markdown",
      "source": [
        "### 綜合練習 02\n",
        "\n",
        "請將上面的程式碼打包成一個函式，輸入一個整數n，畫出高度為n的金字塔。"
      ],
      "metadata": {
        "id": "EyaJAnKH8Kb_"
      }
    },
    {
      "cell_type": "code",
      "source": [
        "def pyramid(n):\n",
        "  pass"
      ],
      "metadata": {
        "id": "iw_a5u187zXw"
      },
      "execution_count": null,
      "outputs": []
    },
    {
      "cell_type": "code",
      "source": [
        "def pyramid(n):\n",
        "    for i in range(n):\n",
        "        print(' '*(n-i)+'*'*(2*i+1))"
      ],
      "metadata": {
        "id": "OZcwqyeS9MYr"
      },
      "execution_count": null,
      "outputs": []
    },
    {
      "cell_type": "code",
      "source": [
        "pyramid(7)"
      ],
      "metadata": {
        "colab": {
          "base_uri": "https://localhost:8080/"
        },
        "id": "153IH9IZ9O09",
        "outputId": "d18f91a8-568c-44ad-f7bc-7346ecee0891"
      },
      "execution_count": null,
      "outputs": [
        {
          "output_type": "stream",
          "name": "stdout",
          "text": [
            "       *\n",
            "      ***\n",
            "     *****\n",
            "    *******\n",
            "   *********\n",
            "  ***********\n",
            " *************\n"
          ]
        }
      ]
    },
    {
      "cell_type": "markdown",
      "source": [
        "## zerojudge.tw使用簡介\n",
        "\n",
        "* 如何讀取資料？ => input()\n",
        "* 如何印出結果？ => print()"
      ],
      "metadata": {
        "id": "s6OIq8gV9mVI"
      }
    },
    {
      "cell_type": "code",
      "source": [
        "input?"
      ],
      "metadata": {
        "id": "Z3otdmc69Qhq"
      },
      "execution_count": null,
      "outputs": []
    },
    {
      "cell_type": "code",
      "source": [
        "x = input('請輸入一個整數：')"
      ],
      "metadata": {
        "colab": {
          "base_uri": "https://localhost:8080/"
        },
        "id": "m6MD_UM_-Ddu",
        "outputId": "38a5497d-5282-483d-ea2c-ad5c6a2249d9"
      },
      "execution_count": null,
      "outputs": [
        {
          "name": "stdout",
          "output_type": "stream",
          "text": [
            "請輸入一個整數：10\n"
          ]
        }
      ]
    },
    {
      "cell_type": "code",
      "source": [
        "x"
      ],
      "metadata": {
        "colab": {
          "base_uri": "https://localhost:8080/",
          "height": 36
        },
        "id": "hEfHIgYh-Umv",
        "outputId": "f8203283-d1ea-4d50-e972-4569b920fda3"
      },
      "execution_count": null,
      "outputs": [
        {
          "output_type": "execute_result",
          "data": {
            "text/plain": [
              "'10'"
            ],
            "application/vnd.google.colaboratory.intrinsic+json": {
              "type": "string"
            }
          },
          "metadata": {},
          "execution_count": 19
        }
      ]
    },
    {
      "cell_type": "code",
      "source": [
        "int(x)"
      ],
      "metadata": {
        "colab": {
          "base_uri": "https://localhost:8080/"
        },
        "id": "aK-cSdAN-YIo",
        "outputId": "2b0e383d-ebfc-40b2-e441-564c664d5bd5"
      },
      "execution_count": null,
      "outputs": [
        {
          "output_type": "execute_result",
          "data": {
            "text/plain": [
              "10"
            ]
          },
          "metadata": {},
          "execution_count": 20
        }
      ]
    },
    {
      "cell_type": "code",
      "source": [
        "x + 1"
      ],
      "metadata": {
        "colab": {
          "base_uri": "https://localhost:8080/",
          "height": 144
        },
        "id": "jo_wcAqY-r1r",
        "outputId": "40ccd3cd-6f69-4e82-be72-94c92fe97065"
      },
      "execution_count": null,
      "outputs": [
        {
          "output_type": "error",
          "ename": "TypeError",
          "evalue": "can only concatenate str (not \"int\") to str",
          "traceback": [
            "\u001b[0;31m---------------------------------------------------------------------------\u001b[0m",
            "\u001b[0;31mTypeError\u001b[0m                                 Traceback (most recent call last)",
            "\u001b[0;32m<ipython-input-21-eaf7b6991020>\u001b[0m in \u001b[0;36m<cell line: 1>\u001b[0;34m()\u001b[0m\n\u001b[0;32m----> 1\u001b[0;31m \u001b[0mx\u001b[0m \u001b[0;34m+\u001b[0m \u001b[0;36m1\u001b[0m\u001b[0;34m\u001b[0m\u001b[0;34m\u001b[0m\u001b[0m\n\u001b[0m",
            "\u001b[0;31mTypeError\u001b[0m: can only concatenate str (not \"int\") to str"
          ]
        }
      ]
    },
    {
      "cell_type": "code",
      "source": [
        "print?"
      ],
      "metadata": {
        "id": "jd-SeaW--yqk"
      },
      "execution_count": null,
      "outputs": []
    },
    {
      "cell_type": "code",
      "source": [
        "print(1, 2, 3, 4, 5)"
      ],
      "metadata": {
        "colab": {
          "base_uri": "https://localhost:8080/"
        },
        "id": "gOkjj9QK_D2p",
        "outputId": "cf603d5b-36be-4ef7-88d8-9d67d222ea8b"
      },
      "execution_count": null,
      "outputs": [
        {
          "output_type": "stream",
          "name": "stdout",
          "text": [
            "1 2 3 4 5\n"
          ]
        }
      ]
    },
    {
      "cell_type": "code",
      "source": [
        "print(1, 2, 3, 4, 5, sep='-')"
      ],
      "metadata": {
        "colab": {
          "base_uri": "https://localhost:8080/"
        },
        "id": "Ikkot1Td_MWW",
        "outputId": "4940ac83-d3c6-4aa8-feeb-b5954fa3e11d"
      },
      "execution_count": null,
      "outputs": [
        {
          "output_type": "stream",
          "name": "stdout",
          "text": [
            "1-2-3-4-5\n"
          ]
        }
      ]
    },
    {
      "cell_type": "code",
      "source": [
        "print(1, 2, 3)\n",
        "print(4, 5, 6)"
      ],
      "metadata": {
        "colab": {
          "base_uri": "https://localhost:8080/"
        },
        "id": "L_7ELBPz_d09",
        "outputId": "a4e21dca-de27-4fbe-b399-ba5c76c0b72d"
      },
      "execution_count": null,
      "outputs": [
        {
          "output_type": "stream",
          "name": "stdout",
          "text": [
            "1 2 3\n",
            "4 5 6\n"
          ]
        }
      ]
    },
    {
      "cell_type": "code",
      "source": [
        "print(1, 2, 3, end=\" \")\n",
        "print(4, 5, 6)"
      ],
      "metadata": {
        "colab": {
          "base_uri": "https://localhost:8080/"
        },
        "id": "q4cW-81k_zQo",
        "outputId": "69f0d0c3-21f4-4b97-f98e-63666a56c654"
      },
      "execution_count": null,
      "outputs": [
        {
          "output_type": "stream",
          "name": "stdout",
          "text": [
            "1 2 3 4 5 6\n"
          ]
        }
      ]
    },
    {
      "cell_type": "code",
      "source": [
        "print(1, 2, 3, end=\"+++\")\n",
        "print(4, 5, 6)"
      ],
      "metadata": {
        "colab": {
          "base_uri": "https://localhost:8080/"
        },
        "id": "FSsXADPd_5lX",
        "outputId": "b0ac0849-cdf3-4845-804c-fcfd2893b3a5"
      },
      "execution_count": null,
      "outputs": [
        {
          "output_type": "stream",
          "name": "stdout",
          "text": [
            "1 2 3+++4 5 6\n"
          ]
        }
      ]
    },
    {
      "cell_type": "markdown",
      "source": [
        "## 字串的格式化\n",
        "\n",
        "* python2\n",
        "* python3\n",
        "* f-string"
      ],
      "metadata": {
        "id": "woab4r09AFRc"
      }
    },
    {
      "cell_type": "code",
      "source": [
        "# python2字串格式化方式\n",
        "m = 1\n",
        "n = 3.14159\n",
        "print('m=%d, n=%f' % (m, n))"
      ],
      "metadata": {
        "colab": {
          "base_uri": "https://localhost:8080/"
        },
        "id": "VGusyA9z_9-n",
        "outputId": "2bf4bc77-fe79-441f-e60d-b00628cd831b"
      },
      "execution_count": null,
      "outputs": [
        {
          "output_type": "stream",
          "name": "stdout",
          "text": [
            "m=1, n=3.141590\n"
          ]
        }
      ]
    },
    {
      "cell_type": "code",
      "source": [
        "# python3字串格式化方式\n",
        "print('m={}, n={}'.format(m, n))"
      ],
      "metadata": {
        "colab": {
          "base_uri": "https://localhost:8080/"
        },
        "id": "SMkW0eGnAXYc",
        "outputId": "45620fed-3a85-494e-9bc3-5af5ff75f75d"
      },
      "execution_count": null,
      "outputs": [
        {
          "output_type": "stream",
          "name": "stdout",
          "text": [
            "m=1, n=3.14159\n"
          ]
        }
      ]
    },
    {
      "cell_type": "code",
      "source": [
        "# f-string\n",
        "print(f'm={m}, n={n}')"
      ],
      "metadata": {
        "colab": {
          "base_uri": "https://localhost:8080/"
        },
        "id": "EwVOTJZjAfoA",
        "outputId": "0bdc1382-8b58-4f06-9a05-e3e844308d15"
      },
      "execution_count": null,
      "outputs": [
        {
          "output_type": "stream",
          "name": "stdout",
          "text": [
            "m=1, n=3.14159\n"
          ]
        }
      ]
    },
    {
      "cell_type": "markdown",
      "source": [
        "## Python的基礎語法\n",
        "\n",
        "* 條件式 => if statements\n",
        "* 迴圈 => loops\n",
        "* 函式 => functions\n",
        "* 例外處理 => exception handling"
      ],
      "metadata": {
        "id": "9qlu1XjGDs__"
      }
    },
    {
      "cell_type": "markdown",
      "source": [
        "### 條件式"
      ],
      "metadata": {
        "id": "6BpfwfZqFJGx"
      }
    },
    {
      "cell_type": "code",
      "source": [
        "m = 3\n",
        "n = 2"
      ],
      "metadata": {
        "colab": {
          "base_uri": "https://localhost:8080/"
        },
        "id": "wv-o912eAi4w",
        "outputId": "74b68f2d-357a-4fc4-997b-0064467ee6f0"
      },
      "execution_count": null,
      "outputs": [
        {
          "output_type": "stream",
          "name": "stdout",
          "text": [
            "m is greater than n\n"
          ]
        }
      ]
    },
    {
      "cell_type": "code",
      "source": [
        "if m > n:\n",
        "    print('m is greater than n')"
      ],
      "metadata": {
        "id": "qnuYyEyHEG8Y"
      },
      "execution_count": null,
      "outputs": []
    },
    {
      "cell_type": "code",
      "source": [
        "if m > n:\n",
        "    print('m is greater than n')\n",
        "else:\n",
        "    print('m is not greater than n')"
      ],
      "metadata": {
        "colab": {
          "base_uri": "https://localhost:8080/"
        },
        "id": "xHL37S2IEUyB",
        "outputId": "f8399fe4-13d7-4d55-9bf9-422bc0e059c4"
      },
      "execution_count": null,
      "outputs": [
        {
          "output_type": "stream",
          "name": "stdout",
          "text": [
            "m is greater than n\n"
          ]
        }
      ]
    },
    {
      "cell_type": "code",
      "source": [
        "if m > n:\n",
        "    print('m is greater than n')\n",
        "elif m < n:\n",
        "    print('m is less than n')\n",
        "else:\n",
        "    print('m is equal to n')"
      ],
      "metadata": {
        "colab": {
          "base_uri": "https://localhost:8080/"
        },
        "id": "tcM0gL_CEbv2",
        "outputId": "93d520a7-1a42-49db-fc5a-7865d5e8dbb7"
      },
      "execution_count": null,
      "outputs": [
        {
          "output_type": "stream",
          "name": "stdout",
          "text": [
            "m is greater than n\n"
          ]
        }
      ]
    },
    {
      "cell_type": "markdown",
      "source": [
        "### 迴圈 (loops)\n",
        "\n",
        "* for\n",
        "* while"
      ],
      "metadata": {
        "id": "Z665oRPpFclV"
      }
    },
    {
      "cell_type": "markdown",
      "source": [
        "#### for loop"
      ],
      "metadata": {
        "id": "NMsPX28-Fu1m"
      }
    },
    {
      "cell_type": "code",
      "source": [
        "for i in range(3):\n",
        "    print(i)"
      ],
      "metadata": {
        "colab": {
          "base_uri": "https://localhost:8080/"
        },
        "id": "9U4BVSLkElVP",
        "outputId": "7f35670c-caf8-4261-d380-d0ccfd642e22"
      },
      "execution_count": null,
      "outputs": [
        {
          "output_type": "stream",
          "name": "stdout",
          "text": [
            "0\n",
            "1\n",
            "2\n"
          ]
        }
      ]
    },
    {
      "cell_type": "code",
      "source": [
        "for i in range(3):\n",
        "    print('程式區塊開始')\n",
        "    print(i)\n",
        "    print('程式區塊結束')"
      ],
      "metadata": {
        "colab": {
          "base_uri": "https://localhost:8080/"
        },
        "id": "s6CxeJ3qFyzD",
        "outputId": "1d8e97ab-a496-4323-a3f2-c5d63402a760"
      },
      "execution_count": null,
      "outputs": [
        {
          "output_type": "stream",
          "name": "stdout",
          "text": [
            "程式區塊開始\n",
            "0\n",
            "程式區塊結束\n",
            "程式區塊開始\n",
            "1\n",
            "程式區塊結束\n",
            "程式區塊開始\n",
            "2\n",
            "程式區塊結束\n"
          ]
        }
      ]
    },
    {
      "cell_type": "code",
      "source": [
        "for i in range(3):\n",
        "    print('程式區塊開始')\n",
        "    print(i)\n",
        "print('程式區塊結束')"
      ],
      "metadata": {
        "colab": {
          "base_uri": "https://localhost:8080/"
        },
        "id": "Y22SiFCxF_FN",
        "outputId": "ebf33d85-7da0-49a9-d8c3-8056e4f3b49b"
      },
      "execution_count": null,
      "outputs": [
        {
          "output_type": "stream",
          "name": "stdout",
          "text": [
            "程式區塊開始\n",
            "0\n",
            "程式區塊開始\n",
            "1\n",
            "程式區塊開始\n",
            "2\n",
            "程式區塊結束\n"
          ]
        }
      ]
    },
    {
      "cell_type": "code",
      "source": [
        "x = ['aaa', 'bbb', 'ccc']"
      ],
      "metadata": {
        "id": "noQfY5OXGHxs"
      },
      "execution_count": null,
      "outputs": []
    },
    {
      "cell_type": "code",
      "source": [
        "for i in x:\n",
        "    print(i)"
      ],
      "metadata": {
        "colab": {
          "base_uri": "https://localhost:8080/"
        },
        "id": "_voQyCLGGjmS",
        "outputId": "52dcdd3f-6825-4a4e-fff8-b601ba1109ca"
      },
      "execution_count": null,
      "outputs": [
        {
          "output_type": "stream",
          "name": "stdout",
          "text": [
            "aaa\n",
            "bbb\n",
            "ccc\n"
          ]
        }
      ]
    },
    {
      "cell_type": "code",
      "source": [
        "d = {}\n",
        "d['a'] = 1\n",
        "d['b'] = 2\n",
        "d['c'] = 3"
      ],
      "metadata": {
        "id": "YA7ALVOsGr9d"
      },
      "execution_count": null,
      "outputs": []
    },
    {
      "cell_type": "code",
      "source": [
        "d"
      ],
      "metadata": {
        "colab": {
          "base_uri": "https://localhost:8080/"
        },
        "id": "gGD4Rws6G4Dl",
        "outputId": "af075e71-d351-4f89-f1f4-c171b5fe0c0d"
      },
      "execution_count": null,
      "outputs": [
        {
          "output_type": "execute_result",
          "data": {
            "text/plain": [
              "{'a': 1, 'b': 2, 'c': 3}"
            ]
          },
          "metadata": {},
          "execution_count": 42
        }
      ]
    },
    {
      "cell_type": "code",
      "source": [
        "for i in d:\n",
        "  print(i)"
      ],
      "metadata": {
        "colab": {
          "base_uri": "https://localhost:8080/"
        },
        "id": "F4i696G0G4W8",
        "outputId": "4e65a0d0-e855-4bb9-dafe-885ef2ec7367"
      },
      "execution_count": null,
      "outputs": [
        {
          "output_type": "stream",
          "name": "stdout",
          "text": [
            "a\n",
            "b\n",
            "c\n"
          ]
        }
      ]
    },
    {
      "cell_type": "code",
      "source": [
        "# a => 1\n",
        "# b => 2\n",
        "# c => 3\n",
        "for i in d:\n",
        "  print(i, \"==>\", d[i])"
      ],
      "metadata": {
        "colab": {
          "base_uri": "https://localhost:8080/"
        },
        "id": "VnXHy8ZkHEdn",
        "outputId": "30ea9990-2685-4b80-b78b-a3be922c471a"
      },
      "execution_count": null,
      "outputs": [
        {
          "output_type": "stream",
          "name": "stdout",
          "text": [
            "a ==> 1\n",
            "b ==> 2\n",
            "c ==> 3\n"
          ]
        }
      ]
    },
    {
      "cell_type": "code",
      "source": [
        "# 寫一個迴圈印出彩虹的顏色\n",
        "colors = ['red', 'orange', 'yellow', 'green', 'blue', 'indigo', 'violet']\n",
        "for i in colors:\n",
        "  print(i)"
      ],
      "metadata": {
        "colab": {
          "base_uri": "https://localhost:8080/"
        },
        "id": "Oh9aBJ2MHY28",
        "outputId": "46565b6d-b52f-4cb6-ed4a-3080c4089f5c"
      },
      "execution_count": null,
      "outputs": [
        {
          "output_type": "stream",
          "name": "stdout",
          "text": [
            "red\n",
            "orange\n",
            "yellow\n",
            "green\n",
            "blue\n",
            "indigo\n",
            "violet\n"
          ]
        }
      ]
    },
    {
      "cell_type": "code",
      "source": [
        "'a' in d"
      ],
      "metadata": {
        "colab": {
          "base_uri": "https://localhost:8080/"
        },
        "id": "E-v1KOohHhfN",
        "outputId": "67f89510-b5ab-45f3-8d6c-8cb25ef2e6ba"
      },
      "execution_count": null,
      "outputs": [
        {
          "output_type": "execute_result",
          "data": {
            "text/plain": [
              "True"
            ]
          },
          "metadata": {},
          "execution_count": 47
        }
      ]
    },
    {
      "cell_type": "code",
      "source": [
        "if 'a' in d:\n",
        "  print(f'a is in d, its value is {d[\"a\"]}')"
      ],
      "metadata": {
        "colab": {
          "base_uri": "https://localhost:8080/"
        },
        "id": "EpFSh2WuIXng",
        "outputId": "04e0932b-b242-46c9-c562-dafd61e35413"
      },
      "execution_count": null,
      "outputs": [
        {
          "output_type": "stream",
          "name": "stdout",
          "text": [
            "a is in d, its value is 1\n"
          ]
        }
      ]
    },
    {
      "cell_type": "markdown",
      "source": [
        "#### 關於字串的引號(' v.s. \")"
      ],
      "metadata": {
        "id": "dVPwoc9sIqEa"
      }
    },
    {
      "cell_type": "code",
      "source": [
        "s1 = 'my dog'"
      ],
      "metadata": {
        "id": "TUnHPGqVIi3a"
      },
      "execution_count": null,
      "outputs": []
    },
    {
      "cell_type": "code",
      "source": [
        "s2 = \"my dog\""
      ],
      "metadata": {
        "id": "Sa1O9FoVIz3F"
      },
      "execution_count": null,
      "outputs": []
    },
    {
      "cell_type": "code",
      "source": [
        "s3 = \"my dog's name is Bob\""
      ],
      "metadata": {
        "id": "p8TaV4L0I1-7"
      },
      "execution_count": null,
      "outputs": []
    },
    {
      "cell_type": "code",
      "source": [
        "s4 = 'my dog\\'s name is Bob'"
      ],
      "metadata": {
        "id": "GMrxychNI_XH"
      },
      "execution_count": null,
      "outputs": []
    },
    {
      "cell_type": "markdown",
      "source": [
        "#### while loop"
      ],
      "metadata": {
        "id": "v3-_-INhJfKA"
      }
    },
    {
      "cell_type": "code",
      "source": [
        "for i in range(5):\n",
        "  print(i)"
      ],
      "metadata": {
        "colab": {
          "base_uri": "https://localhost:8080/"
        },
        "id": "MZN3nbq7I5Xs",
        "outputId": "173c6ab1-dc43-4fb8-b3fc-c47c737f7135"
      },
      "execution_count": null,
      "outputs": [
        {
          "output_type": "stream",
          "name": "stdout",
          "text": [
            "0\n",
            "1\n",
            "2\n",
            "3\n",
            "4\n"
          ]
        }
      ]
    },
    {
      "cell_type": "code",
      "source": [
        "i = 0\n",
        "while i < 5:\n",
        "  print(i)\n",
        "  i = i + 1  # i += 1"
      ],
      "metadata": {
        "colab": {
          "base_uri": "https://localhost:8080/"
        },
        "id": "QFaLunrLJmrA",
        "outputId": "7bdc43ac-6f27-4bf3-8157-e19262306cbc"
      },
      "execution_count": null,
      "outputs": [
        {
          "output_type": "stream",
          "name": "stdout",
          "text": [
            "0\n",
            "1\n",
            "2\n",
            "3\n",
            "4\n"
          ]
        }
      ]
    },
    {
      "cell_type": "code",
      "source": [
        "# 無限迴圈\n",
        "while True:\n",
        "  print('Hello World!')"
      ],
      "metadata": {
        "colab": {
          "base_uri": "https://localhost:8080/",
          "height": 1000
        },
        "collapsed": true,
        "id": "eWMWQzJDJu7L",
        "outputId": "ad4453ee-1d95-4e94-9473-9b574fb7829e"
      },
      "execution_count": null,
      "outputs": [
        {
          "output_type": "stream",
          "name": "stdout",
          "text": [
            "\u001b[1;30;43mStreaming output truncated to the last 5000 lines.\u001b[0m\n",
            "Hello World!\n",
            "Hello World!\n",
            "Hello World!\n",
            "Hello World!\n",
            "Hello World!\n",
            "Hello World!\n",
            "Hello World!\n",
            "Hello World!\n",
            "Hello World!\n",
            "Hello World!\n",
            "Hello World!\n",
            "Hello World!\n",
            "Hello World!\n",
            "Hello World!\n",
            "Hello World!\n",
            "Hello World!\n",
            "Hello World!\n",
            "Hello World!\n",
            "Hello World!\n",
            "Hello World!\n",
            "Hello World!\n",
            "Hello World!\n",
            "Hello World!\n",
            "Hello World!\n",
            "Hello World!\n",
            "Hello World!\n",
            "Hello World!\n",
            "Hello World!\n",
            "Hello World!\n",
            "Hello World!\n",
            "Hello World!\n",
            "Hello World!\n",
            "Hello World!\n",
            "Hello World!\n",
            "Hello World!\n",
            "Hello World!\n",
            "Hello World!\n",
            "Hello World!\n",
            "Hello World!\n",
            "Hello World!\n",
            "Hello World!\n",
            "Hello World!\n",
            "Hello World!\n",
            "Hello World!\n",
            "Hello World!\n",
            "Hello World!\n",
            "Hello World!\n",
            "Hello World!\n",
            "Hello World!\n",
            "Hello World!\n",
            "Hello World!\n",
            "Hello World!\n",
            "Hello World!\n",
            "Hello World!\n",
            "Hello World!\n",
            "Hello World!\n",
            "Hello World!\n",
            "Hello World!\n",
            "Hello World!\n",
            "Hello World!\n",
            "Hello World!\n",
            "Hello World!\n",
            "Hello World!\n",
            "Hello World!\n",
            "Hello World!\n",
            "Hello World!\n",
            "Hello World!\n",
            "Hello World!\n",
            "Hello World!\n",
            "Hello World!\n",
            "Hello World!\n",
            "Hello World!\n",
            "Hello World!\n",
            "Hello World!\n",
            "Hello World!\n",
            "Hello World!\n",
            "Hello World!\n",
            "Hello World!\n",
            "Hello World!\n",
            "Hello World!\n",
            "Hello World!\n",
            "Hello World!\n",
            "Hello World!\n",
            "Hello World!\n",
            "Hello World!\n",
            "Hello World!\n",
            "Hello World!\n",
            "Hello World!\n",
            "Hello World!\n",
            "Hello World!\n",
            "Hello World!\n",
            "Hello World!\n",
            "Hello World!\n",
            "Hello World!\n",
            "Hello World!\n",
            "Hello World!\n",
            "Hello World!\n",
            "Hello World!\n",
            "Hello World!\n",
            "Hello World!\n",
            "Hello World!\n",
            "Hello World!\n",
            "Hello World!\n",
            "Hello World!\n",
            "Hello World!\n",
            "Hello World!\n",
            "Hello World!\n",
            "Hello World!\n",
            "Hello World!\n",
            "Hello World!\n",
            "Hello World!\n",
            "Hello World!\n",
            "Hello World!\n",
            "Hello World!\n",
            "Hello World!\n",
            "Hello World!\n",
            "Hello World!\n",
            "Hello World!\n",
            "Hello World!\n",
            "Hello World!\n",
            "Hello World!\n",
            "Hello World!\n",
            "Hello World!\n",
            "Hello World!\n",
            "Hello World!\n",
            "Hello World!\n",
            "Hello World!\n",
            "Hello World!\n",
            "Hello World!\n",
            "Hello World!\n",
            "Hello World!\n",
            "Hello World!\n",
            "Hello World!\n",
            "Hello World!\n",
            "Hello World!\n",
            "Hello World!\n",
            "Hello World!\n",
            "Hello World!\n",
            "Hello World!\n",
            "Hello World!\n",
            "Hello World!\n",
            "Hello World!\n",
            "Hello World!\n",
            "Hello World!\n",
            "Hello World!\n",
            "Hello World!\n",
            "Hello World!\n",
            "Hello World!\n",
            "Hello World!\n",
            "Hello World!\n",
            "Hello World!\n",
            "Hello World!\n",
            "Hello World!\n",
            "Hello World!\n",
            "Hello World!\n",
            "Hello World!\n",
            "Hello World!\n",
            "Hello World!\n",
            "Hello World!\n",
            "Hello World!\n",
            "Hello World!\n",
            "Hello World!\n",
            "Hello World!\n",
            "Hello World!\n",
            "Hello World!\n",
            "Hello World!\n",
            "Hello World!\n",
            "Hello World!\n",
            "Hello World!\n",
            "Hello World!\n",
            "Hello World!\n",
            "Hello World!\n",
            "Hello World!\n",
            "Hello World!\n",
            "Hello World!\n",
            "Hello World!\n",
            "Hello World!\n",
            "Hello World!\n",
            "Hello World!\n",
            "Hello World!\n",
            "Hello World!\n",
            "Hello World!\n",
            "Hello World!\n",
            "Hello World!\n",
            "Hello World!\n",
            "Hello World!\n",
            "Hello World!\n",
            "Hello World!\n",
            "Hello World!\n",
            "Hello World!\n",
            "Hello World!\n",
            "Hello World!\n",
            "Hello World!\n",
            "Hello World!\n",
            "Hello World!\n",
            "Hello World!\n",
            "Hello World!\n",
            "Hello World!\n",
            "Hello World!\n",
            "Hello World!\n",
            "Hello World!\n",
            "Hello World!\n",
            "Hello World!\n",
            "Hello World!\n",
            "Hello World!\n",
            "Hello World!\n",
            "Hello World!\n",
            "Hello World!\n",
            "Hello World!\n",
            "Hello World!\n",
            "Hello World!\n",
            "Hello World!\n",
            "Hello World!\n",
            "Hello World!\n",
            "Hello World!\n",
            "Hello World!\n",
            "Hello World!\n",
            "Hello World!\n",
            "Hello World!\n",
            "Hello World!\n",
            "Hello World!\n",
            "Hello World!\n",
            "Hello World!\n",
            "Hello World!\n",
            "Hello World!\n",
            "Hello World!\n",
            "Hello World!\n",
            "Hello World!\n",
            "Hello World!\n",
            "Hello World!\n",
            "Hello World!\n",
            "Hello World!\n",
            "Hello World!\n",
            "Hello World!\n",
            "Hello World!\n",
            "Hello World!\n",
            "Hello World!\n",
            "Hello World!\n",
            "Hello World!\n",
            "Hello World!\n",
            "Hello World!\n",
            "Hello World!\n",
            "Hello World!\n",
            "Hello World!\n",
            "Hello World!\n",
            "Hello World!\n",
            "Hello World!\n",
            "Hello World!\n",
            "Hello World!\n",
            "Hello World!\n",
            "Hello World!\n",
            "Hello World!\n",
            "Hello World!\n",
            "Hello World!\n",
            "Hello World!\n",
            "Hello World!\n",
            "Hello World!\n",
            "Hello World!\n",
            "Hello World!\n",
            "Hello World!\n",
            "Hello World!\n",
            "Hello World!\n",
            "Hello World!\n",
            "Hello World!\n",
            "Hello World!\n",
            "Hello World!\n",
            "Hello World!\n",
            "Hello World!\n",
            "Hello World!\n",
            "Hello World!\n",
            "Hello World!\n",
            "Hello World!\n",
            "Hello World!\n",
            "Hello World!\n",
            "Hello World!\n",
            "Hello World!\n",
            "Hello World!\n",
            "Hello World!\n",
            "Hello World!\n",
            "Hello World!\n",
            "Hello World!\n",
            "Hello World!\n",
            "Hello World!\n",
            "Hello World!\n",
            "Hello World!\n",
            "Hello World!\n",
            "Hello World!\n",
            "Hello World!\n",
            "Hello World!\n",
            "Hello World!\n",
            "Hello World!\n",
            "Hello World!\n",
            "Hello World!\n",
            "Hello World!\n",
            "Hello World!\n",
            "Hello World!\n",
            "Hello World!\n",
            "Hello World!\n",
            "Hello World!\n",
            "Hello World!\n",
            "Hello World!\n",
            "Hello World!\n",
            "Hello World!\n",
            "Hello World!\n",
            "Hello World!\n",
            "Hello World!\n",
            "Hello World!\n",
            "Hello World!\n",
            "Hello World!\n",
            "Hello World!\n",
            "Hello World!\n",
            "Hello World!\n",
            "Hello World!\n",
            "Hello World!\n",
            "Hello World!\n",
            "Hello World!\n",
            "Hello World!\n",
            "Hello World!\n",
            "Hello World!\n",
            "Hello World!\n",
            "Hello World!\n",
            "Hello World!\n",
            "Hello World!\n",
            "Hello World!\n",
            "Hello World!\n",
            "Hello World!\n",
            "Hello World!\n",
            "Hello World!\n",
            "Hello World!\n",
            "Hello World!\n",
            "Hello World!\n",
            "Hello World!\n",
            "Hello World!\n",
            "Hello World!\n",
            "Hello World!\n",
            "Hello World!\n",
            "Hello World!\n",
            "Hello World!\n",
            "Hello World!\n",
            "Hello World!\n",
            "Hello World!\n",
            "Hello World!\n",
            "Hello World!\n",
            "Hello World!\n",
            "Hello World!\n",
            "Hello World!\n",
            "Hello World!\n",
            "Hello World!\n",
            "Hello World!\n",
            "Hello World!\n",
            "Hello World!\n",
            "Hello World!\n",
            "Hello World!\n",
            "Hello World!\n",
            "Hello World!\n",
            "Hello World!\n",
            "Hello World!\n",
            "Hello World!\n",
            "Hello World!\n",
            "Hello World!\n",
            "Hello World!\n",
            "Hello World!\n",
            "Hello World!\n",
            "Hello World!\n",
            "Hello World!\n",
            "Hello World!\n",
            "Hello World!\n",
            "Hello World!\n",
            "Hello World!\n",
            "Hello World!\n",
            "Hello World!\n",
            "Hello World!\n",
            "Hello World!\n",
            "Hello World!\n",
            "Hello World!\n",
            "Hello World!\n",
            "Hello World!\n",
            "Hello World!\n",
            "Hello World!\n",
            "Hello World!\n",
            "Hello World!\n",
            "Hello World!\n",
            "Hello World!\n",
            "Hello World!\n",
            "Hello World!\n",
            "Hello World!\n",
            "Hello World!\n",
            "Hello World!\n",
            "Hello World!\n",
            "Hello World!\n",
            "Hello World!\n",
            "Hello World!\n",
            "Hello World!\n",
            "Hello World!\n",
            "Hello World!\n",
            "Hello World!\n",
            "Hello World!\n",
            "Hello World!\n",
            "Hello World!\n",
            "Hello World!\n",
            "Hello World!\n",
            "Hello World!\n",
            "Hello World!\n",
            "Hello World!\n",
            "Hello World!\n",
            "Hello World!\n",
            "Hello World!\n",
            "Hello World!\n",
            "Hello World!\n",
            "Hello World!\n",
            "Hello World!\n",
            "Hello World!\n",
            "Hello World!\n",
            "Hello World!\n",
            "Hello World!\n",
            "Hello World!\n",
            "Hello World!\n",
            "Hello World!\n",
            "Hello World!\n",
            "Hello World!\n",
            "Hello World!\n",
            "Hello World!\n",
            "Hello World!\n",
            "Hello World!\n",
            "Hello World!\n",
            "Hello World!\n",
            "Hello World!\n",
            "Hello World!\n",
            "Hello World!\n",
            "Hello World!\n",
            "Hello World!\n",
            "Hello World!\n",
            "Hello World!\n",
            "Hello World!\n",
            "Hello World!\n",
            "Hello World!\n",
            "Hello World!\n",
            "Hello World!\n",
            "Hello World!\n",
            "Hello World!\n",
            "Hello World!\n",
            "Hello World!\n",
            "Hello World!\n",
            "Hello World!\n",
            "Hello World!\n",
            "Hello World!\n",
            "Hello World!\n",
            "Hello World!\n",
            "Hello World!\n",
            "Hello World!\n",
            "Hello World!\n",
            "Hello World!\n",
            "Hello World!\n",
            "Hello World!\n",
            "Hello World!\n",
            "Hello World!\n",
            "Hello World!\n",
            "Hello World!\n",
            "Hello World!\n",
            "Hello World!\n",
            "Hello World!\n",
            "Hello World!\n",
            "Hello World!\n",
            "Hello World!\n",
            "Hello World!\n",
            "Hello World!\n",
            "Hello World!\n",
            "Hello World!\n",
            "Hello World!\n",
            "Hello World!\n",
            "Hello World!\n",
            "Hello World!\n",
            "Hello World!\n",
            "Hello World!\n",
            "Hello World!\n",
            "Hello World!\n",
            "Hello World!\n",
            "Hello World!\n",
            "Hello World!\n",
            "Hello World!\n",
            "Hello World!\n",
            "Hello World!\n",
            "Hello World!\n",
            "Hello World!\n",
            "Hello World!\n",
            "Hello World!\n",
            "Hello World!\n",
            "Hello World!\n",
            "Hello World!\n",
            "Hello World!\n",
            "Hello World!\n",
            "Hello World!\n",
            "Hello World!\n",
            "Hello World!\n",
            "Hello World!\n",
            "Hello World!\n",
            "Hello World!\n",
            "Hello World!\n",
            "Hello World!\n",
            "Hello World!\n",
            "Hello World!\n",
            "Hello World!\n",
            "Hello World!\n",
            "Hello World!\n",
            "Hello World!\n",
            "Hello World!\n",
            "Hello World!\n",
            "Hello World!\n",
            "Hello World!\n",
            "Hello World!\n",
            "Hello World!\n",
            "Hello World!\n",
            "Hello World!\n",
            "Hello World!\n",
            "Hello World!\n",
            "Hello World!\n",
            "Hello World!\n",
            "Hello World!\n",
            "Hello World!\n",
            "Hello World!\n",
            "Hello World!\n",
            "Hello World!\n",
            "Hello World!\n",
            "Hello World!\n",
            "Hello World!\n",
            "Hello World!\n",
            "Hello World!\n",
            "Hello World!\n",
            "Hello World!\n",
            "Hello World!\n",
            "Hello World!\n",
            "Hello World!\n",
            "Hello World!\n",
            "Hello World!\n",
            "Hello World!\n",
            "Hello World!\n",
            "Hello World!\n",
            "Hello World!\n",
            "Hello World!\n",
            "Hello World!\n",
            "Hello World!\n",
            "Hello World!\n",
            "Hello World!\n",
            "Hello World!\n",
            "Hello World!\n",
            "Hello World!\n",
            "Hello World!\n",
            "Hello World!\n",
            "Hello World!\n",
            "Hello World!\n",
            "Hello World!\n",
            "Hello World!\n",
            "Hello World!\n",
            "Hello World!\n",
            "Hello World!\n",
            "Hello World!\n",
            "Hello World!\n",
            "Hello World!\n",
            "Hello World!\n",
            "Hello World!\n",
            "Hello World!\n",
            "Hello World!\n",
            "Hello World!\n",
            "Hello World!\n",
            "Hello World!\n",
            "Hello World!\n",
            "Hello World!\n",
            "Hello World!\n",
            "Hello World!\n",
            "Hello World!\n",
            "Hello World!\n",
            "Hello World!\n",
            "Hello World!\n",
            "Hello World!\n",
            "Hello World!\n",
            "Hello World!\n",
            "Hello World!\n",
            "Hello World!\n",
            "Hello World!\n",
            "Hello World!\n",
            "Hello World!\n",
            "Hello World!\n",
            "Hello World!\n",
            "Hello World!\n",
            "Hello World!\n",
            "Hello World!\n",
            "Hello World!\n",
            "Hello World!\n",
            "Hello World!\n",
            "Hello World!\n",
            "Hello World!\n",
            "Hello World!\n",
            "Hello World!\n",
            "Hello World!\n",
            "Hello World!\n",
            "Hello World!\n",
            "Hello World!\n",
            "Hello World!\n",
            "Hello World!\n",
            "Hello World!\n",
            "Hello World!\n",
            "Hello World!\n",
            "Hello World!\n",
            "Hello World!\n",
            "Hello World!\n",
            "Hello World!\n",
            "Hello World!\n",
            "Hello World!\n",
            "Hello World!\n",
            "Hello World!\n",
            "Hello World!\n",
            "Hello World!\n",
            "Hello World!\n",
            "Hello World!\n",
            "Hello World!\n",
            "Hello World!\n",
            "Hello World!\n",
            "Hello World!\n",
            "Hello World!\n",
            "Hello World!\n",
            "Hello World!\n",
            "Hello World!\n",
            "Hello World!\n",
            "Hello World!\n",
            "Hello World!\n",
            "Hello World!\n",
            "Hello World!\n",
            "Hello World!\n",
            "Hello World!\n",
            "Hello World!\n",
            "Hello World!\n",
            "Hello World!\n",
            "Hello World!\n",
            "Hello World!\n",
            "Hello World!\n",
            "Hello World!\n",
            "Hello World!\n",
            "Hello World!\n",
            "Hello World!\n",
            "Hello World!\n",
            "Hello World!\n",
            "Hello World!\n",
            "Hello World!\n",
            "Hello World!\n",
            "Hello World!\n",
            "Hello World!\n",
            "Hello World!\n",
            "Hello World!\n",
            "Hello World!\n",
            "Hello World!\n",
            "Hello World!\n",
            "Hello World!\n",
            "Hello World!\n",
            "Hello World!\n",
            "Hello World!\n",
            "Hello World!\n",
            "Hello World!\n",
            "Hello World!\n",
            "Hello World!\n",
            "Hello World!\n",
            "Hello World!\n",
            "Hello World!\n",
            "Hello World!\n",
            "Hello World!\n",
            "Hello World!\n",
            "Hello World!\n",
            "Hello World!\n",
            "Hello World!\n",
            "Hello World!\n",
            "Hello World!\n",
            "Hello World!\n",
            "Hello World!\n",
            "Hello World!\n",
            "Hello World!\n",
            "Hello World!\n",
            "Hello World!\n",
            "Hello World!\n",
            "Hello World!\n",
            "Hello World!\n",
            "Hello World!\n",
            "Hello World!\n",
            "Hello World!\n",
            "Hello World!\n",
            "Hello World!\n",
            "Hello World!\n",
            "Hello World!\n",
            "Hello World!\n",
            "Hello World!\n",
            "Hello World!\n",
            "Hello World!\n",
            "Hello World!\n",
            "Hello World!\n",
            "Hello World!\n",
            "Hello World!\n",
            "Hello World!\n",
            "Hello World!\n",
            "Hello World!\n",
            "Hello World!\n",
            "Hello World!\n",
            "Hello World!\n",
            "Hello World!\n",
            "Hello World!\n",
            "Hello World!\n",
            "Hello World!\n",
            "Hello World!\n",
            "Hello World!\n",
            "Hello World!\n",
            "Hello World!\n",
            "Hello World!\n",
            "Hello World!\n",
            "Hello World!\n",
            "Hello World!\n",
            "Hello World!\n",
            "Hello World!\n",
            "Hello World!\n",
            "Hello World!\n",
            "Hello World!\n",
            "Hello World!\n",
            "Hello World!\n",
            "Hello World!\n",
            "Hello World!\n",
            "Hello World!\n",
            "Hello World!\n",
            "Hello World!\n",
            "Hello World!\n",
            "Hello World!\n",
            "Hello World!\n",
            "Hello World!\n",
            "Hello World!\n",
            "Hello World!\n",
            "Hello World!\n",
            "Hello World!\n",
            "Hello World!\n",
            "Hello World!\n",
            "Hello World!\n",
            "Hello World!\n",
            "Hello World!\n",
            "Hello World!\n",
            "Hello World!\n",
            "Hello World!\n",
            "Hello World!\n",
            "Hello World!\n",
            "Hello World!\n",
            "Hello World!\n",
            "Hello World!\n",
            "Hello World!\n",
            "Hello World!\n",
            "Hello World!\n",
            "Hello World!\n",
            "Hello World!\n",
            "Hello World!\n",
            "Hello World!\n",
            "Hello World!\n",
            "Hello World!\n",
            "Hello World!\n",
            "Hello World!\n",
            "Hello World!\n",
            "Hello World!\n",
            "Hello World!\n",
            "Hello World!\n",
            "Hello World!\n",
            "Hello World!\n",
            "Hello World!\n",
            "Hello World!\n",
            "Hello World!\n",
            "Hello World!\n",
            "Hello World!\n",
            "Hello World!\n",
            "Hello World!\n",
            "Hello World!\n",
            "Hello World!\n",
            "Hello World!\n",
            "Hello World!\n",
            "Hello World!\n",
            "Hello World!\n",
            "Hello World!\n",
            "Hello World!\n",
            "Hello World!\n",
            "Hello World!\n",
            "Hello World!\n",
            "Hello World!\n",
            "Hello World!\n",
            "Hello World!\n",
            "Hello World!\n",
            "Hello World!\n",
            "Hello World!\n",
            "Hello World!\n",
            "Hello World!\n",
            "Hello World!\n",
            "Hello World!\n",
            "Hello World!\n",
            "Hello World!\n",
            "Hello World!\n",
            "Hello World!\n",
            "Hello World!\n",
            "Hello World!\n",
            "Hello World!\n",
            "Hello World!\n",
            "Hello World!\n",
            "Hello World!\n",
            "Hello World!\n",
            "Hello World!\n",
            "Hello World!\n",
            "Hello World!\n",
            "Hello World!\n",
            "Hello World!\n",
            "Hello World!\n",
            "Hello World!\n",
            "Hello World!\n",
            "Hello World!\n",
            "Hello World!\n",
            "Hello World!\n",
            "Hello World!\n",
            "Hello World!\n",
            "Hello World!\n",
            "Hello World!\n",
            "Hello World!\n",
            "Hello World!\n",
            "Hello World!\n",
            "Hello World!\n",
            "Hello World!\n",
            "Hello World!\n",
            "Hello World!\n",
            "Hello World!\n",
            "Hello World!\n",
            "Hello World!\n",
            "Hello World!\n",
            "Hello World!\n",
            "Hello World!\n",
            "Hello World!\n",
            "Hello World!\n",
            "Hello World!\n",
            "Hello World!\n",
            "Hello World!\n",
            "Hello World!\n",
            "Hello World!\n",
            "Hello World!\n",
            "Hello World!\n",
            "Hello World!\n",
            "Hello World!\n",
            "Hello World!\n",
            "Hello World!\n",
            "Hello World!\n",
            "Hello World!\n",
            "Hello World!\n",
            "Hello World!\n",
            "Hello World!\n",
            "Hello World!\n",
            "Hello World!\n",
            "Hello World!\n",
            "Hello World!\n",
            "Hello World!\n",
            "Hello World!\n",
            "Hello World!\n",
            "Hello World!\n",
            "Hello World!\n",
            "Hello World!\n",
            "Hello World!\n",
            "Hello World!\n",
            "Hello World!\n",
            "Hello World!\n",
            "Hello World!\n",
            "Hello World!\n",
            "Hello World!\n",
            "Hello World!\n",
            "Hello World!\n",
            "Hello World!\n",
            "Hello World!\n",
            "Hello World!\n",
            "Hello World!\n",
            "Hello World!\n",
            "Hello World!\n",
            "Hello World!\n",
            "Hello World!\n",
            "Hello World!\n",
            "Hello World!\n",
            "Hello World!\n",
            "Hello World!\n",
            "Hello World!\n",
            "Hello World!\n",
            "Hello World!\n",
            "Hello World!\n",
            "Hello World!\n",
            "Hello World!\n",
            "Hello World!\n",
            "Hello World!\n",
            "Hello World!\n",
            "Hello World!\n",
            "Hello World!\n",
            "Hello World!\n",
            "Hello World!\n",
            "Hello World!\n",
            "Hello World!\n",
            "Hello World!\n",
            "Hello World!\n",
            "Hello World!\n",
            "Hello World!\n",
            "Hello World!\n",
            "Hello World!\n",
            "Hello World!\n",
            "Hello World!\n",
            "Hello World!\n",
            "Hello World!\n",
            "Hello World!\n",
            "Hello World!\n",
            "Hello World!\n",
            "Hello World!\n",
            "Hello World!\n",
            "Hello World!\n",
            "Hello World!\n",
            "Hello World!\n",
            "Hello World!\n",
            "Hello World!\n",
            "Hello World!\n",
            "Hello World!\n",
            "Hello World!\n",
            "Hello World!\n",
            "Hello World!\n",
            "Hello World!\n",
            "Hello World!\n",
            "Hello World!\n",
            "Hello World!\n",
            "Hello World!\n",
            "Hello World!\n",
            "Hello World!\n",
            "Hello World!\n",
            "Hello World!\n",
            "Hello World!\n",
            "Hello World!\n",
            "Hello World!\n",
            "Hello World!\n",
            "Hello World!\n",
            "Hello World!\n",
            "Hello World!\n",
            "Hello World!\n",
            "Hello World!\n",
            "Hello World!\n",
            "Hello World!\n",
            "Hello World!\n",
            "Hello World!\n",
            "Hello World!\n",
            "Hello World!\n",
            "Hello World!\n",
            "Hello World!\n",
            "Hello World!\n",
            "Hello World!\n",
            "Hello World!\n",
            "Hello World!\n",
            "Hello World!\n",
            "Hello World!\n",
            "Hello World!\n",
            "Hello World!\n",
            "Hello World!\n",
            "Hello World!\n",
            "Hello World!\n",
            "Hello World!\n",
            "Hello World!\n",
            "Hello World!\n",
            "Hello World!\n",
            "Hello World!\n",
            "Hello World!\n",
            "Hello World!\n",
            "Hello World!\n",
            "Hello World!\n",
            "Hello World!\n",
            "Hello World!\n",
            "Hello World!\n",
            "Hello World!\n",
            "Hello World!\n",
            "Hello World!\n",
            "Hello World!\n",
            "Hello World!\n",
            "Hello World!\n",
            "Hello World!\n",
            "Hello World!\n",
            "Hello World!\n",
            "Hello World!\n",
            "Hello World!\n",
            "Hello World!\n",
            "Hello World!\n",
            "Hello World!\n",
            "Hello World!\n",
            "Hello World!\n",
            "Hello World!\n",
            "Hello World!\n",
            "Hello World!\n",
            "Hello World!\n",
            "Hello World!\n",
            "Hello World!\n",
            "Hello World!\n",
            "Hello World!\n",
            "Hello World!\n",
            "Hello World!\n",
            "Hello World!\n",
            "Hello World!\n",
            "Hello World!\n",
            "Hello World!\n",
            "Hello World!\n",
            "Hello World!\n",
            "Hello World!\n",
            "Hello World!\n",
            "Hello World!\n",
            "Hello World!\n",
            "Hello World!\n",
            "Hello World!\n",
            "Hello World!\n",
            "Hello World!\n",
            "Hello World!\n",
            "Hello World!\n",
            "Hello World!\n",
            "Hello World!\n",
            "Hello World!\n",
            "Hello World!\n",
            "Hello World!\n",
            "Hello World!\n",
            "Hello World!\n",
            "Hello World!\n",
            "Hello World!\n",
            "Hello World!\n",
            "Hello World!\n",
            "Hello World!\n",
            "Hello World!\n",
            "Hello World!\n",
            "Hello World!\n",
            "Hello World!\n",
            "Hello World!\n",
            "Hello World!\n",
            "Hello World!\n",
            "Hello World!\n",
            "Hello World!\n",
            "Hello World!\n",
            "Hello World!\n",
            "Hello World!\n",
            "Hello World!\n",
            "Hello World!\n",
            "Hello World!\n",
            "Hello World!\n",
            "Hello World!\n",
            "Hello World!\n",
            "Hello World!\n",
            "Hello World!\n",
            "Hello World!\n",
            "Hello World!\n",
            "Hello World!\n",
            "Hello World!\n",
            "Hello World!\n",
            "Hello World!\n",
            "Hello World!\n",
            "Hello World!\n",
            "Hello World!\n",
            "Hello World!\n",
            "Hello World!\n",
            "Hello World!\n",
            "Hello World!\n",
            "Hello World!\n",
            "Hello World!\n",
            "Hello World!\n",
            "Hello World!\n",
            "Hello World!\n",
            "Hello World!\n",
            "Hello World!\n",
            "Hello World!\n",
            "Hello World!\n",
            "Hello World!\n",
            "Hello World!\n",
            "Hello World!\n",
            "Hello World!\n",
            "Hello World!\n",
            "Hello World!\n",
            "Hello World!\n",
            "Hello World!\n",
            "Hello World!\n",
            "Hello World!\n",
            "Hello World!\n",
            "Hello World!\n",
            "Hello World!\n",
            "Hello World!\n",
            "Hello World!\n",
            "Hello World!\n",
            "Hello World!\n",
            "Hello World!\n",
            "Hello World!\n",
            "Hello World!\n",
            "Hello World!\n",
            "Hello World!\n",
            "Hello World!\n",
            "Hello World!\n",
            "Hello World!\n",
            "Hello World!\n",
            "Hello World!\n",
            "Hello World!\n",
            "Hello World!\n",
            "Hello World!\n",
            "Hello World!\n",
            "Hello World!\n",
            "Hello World!\n",
            "Hello World!\n",
            "Hello World!\n",
            "Hello World!\n",
            "Hello World!\n",
            "Hello World!\n",
            "Hello World!\n",
            "Hello World!\n",
            "Hello World!\n",
            "Hello World!\n",
            "Hello World!\n",
            "Hello World!\n",
            "Hello World!\n",
            "Hello World!\n",
            "Hello World!\n",
            "Hello World!\n",
            "Hello World!\n",
            "Hello World!\n",
            "Hello World!\n",
            "Hello World!\n",
            "Hello World!\n",
            "Hello World!\n",
            "Hello World!\n",
            "Hello World!\n",
            "Hello World!\n",
            "Hello World!\n",
            "Hello World!\n",
            "Hello World!\n",
            "Hello World!\n",
            "Hello World!\n",
            "Hello World!\n",
            "Hello World!\n",
            "Hello World!\n",
            "Hello World!\n",
            "Hello World!\n",
            "Hello World!\n",
            "Hello World!\n",
            "Hello World!\n",
            "Hello World!\n",
            "Hello World!\n",
            "Hello World!\n",
            "Hello World!\n",
            "Hello World!\n",
            "Hello World!\n",
            "Hello World!\n",
            "Hello World!\n",
            "Hello World!\n",
            "Hello World!\n",
            "Hello World!\n",
            "Hello World!\n",
            "Hello World!\n",
            "Hello World!\n",
            "Hello World!\n",
            "Hello World!\n",
            "Hello World!\n",
            "Hello World!\n",
            "Hello World!\n",
            "Hello World!\n",
            "Hello World!\n",
            "Hello World!\n",
            "Hello World!\n",
            "Hello World!\n",
            "Hello World!\n",
            "Hello World!\n",
            "Hello World!\n",
            "Hello World!\n",
            "Hello World!\n",
            "Hello World!\n",
            "Hello World!\n",
            "Hello World!\n",
            "Hello World!\n",
            "Hello World!\n",
            "Hello World!\n",
            "Hello World!\n",
            "Hello World!\n",
            "Hello World!\n",
            "Hello World!\n",
            "Hello World!\n",
            "Hello World!\n",
            "Hello World!\n",
            "Hello World!\n",
            "Hello World!\n",
            "Hello World!\n",
            "Hello World!\n",
            "Hello World!\n",
            "Hello World!\n",
            "Hello World!\n",
            "Hello World!\n",
            "Hello World!\n",
            "Hello World!\n",
            "Hello World!\n",
            "Hello World!\n",
            "Hello World!\n",
            "Hello World!\n",
            "Hello World!\n",
            "Hello World!\n",
            "Hello World!\n",
            "Hello World!\n",
            "Hello World!\n",
            "Hello World!\n",
            "Hello World!\n",
            "Hello World!\n",
            "Hello World!\n",
            "Hello World!\n",
            "Hello World!\n",
            "Hello World!\n",
            "Hello World!\n",
            "Hello World!\n",
            "Hello World!\n",
            "Hello World!\n",
            "Hello World!\n",
            "Hello World!\n",
            "Hello World!\n",
            "Hello World!\n",
            "Hello World!\n",
            "Hello World!\n",
            "Hello World!\n",
            "Hello World!\n",
            "Hello World!\n",
            "Hello World!\n",
            "Hello World!\n",
            "Hello World!\n",
            "Hello World!\n",
            "Hello World!\n",
            "Hello World!\n",
            "Hello World!\n",
            "Hello World!\n",
            "Hello World!\n",
            "Hello World!\n",
            "Hello World!\n",
            "Hello World!\n",
            "Hello World!\n",
            "Hello World!\n",
            "Hello World!\n",
            "Hello World!\n",
            "Hello World!\n",
            "Hello World!\n",
            "Hello World!\n",
            "Hello World!\n",
            "Hello World!\n",
            "Hello World!\n",
            "Hello World!\n",
            "Hello World!\n",
            "Hello World!\n",
            "Hello World!\n",
            "Hello World!\n",
            "Hello World!\n",
            "Hello World!\n",
            "Hello World!\n",
            "Hello World!\n",
            "Hello World!\n",
            "Hello World!\n",
            "Hello World!\n",
            "Hello World!\n",
            "Hello World!\n",
            "Hello World!\n",
            "Hello World!\n",
            "Hello World!\n",
            "Hello World!\n",
            "Hello World!\n",
            "Hello World!\n",
            "Hello World!\n",
            "Hello World!\n",
            "Hello World!\n",
            "Hello World!\n",
            "Hello World!\n",
            "Hello World!\n",
            "Hello World!\n",
            "Hello World!\n",
            "Hello World!\n",
            "Hello World!\n",
            "Hello World!\n",
            "Hello World!\n",
            "Hello World!\n",
            "Hello World!\n",
            "Hello World!\n",
            "Hello World!\n",
            "Hello World!\n",
            "Hello World!\n",
            "Hello World!\n",
            "Hello World!\n",
            "Hello World!\n",
            "Hello World!\n",
            "Hello World!\n",
            "Hello World!\n",
            "Hello World!\n",
            "Hello World!\n",
            "Hello World!\n",
            "Hello World!\n",
            "Hello World!\n",
            "Hello World!\n",
            "Hello World!\n",
            "Hello World!\n",
            "Hello World!\n",
            "Hello World!\n",
            "Hello World!\n",
            "Hello World!\n",
            "Hello World!\n",
            "Hello World!\n",
            "Hello World!\n",
            "Hello World!\n",
            "Hello World!\n",
            "Hello World!\n",
            "Hello World!\n",
            "Hello World!\n",
            "Hello World!\n",
            "Hello World!\n",
            "Hello World!\n",
            "Hello World!\n",
            "Hello World!\n",
            "Hello World!\n",
            "Hello World!\n",
            "Hello World!\n",
            "Hello World!\n",
            "Hello World!\n",
            "Hello World!\n",
            "Hello World!\n",
            "Hello World!\n",
            "Hello World!\n",
            "Hello World!\n",
            "Hello World!\n",
            "Hello World!\n",
            "Hello World!\n",
            "Hello World!\n",
            "Hello World!\n",
            "Hello World!\n",
            "Hello World!\n",
            "Hello World!\n",
            "Hello World!\n",
            "Hello World!\n",
            "Hello World!\n",
            "Hello World!\n",
            "Hello World!\n",
            "Hello World!\n",
            "Hello World!\n",
            "Hello World!\n",
            "Hello World!\n",
            "Hello World!\n",
            "Hello World!\n",
            "Hello World!\n",
            "Hello World!\n",
            "Hello World!\n",
            "Hello World!\n",
            "Hello World!\n",
            "Hello World!\n",
            "Hello World!\n",
            "Hello World!\n",
            "Hello World!\n",
            "Hello World!\n",
            "Hello World!\n",
            "Hello World!\n",
            "Hello World!\n",
            "Hello World!\n",
            "Hello World!\n",
            "Hello World!\n",
            "Hello World!\n",
            "Hello World!\n",
            "Hello World!\n",
            "Hello World!\n",
            "Hello World!\n",
            "Hello World!\n",
            "Hello World!\n",
            "Hello World!\n",
            "Hello World!\n",
            "Hello World!\n",
            "Hello World!\n",
            "Hello World!\n",
            "Hello World!\n",
            "Hello World!\n",
            "Hello World!\n",
            "Hello World!\n",
            "Hello World!\n",
            "Hello World!\n",
            "Hello World!\n",
            "Hello World!\n",
            "Hello World!\n",
            "Hello World!\n",
            "Hello World!\n",
            "Hello World!\n",
            "Hello World!\n",
            "Hello World!\n",
            "Hello World!\n",
            "Hello World!\n",
            "Hello World!\n",
            "Hello World!\n",
            "Hello World!\n",
            "Hello World!\n",
            "Hello World!\n",
            "Hello World!\n",
            "Hello World!\n",
            "Hello World!\n",
            "Hello World!\n",
            "Hello World!\n",
            "Hello World!\n",
            "Hello World!\n",
            "Hello World!\n",
            "Hello World!\n",
            "Hello World!\n",
            "Hello World!\n",
            "Hello World!\n",
            "Hello World!\n",
            "Hello World!\n",
            "Hello World!\n",
            "Hello World!\n",
            "Hello World!\n",
            "Hello World!\n",
            "Hello World!\n",
            "Hello World!\n",
            "Hello World!\n",
            "Hello World!\n",
            "Hello World!\n",
            "Hello World!\n",
            "Hello World!\n",
            "Hello World!\n",
            "Hello World!\n",
            "Hello World!\n",
            "Hello World!\n",
            "Hello World!\n",
            "Hello World!\n",
            "Hello World!\n",
            "Hello World!\n",
            "Hello World!\n",
            "Hello World!\n",
            "Hello World!\n",
            "Hello World!\n",
            "Hello World!\n",
            "Hello World!\n",
            "Hello World!\n",
            "Hello World!\n",
            "Hello World!\n",
            "Hello World!\n",
            "Hello World!\n",
            "Hello World!\n",
            "Hello World!\n",
            "Hello World!\n",
            "Hello World!\n",
            "Hello World!\n",
            "Hello World!\n",
            "Hello World!\n",
            "Hello World!\n",
            "Hello World!\n",
            "Hello World!\n",
            "Hello World!\n",
            "Hello World!\n",
            "Hello World!\n",
            "Hello World!\n",
            "Hello World!\n",
            "Hello World!\n",
            "Hello World!\n",
            "Hello World!\n",
            "Hello World!\n",
            "Hello World!\n",
            "Hello World!\n",
            "Hello World!\n",
            "Hello World!\n",
            "Hello World!\n",
            "Hello World!\n",
            "Hello World!\n",
            "Hello World!\n",
            "Hello World!\n",
            "Hello World!\n",
            "Hello World!\n",
            "Hello World!\n",
            "Hello World!\n",
            "Hello World!\n",
            "Hello World!\n",
            "Hello World!\n",
            "Hello World!\n",
            "Hello World!\n",
            "Hello World!\n",
            "Hello World!\n",
            "Hello World!\n",
            "Hello World!\n",
            "Hello World!\n",
            "Hello World!\n",
            "Hello World!\n",
            "Hello World!\n",
            "Hello World!\n",
            "Hello World!\n",
            "Hello World!\n",
            "Hello World!\n",
            "Hello World!\n",
            "Hello World!\n",
            "Hello World!\n",
            "Hello World!\n",
            "Hello World!\n",
            "Hello World!\n",
            "Hello World!\n",
            "Hello World!\n",
            "Hello World!\n",
            "Hello World!\n",
            "Hello World!\n",
            "Hello World!\n",
            "Hello World!\n",
            "Hello World!\n",
            "Hello World!\n",
            "Hello World!\n",
            "Hello World!\n",
            "Hello World!\n",
            "Hello World!\n",
            "Hello World!\n",
            "Hello World!\n",
            "Hello World!\n",
            "Hello World!\n",
            "Hello World!\n",
            "Hello World!\n",
            "Hello World!\n",
            "Hello World!\n",
            "Hello World!\n",
            "Hello World!\n",
            "Hello World!\n",
            "Hello World!\n",
            "Hello World!\n",
            "Hello World!\n",
            "Hello World!\n",
            "Hello World!\n",
            "Hello World!\n",
            "Hello World!\n",
            "Hello World!\n",
            "Hello World!\n",
            "Hello World!\n",
            "Hello World!\n",
            "Hello World!\n",
            "Hello World!\n",
            "Hello World!\n",
            "Hello World!\n",
            "Hello World!\n",
            "Hello World!\n",
            "Hello World!\n",
            "Hello World!\n",
            "Hello World!\n",
            "Hello World!\n",
            "Hello World!\n",
            "Hello World!\n",
            "Hello World!\n",
            "Hello World!\n",
            "Hello World!\n",
            "Hello World!\n",
            "Hello World!\n",
            "Hello World!\n",
            "Hello World!\n",
            "Hello World!\n",
            "Hello World!\n",
            "Hello World!\n",
            "Hello World!\n",
            "Hello World!\n",
            "Hello World!\n",
            "Hello World!\n",
            "Hello World!\n",
            "Hello World!\n",
            "Hello World!\n",
            "Hello World!\n",
            "Hello World!\n",
            "Hello World!\n",
            "Hello World!\n",
            "Hello World!\n",
            "Hello World!\n",
            "Hello World!\n",
            "Hello World!\n",
            "Hello World!\n",
            "Hello World!\n",
            "Hello World!\n",
            "Hello World!\n",
            "Hello World!\n",
            "Hello World!\n",
            "Hello World!\n",
            "Hello World!\n",
            "Hello World!\n",
            "Hello World!\n",
            "Hello World!\n",
            "Hello World!\n",
            "Hello World!\n",
            "Hello World!\n",
            "Hello World!\n",
            "Hello World!\n",
            "Hello World!\n",
            "Hello World!\n",
            "Hello World!\n",
            "Hello World!\n",
            "Hello World!\n",
            "Hello World!\n",
            "Hello World!\n",
            "Hello World!\n",
            "Hello World!\n",
            "Hello World!\n",
            "Hello World!\n",
            "Hello World!\n",
            "Hello World!\n",
            "Hello World!\n",
            "Hello World!\n",
            "Hello World!\n",
            "Hello World!\n",
            "Hello World!\n",
            "Hello World!\n",
            "Hello World!\n",
            "Hello World!\n",
            "Hello World!\n",
            "Hello World!\n",
            "Hello World!\n",
            "Hello World!\n",
            "Hello World!\n",
            "Hello World!\n",
            "Hello World!\n",
            "Hello World!\n",
            "Hello World!\n",
            "Hello World!\n",
            "Hello World!\n",
            "Hello World!\n",
            "Hello World!\n",
            "Hello World!\n",
            "Hello World!\n",
            "Hello World!\n",
            "Hello World!\n",
            "Hello World!\n",
            "Hello World!\n",
            "Hello World!\n",
            "Hello World!\n",
            "Hello World!\n",
            "Hello World!\n",
            "Hello World!\n",
            "Hello World!\n",
            "Hello World!\n",
            "Hello World!\n",
            "Hello World!\n",
            "Hello World!\n",
            "Hello World!\n",
            "Hello World!\n",
            "Hello World!\n",
            "Hello World!\n",
            "Hello World!\n",
            "Hello World!\n",
            "Hello World!\n",
            "Hello World!\n",
            "Hello World!\n",
            "Hello World!\n",
            "Hello World!\n",
            "Hello World!\n",
            "Hello World!\n",
            "Hello World!\n",
            "Hello World!\n",
            "Hello World!\n",
            "Hello World!\n",
            "Hello World!\n",
            "Hello World!\n",
            "Hello World!\n",
            "Hello World!\n",
            "Hello World!\n",
            "Hello World!\n",
            "Hello World!\n",
            "Hello World!\n",
            "Hello World!\n",
            "Hello World!\n",
            "Hello World!\n",
            "Hello World!\n",
            "Hello World!\n",
            "Hello World!\n",
            "Hello World!\n",
            "Hello World!\n",
            "Hello World!\n",
            "Hello World!\n",
            "Hello World!\n",
            "Hello World!\n",
            "Hello World!\n",
            "Hello World!\n",
            "Hello World!\n",
            "Hello World!\n",
            "Hello World!\n",
            "Hello World!\n",
            "Hello World!\n",
            "Hello World!\n",
            "Hello World!\n",
            "Hello World!\n",
            "Hello World!\n",
            "Hello World!\n",
            "Hello World!\n",
            "Hello World!\n",
            "Hello World!\n",
            "Hello World!\n",
            "Hello World!\n",
            "Hello World!\n",
            "Hello World!\n",
            "Hello World!\n",
            "Hello World!\n",
            "Hello World!\n",
            "Hello World!\n",
            "Hello World!\n",
            "Hello World!\n",
            "Hello World!\n",
            "Hello World!\n",
            "Hello World!\n",
            "Hello World!\n",
            "Hello World!\n",
            "Hello World!\n",
            "Hello World!\n",
            "Hello World!\n",
            "Hello World!\n",
            "Hello World!\n",
            "Hello World!\n",
            "Hello World!\n",
            "Hello World!\n",
            "Hello World!\n",
            "Hello World!\n",
            "Hello World!\n",
            "Hello World!\n",
            "Hello World!\n",
            "Hello World!\n",
            "Hello World!\n",
            "Hello World!\n",
            "Hello World!\n",
            "Hello World!\n",
            "Hello World!\n",
            "Hello World!\n",
            "Hello World!\n",
            "Hello World!\n",
            "Hello World!\n",
            "Hello World!\n",
            "Hello World!\n",
            "Hello World!\n",
            "Hello World!\n",
            "Hello World!\n",
            "Hello World!\n",
            "Hello World!\n",
            "Hello World!\n",
            "Hello World!\n",
            "Hello World!\n",
            "Hello World!\n",
            "Hello World!\n",
            "Hello World!\n",
            "Hello World!\n",
            "Hello World!\n",
            "Hello World!\n",
            "Hello World!\n",
            "Hello World!\n",
            "Hello World!\n",
            "Hello World!\n",
            "Hello World!\n",
            "Hello World!\n",
            "Hello World!\n",
            "Hello World!\n",
            "Hello World!\n",
            "Hello World!\n",
            "Hello World!\n",
            "Hello World!\n",
            "Hello World!\n",
            "Hello World!\n",
            "Hello World!\n",
            "Hello World!\n",
            "Hello World!\n",
            "Hello World!\n",
            "Hello World!\n",
            "Hello World!\n",
            "Hello World!\n",
            "Hello World!\n",
            "Hello World!\n",
            "Hello World!\n",
            "Hello World!\n",
            "Hello World!\n",
            "Hello World!\n",
            "Hello World!\n",
            "Hello World!\n",
            "Hello World!\n",
            "Hello World!\n",
            "Hello World!\n",
            "Hello World!\n",
            "Hello World!\n",
            "Hello World!\n",
            "Hello World!\n",
            "Hello World!\n",
            "Hello World!\n",
            "Hello World!\n",
            "Hello World!\n",
            "Hello World!\n",
            "Hello World!\n",
            "Hello World!\n",
            "Hello World!\n",
            "Hello World!\n",
            "Hello World!\n",
            "Hello World!\n",
            "Hello World!\n",
            "Hello World!\n",
            "Hello World!\n",
            "Hello World!\n",
            "Hello World!\n",
            "Hello World!\n",
            "Hello World!\n",
            "Hello World!\n",
            "Hello World!\n",
            "Hello World!\n",
            "Hello World!\n",
            "Hello World!\n",
            "Hello World!\n",
            "Hello World!\n",
            "Hello World!\n",
            "Hello World!\n",
            "Hello World!\n",
            "Hello World!\n",
            "Hello World!\n",
            "Hello World!\n",
            "Hello World!\n",
            "Hello World!\n",
            "Hello World!\n",
            "Hello World!\n",
            "Hello World!\n",
            "Hello World!\n",
            "Hello World!\n",
            "Hello World!\n",
            "Hello World!\n",
            "Hello World!\n",
            "Hello World!\n",
            "Hello World!\n",
            "Hello World!\n",
            "Hello World!\n",
            "Hello World!\n",
            "Hello World!\n",
            "Hello World!\n",
            "Hello World!\n",
            "Hello World!\n",
            "Hello World!\n",
            "Hello World!\n",
            "Hello World!\n",
            "Hello World!\n",
            "Hello World!\n",
            "Hello World!\n",
            "Hello World!\n",
            "Hello World!\n",
            "Hello World!\n",
            "Hello World!\n",
            "Hello World!\n",
            "Hello World!\n",
            "Hello World!\n",
            "Hello World!\n",
            "Hello World!\n",
            "Hello World!\n",
            "Hello World!\n",
            "Hello World!\n",
            "Hello World!\n",
            "Hello World!\n",
            "Hello World!\n",
            "Hello World!\n",
            "Hello World!\n",
            "Hello World!\n",
            "Hello World!\n",
            "Hello World!\n",
            "Hello World!\n",
            "Hello World!\n",
            "Hello World!\n",
            "Hello World!\n",
            "Hello World!\n",
            "Hello World!\n",
            "Hello World!\n",
            "Hello World!\n",
            "Hello World!\n",
            "Hello World!\n",
            "Hello World!\n",
            "Hello World!\n",
            "Hello World!\n",
            "Hello World!\n",
            "Hello World!\n",
            "Hello World!\n",
            "Hello World!\n",
            "Hello World!\n",
            "Hello World!\n",
            "Hello World!\n",
            "Hello World!\n",
            "Hello World!\n",
            "Hello World!\n",
            "Hello World!\n",
            "Hello World!\n",
            "Hello World!\n",
            "Hello World!\n",
            "Hello World!\n",
            "Hello World!\n",
            "Hello World!\n",
            "Hello World!\n",
            "Hello World!\n",
            "Hello World!\n",
            "Hello World!\n",
            "Hello World!\n",
            "Hello World!\n",
            "Hello World!\n",
            "Hello World!\n",
            "Hello World!\n",
            "Hello World!\n",
            "Hello World!\n",
            "Hello World!\n",
            "Hello World!\n",
            "Hello World!\n",
            "Hello World!\n",
            "Hello World!\n",
            "Hello World!\n",
            "Hello World!\n",
            "Hello World!\n",
            "Hello World!\n",
            "Hello World!\n",
            "Hello World!\n",
            "Hello World!\n",
            "Hello World!\n",
            "Hello World!\n",
            "Hello World!\n",
            "Hello World!\n",
            "Hello World!\n",
            "Hello World!\n",
            "Hello World!\n",
            "Hello World!\n",
            "Hello World!\n",
            "Hello World!\n",
            "Hello World!\n",
            "Hello World!\n",
            "Hello World!\n",
            "Hello World!\n",
            "Hello World!\n",
            "Hello World!\n",
            "Hello World!\n",
            "Hello World!\n",
            "Hello World!\n",
            "Hello World!\n",
            "Hello World!\n",
            "Hello World!\n",
            "Hello World!\n",
            "Hello World!\n",
            "Hello World!\n",
            "Hello World!\n",
            "Hello World!\n",
            "Hello World!\n",
            "Hello World!\n",
            "Hello World!\n",
            "Hello World!\n",
            "Hello World!\n",
            "Hello World!\n",
            "Hello World!\n",
            "Hello World!\n",
            "Hello World!\n",
            "Hello World!\n",
            "Hello World!\n",
            "Hello World!\n",
            "Hello World!\n",
            "Hello World!\n",
            "Hello World!\n",
            "Hello World!\n",
            "Hello World!\n",
            "Hello World!\n",
            "Hello World!\n",
            "Hello World!\n",
            "Hello World!\n",
            "Hello World!\n",
            "Hello World!\n",
            "Hello World!\n",
            "Hello World!\n",
            "Hello World!\n",
            "Hello World!\n",
            "Hello World!\n",
            "Hello World!\n",
            "Hello World!\n",
            "Hello World!\n",
            "Hello World!\n",
            "Hello World!\n",
            "Hello World!\n",
            "Hello World!\n",
            "Hello World!\n",
            "Hello World!\n",
            "Hello World!\n",
            "Hello World!\n",
            "Hello World!\n",
            "Hello World!\n",
            "Hello World!\n",
            "Hello World!\n",
            "Hello World!\n",
            "Hello World!\n",
            "Hello World!\n",
            "Hello World!\n",
            "Hello World!\n",
            "Hello World!\n",
            "Hello World!\n",
            "Hello World!\n",
            "Hello World!\n",
            "Hello World!\n",
            "Hello World!\n",
            "Hello World!\n",
            "Hello World!\n",
            "Hello World!\n",
            "Hello World!\n",
            "Hello World!\n",
            "Hello World!\n",
            "Hello World!\n",
            "Hello World!\n",
            "Hello World!\n",
            "Hello World!\n",
            "Hello World!\n",
            "Hello World!\n",
            "Hello World!\n",
            "Hello World!\n",
            "Hello World!\n",
            "Hello World!\n",
            "Hello World!\n",
            "Hello World!\n",
            "Hello World!\n",
            "Hello World!\n",
            "Hello World!\n",
            "Hello World!\n",
            "Hello World!\n",
            "Hello World!\n",
            "Hello World!\n",
            "Hello World!\n",
            "Hello World!\n",
            "Hello World!\n",
            "Hello World!\n",
            "Hello World!\n",
            "Hello World!\n",
            "Hello World!\n",
            "Hello World!\n",
            "Hello World!\n",
            "Hello World!\n",
            "Hello World!\n",
            "Hello World!\n",
            "Hello World!\n",
            "Hello World!\n",
            "Hello World!\n",
            "Hello World!\n",
            "Hello World!\n",
            "Hello World!\n",
            "Hello World!\n",
            "Hello World!\n",
            "Hello World!\n",
            "Hello World!\n",
            "Hello World!\n",
            "Hello World!\n",
            "Hello World!\n",
            "Hello World!\n",
            "Hello World!\n",
            "Hello World!\n",
            "Hello World!\n",
            "Hello World!\n",
            "Hello World!\n",
            "Hello World!\n",
            "Hello World!\n",
            "Hello World!\n",
            "Hello World!\n",
            "Hello World!\n",
            "Hello World!\n",
            "Hello World!\n",
            "Hello World!\n",
            "Hello World!\n",
            "Hello World!\n",
            "Hello World!\n",
            "Hello World!\n",
            "Hello World!\n",
            "Hello World!\n",
            "Hello World!\n",
            "Hello World!\n",
            "Hello World!\n",
            "Hello World!\n",
            "Hello World!\n",
            "Hello World!\n",
            "Hello World!\n",
            "Hello World!\n",
            "Hello World!\n",
            "Hello World!\n",
            "Hello World!\n",
            "Hello World!\n",
            "Hello World!\n",
            "Hello World!\n",
            "Hello World!\n",
            "Hello World!\n",
            "Hello World!\n",
            "Hello World!\n",
            "Hello World!\n",
            "Hello World!\n",
            "Hello World!\n",
            "Hello World!\n",
            "Hello World!\n",
            "Hello World!\n",
            "Hello World!\n",
            "Hello World!\n",
            "Hello World!\n",
            "Hello World!\n",
            "Hello World!\n",
            "Hello World!\n",
            "Hello World!\n",
            "Hello World!\n",
            "Hello World!\n",
            "Hello World!\n",
            "Hello World!\n",
            "Hello World!\n",
            "Hello World!\n",
            "Hello World!\n",
            "Hello World!\n",
            "Hello World!\n",
            "Hello World!\n",
            "Hello World!\n",
            "Hello World!\n",
            "Hello World!\n",
            "Hello World!\n",
            "Hello World!\n",
            "Hello World!\n",
            "Hello World!\n",
            "Hello World!\n",
            "Hello World!\n",
            "Hello World!\n",
            "Hello World!\n",
            "Hello World!\n",
            "Hello World!\n",
            "Hello World!\n",
            "Hello World!\n",
            "Hello World!\n",
            "Hello World!\n",
            "Hello World!\n",
            "Hello World!\n",
            "Hello World!\n",
            "Hello World!\n",
            "Hello World!\n",
            "Hello World!\n",
            "Hello World!\n",
            "Hello World!\n",
            "Hello World!\n",
            "Hello World!\n",
            "Hello World!\n",
            "Hello World!\n",
            "Hello World!\n",
            "Hello World!\n",
            "Hello World!\n",
            "Hello World!\n",
            "Hello World!\n",
            "Hello World!\n",
            "Hello World!\n",
            "Hello World!\n",
            "Hello World!\n",
            "Hello World!\n",
            "Hello World!\n",
            "Hello World!\n",
            "Hello World!\n",
            "Hello World!\n",
            "Hello World!\n",
            "Hello World!\n",
            "Hello World!\n",
            "Hello World!\n",
            "Hello World!\n",
            "Hello World!\n",
            "Hello World!\n",
            "Hello World!\n",
            "Hello World!\n",
            "Hello World!\n",
            "Hello World!\n",
            "Hello World!\n",
            "Hello World!\n",
            "Hello World!\n",
            "Hello World!\n",
            "Hello World!\n",
            "Hello World!\n",
            "Hello World!\n",
            "Hello World!\n",
            "Hello World!\n",
            "Hello World!\n",
            "Hello World!\n",
            "Hello World!\n",
            "Hello World!\n",
            "Hello World!\n",
            "Hello World!\n",
            "Hello World!\n",
            "Hello World!\n",
            "Hello World!\n",
            "Hello World!\n",
            "Hello World!\n",
            "Hello World!\n",
            "Hello World!\n",
            "Hello World!\n",
            "Hello World!\n",
            "Hello World!\n",
            "Hello World!\n",
            "Hello World!\n",
            "Hello World!\n",
            "Hello World!\n",
            "Hello World!\n",
            "Hello World!\n",
            "Hello World!\n",
            "Hello World!\n",
            "Hello World!\n",
            "Hello World!\n",
            "Hello World!\n",
            "Hello World!\n",
            "Hello World!\n",
            "Hello World!\n",
            "Hello World!\n",
            "Hello World!\n",
            "Hello World!\n",
            "Hello World!\n",
            "Hello World!\n",
            "Hello World!\n",
            "Hello World!\n",
            "Hello World!\n",
            "Hello World!\n",
            "Hello World!\n",
            "Hello World!\n",
            "Hello World!\n",
            "Hello World!\n",
            "Hello World!\n",
            "Hello World!\n",
            "Hello World!\n",
            "Hello World!\n",
            "Hello World!\n",
            "Hello World!\n",
            "Hello World!\n",
            "Hello World!\n",
            "Hello World!\n",
            "Hello World!\n",
            "Hello World!\n",
            "Hello World!\n",
            "Hello World!\n",
            "Hello World!\n",
            "Hello World!\n",
            "Hello World!\n",
            "Hello World!\n",
            "Hello World!\n",
            "Hello World!\n",
            "Hello World!\n",
            "Hello World!\n",
            "Hello World!\n",
            "Hello World!\n",
            "Hello World!\n",
            "Hello World!\n",
            "Hello World!\n",
            "Hello World!\n",
            "Hello World!\n",
            "Hello World!\n",
            "Hello World!\n",
            "Hello World!\n",
            "Hello World!\n",
            "Hello World!\n",
            "Hello World!\n",
            "Hello World!\n",
            "Hello World!\n",
            "Hello World!\n",
            "Hello World!\n",
            "Hello World!\n",
            "Hello World!\n",
            "Hello World!\n",
            "Hello World!\n",
            "Hello World!\n",
            "Hello World!\n",
            "Hello World!\n",
            "Hello World!\n",
            "Hello World!\n",
            "Hello World!\n",
            "Hello World!\n",
            "Hello World!\n",
            "Hello World!\n",
            "Hello World!\n",
            "Hello World!\n",
            "Hello World!\n",
            "Hello World!\n",
            "Hello World!\n",
            "Hello World!\n",
            "Hello World!\n",
            "Hello World!\n",
            "Hello World!\n",
            "Hello World!\n",
            "Hello World!\n",
            "Hello World!\n",
            "Hello World!\n",
            "Hello World!\n",
            "Hello World!\n",
            "Hello World!\n",
            "Hello World!\n",
            "Hello World!\n",
            "Hello World!\n",
            "Hello World!\n",
            "Hello World!\n",
            "Hello World!\n",
            "Hello World!\n",
            "Hello World!\n",
            "Hello World!\n",
            "Hello World!\n",
            "Hello World!\n",
            "Hello World!\n",
            "Hello World!\n",
            "Hello World!\n",
            "Hello World!\n",
            "Hello World!\n",
            "Hello World!\n",
            "Hello World!\n",
            "Hello World!\n",
            "Hello World!\n",
            "Hello World!\n",
            "Hello World!\n",
            "Hello World!\n",
            "Hello World!\n",
            "Hello World!\n",
            "Hello World!\n",
            "Hello World!\n",
            "Hello World!\n",
            "Hello World!\n",
            "Hello World!\n",
            "Hello World!\n",
            "Hello World!\n",
            "Hello World!\n",
            "Hello World!\n",
            "Hello World!\n",
            "Hello World!\n",
            "Hello World!\n",
            "Hello World!\n",
            "Hello World!\n",
            "Hello World!\n",
            "Hello World!\n",
            "Hello World!\n",
            "Hello World!\n",
            "Hello World!\n",
            "Hello World!\n",
            "Hello World!\n",
            "Hello World!\n",
            "Hello World!\n",
            "Hello World!\n",
            "Hello World!\n",
            "Hello World!\n",
            "Hello World!\n",
            "Hello World!\n",
            "Hello World!\n",
            "Hello World!\n",
            "Hello World!\n",
            "Hello World!\n",
            "Hello World!\n",
            "Hello World!\n",
            "Hello World!\n",
            "Hello World!\n",
            "Hello World!\n",
            "Hello World!\n",
            "Hello World!\n",
            "Hello World!\n",
            "Hello World!\n",
            "Hello World!\n",
            "Hello World!\n",
            "Hello World!\n",
            "Hello World!\n",
            "Hello World!\n",
            "Hello World!\n",
            "Hello World!\n",
            "Hello World!\n",
            "Hello World!\n",
            "Hello World!\n",
            "Hello World!\n",
            "Hello World!\n",
            "Hello World!\n",
            "Hello World!\n",
            "Hello World!\n",
            "Hello World!\n",
            "Hello World!\n",
            "Hello World!\n",
            "Hello World!\n",
            "Hello World!\n",
            "Hello World!\n",
            "Hello World!\n",
            "Hello World!\n",
            "Hello World!\n",
            "Hello World!\n",
            "Hello World!\n",
            "Hello World!\n",
            "Hello World!\n",
            "Hello World!\n",
            "Hello World!\n",
            "Hello World!\n",
            "Hello World!\n",
            "Hello World!\n",
            "Hello World!\n",
            "Hello World!\n",
            "Hello World!\n",
            "Hello World!\n",
            "Hello World!\n",
            "Hello World!\n",
            "Hello World!\n",
            "Hello World!\n",
            "Hello World!\n",
            "Hello World!\n",
            "Hello World!\n",
            "Hello World!\n",
            "Hello World!\n",
            "Hello World!\n",
            "Hello World!\n",
            "Hello World!\n",
            "Hello World!\n",
            "Hello World!\n",
            "Hello World!\n",
            "Hello World!\n",
            "Hello World!\n",
            "Hello World!\n",
            "Hello World!\n",
            "Hello World!\n",
            "Hello World!\n",
            "Hello World!\n",
            "Hello World!\n",
            "Hello World!\n",
            "Hello World!\n",
            "Hello World!\n",
            "Hello World!\n",
            "Hello World!\n",
            "Hello World!\n",
            "Hello World!\n",
            "Hello World!\n",
            "Hello World!\n",
            "Hello World!\n",
            "Hello World!\n",
            "Hello World!\n",
            "Hello World!\n",
            "Hello World!\n",
            "Hello World!\n",
            "Hello World!\n",
            "Hello World!\n",
            "Hello World!\n",
            "Hello World!\n",
            "Hello World!\n",
            "Hello World!\n",
            "Hello World!\n",
            "Hello World!\n",
            "Hello World!\n",
            "Hello World!\n",
            "Hello World!\n",
            "Hello World!\n",
            "Hello World!\n",
            "Hello World!\n",
            "Hello World!\n",
            "Hello World!\n",
            "Hello World!\n",
            "Hello World!\n",
            "Hello World!\n",
            "Hello World!\n",
            "Hello World!\n",
            "Hello World!\n",
            "Hello World!\n",
            "Hello World!\n",
            "Hello World!\n",
            "Hello World!\n",
            "Hello World!\n",
            "Hello World!\n",
            "Hello World!\n",
            "Hello World!\n",
            "Hello World!\n",
            "Hello World!\n",
            "Hello World!\n",
            "Hello World!\n",
            "Hello World!\n",
            "Hello World!\n",
            "Hello World!\n",
            "Hello World!\n",
            "Hello World!\n",
            "Hello World!\n",
            "Hello World!\n",
            "Hello World!\n",
            "Hello World!\n",
            "Hello World!\n",
            "Hello World!\n",
            "Hello World!\n",
            "Hello World!\n",
            "Hello World!\n",
            "Hello World!\n",
            "Hello World!\n",
            "Hello World!\n",
            "Hello World!\n",
            "Hello World!\n",
            "Hello World!\n",
            "Hello World!\n",
            "Hello World!\n",
            "Hello World!\n",
            "Hello World!\n",
            "Hello World!\n",
            "Hello World!\n",
            "Hello World!\n",
            "Hello World!\n",
            "Hello World!\n",
            "Hello World!\n",
            "Hello World!\n",
            "Hello World!\n",
            "Hello World!\n",
            "Hello World!\n",
            "Hello World!\n",
            "Hello World!\n",
            "Hello World!\n",
            "Hello World!\n",
            "Hello World!\n",
            "Hello World!\n",
            "Hello World!\n",
            "Hello World!\n",
            "Hello World!\n",
            "Hello World!\n",
            "Hello World!\n",
            "Hello World!\n",
            "Hello World!\n",
            "Hello World!\n",
            "Hello World!\n",
            "Hello World!\n",
            "Hello World!\n",
            "Hello World!\n",
            "Hello World!\n",
            "Hello World!\n",
            "Hello World!\n",
            "Hello World!\n",
            "Hello World!\n",
            "Hello World!\n",
            "Hello World!\n",
            "Hello World!\n",
            "Hello World!\n",
            "Hello World!\n",
            "Hello World!\n",
            "Hello World!\n",
            "Hello World!\n",
            "Hello World!\n",
            "Hello World!\n",
            "Hello World!\n",
            "Hello World!\n",
            "Hello World!\n",
            "Hello World!\n",
            "Hello World!\n",
            "Hello World!\n",
            "Hello World!\n",
            "Hello World!\n",
            "Hello World!\n",
            "Hello World!\n",
            "Hello World!\n",
            "Hello World!\n",
            "Hello World!\n",
            "Hello World!\n",
            "Hello World!\n",
            "Hello World!\n",
            "Hello World!\n",
            "Hello World!\n",
            "Hello World!\n",
            "Hello World!\n",
            "Hello World!\n",
            "Hello World!\n",
            "Hello World!\n",
            "Hello World!\n",
            "Hello World!\n",
            "Hello World!\n",
            "Hello World!\n",
            "Hello World!\n",
            "Hello World!\n",
            "Hello World!\n",
            "Hello World!\n",
            "Hello World!\n",
            "Hello World!\n",
            "Hello World!\n",
            "Hello World!\n",
            "Hello World!\n",
            "Hello World!\n",
            "Hello World!\n",
            "Hello World!\n",
            "Hello World!\n",
            "Hello World!\n",
            "Hello World!\n",
            "Hello World!\n",
            "Hello World!\n",
            "Hello World!\n",
            "Hello World!\n",
            "Hello World!\n",
            "Hello World!\n",
            "Hello World!\n",
            "Hello World!\n",
            "Hello World!\n",
            "Hello World!\n",
            "Hello World!\n",
            "Hello World!\n",
            "Hello World!\n",
            "Hello World!\n",
            "Hello World!\n",
            "Hello World!\n",
            "Hello World!\n",
            "Hello World!\n",
            "Hello World!\n",
            "Hello World!\n",
            "Hello World!\n",
            "Hello World!\n",
            "Hello World!\n",
            "Hello World!\n",
            "Hello World!\n",
            "Hello World!\n",
            "Hello World!\n",
            "Hello World!\n",
            "Hello World!\n",
            "Hello World!\n",
            "Hello World!\n",
            "Hello World!\n",
            "Hello World!\n",
            "Hello World!\n",
            "Hello World!\n",
            "Hello World!\n",
            "Hello World!\n",
            "Hello World!\n",
            "Hello World!\n",
            "Hello World!\n",
            "Hello World!\n",
            "Hello World!\n",
            "Hello World!\n",
            "Hello World!\n",
            "Hello World!\n",
            "Hello World!\n",
            "Hello World!\n",
            "Hello World!\n",
            "Hello World!\n",
            "Hello World!\n",
            "Hello World!\n",
            "Hello World!\n",
            "Hello World!\n",
            "Hello World!\n",
            "Hello World!\n",
            "Hello World!\n",
            "Hello World!\n",
            "Hello World!\n",
            "Hello World!\n",
            "Hello World!\n",
            "Hello World!\n",
            "Hello World!\n",
            "Hello World!\n",
            "Hello World!\n",
            "Hello World!\n",
            "Hello World!\n",
            "Hello World!\n",
            "Hello World!\n",
            "Hello World!\n",
            "Hello World!\n",
            "Hello World!\n",
            "Hello World!\n",
            "Hello World!\n",
            "Hello World!\n",
            "Hello World!\n",
            "Hello World!\n",
            "Hello World!\n",
            "Hello World!\n",
            "Hello World!\n",
            "Hello World!\n",
            "Hello World!\n",
            "Hello World!\n",
            "Hello World!\n",
            "Hello World!\n",
            "Hello World!\n",
            "Hello World!\n",
            "Hello World!\n",
            "Hello World!\n",
            "Hello World!\n",
            "Hello World!\n",
            "Hello World!\n",
            "Hello World!\n",
            "Hello World!\n",
            "Hello World!\n",
            "Hello World!\n",
            "Hello World!\n",
            "Hello World!\n",
            "Hello World!\n",
            "Hello World!\n",
            "Hello World!\n",
            "Hello World!\n",
            "Hello World!\n",
            "Hello World!\n",
            "Hello World!\n",
            "Hello World!\n",
            "Hello World!\n",
            "Hello World!\n",
            "Hello World!\n",
            "Hello World!\n",
            "Hello World!\n",
            "Hello World!\n",
            "Hello World!\n",
            "Hello World!\n",
            "Hello World!\n",
            "Hello World!\n",
            "Hello World!\n",
            "Hello World!\n",
            "Hello World!\n",
            "Hello World!\n",
            "Hello World!\n",
            "Hello World!\n",
            "Hello World!\n",
            "Hello World!\n",
            "Hello World!\n",
            "Hello World!\n",
            "Hello World!\n",
            "Hello World!\n",
            "Hello World!\n",
            "Hello World!\n",
            "Hello World!\n",
            "Hello World!\n",
            "Hello World!\n",
            "Hello World!\n",
            "Hello World!\n",
            "Hello World!\n",
            "Hello World!\n",
            "Hello World!\n",
            "Hello World!\n",
            "Hello World!\n",
            "Hello World!\n",
            "Hello World!\n",
            "Hello World!\n",
            "Hello World!\n",
            "Hello World!\n",
            "Hello World!\n",
            "Hello World!\n",
            "Hello World!\n",
            "Hello World!\n",
            "Hello World!\n",
            "Hello World!\n",
            "Hello World!\n",
            "Hello World!\n",
            "Hello World!\n",
            "Hello World!\n",
            "Hello World!\n",
            "Hello World!\n",
            "Hello World!\n",
            "Hello World!\n",
            "Hello World!\n",
            "Hello World!\n",
            "Hello World!\n",
            "Hello World!\n",
            "Hello World!\n",
            "Hello World!\n",
            "Hello World!\n",
            "Hello World!\n",
            "Hello World!\n",
            "Hello World!\n",
            "Hello World!\n",
            "Hello World!\n",
            "Hello World!\n",
            "Hello World!\n",
            "Hello World!\n",
            "Hello World!\n",
            "Hello World!\n",
            "Hello World!\n",
            "Hello World!\n",
            "Hello World!\n",
            "Hello World!\n",
            "Hello World!\n",
            "Hello World!\n",
            "Hello World!\n",
            "Hello World!\n",
            "Hello World!\n",
            "Hello World!\n",
            "Hello World!\n",
            "Hello World!\n",
            "Hello World!\n",
            "Hello World!\n",
            "Hello World!\n",
            "Hello World!\n",
            "Hello World!\n",
            "Hello World!\n",
            "Hello World!\n",
            "Hello World!\n",
            "Hello World!\n",
            "Hello World!\n",
            "Hello World!\n",
            "Hello World!\n",
            "Hello World!\n",
            "Hello World!\n",
            "Hello World!\n",
            "Hello World!\n",
            "Hello World!\n",
            "Hello World!\n",
            "Hello World!\n",
            "Hello World!\n",
            "Hello World!\n",
            "Hello World!\n",
            "Hello World!\n",
            "Hello World!\n",
            "Hello World!\n",
            "Hello World!\n",
            "Hello World!\n",
            "Hello World!\n",
            "Hello World!\n",
            "Hello World!\n",
            "Hello World!\n",
            "Hello World!\n",
            "Hello World!\n",
            "Hello World!\n",
            "Hello World!\n",
            "Hello World!\n",
            "Hello World!\n",
            "Hello World!\n",
            "Hello World!\n",
            "Hello World!\n",
            "Hello World!\n",
            "Hello World!\n",
            "Hello World!\n",
            "Hello World!\n",
            "Hello World!\n",
            "Hello World!\n",
            "Hello World!\n",
            "Hello World!\n",
            "Hello World!\n",
            "Hello World!\n",
            "Hello World!\n",
            "Hello World!\n",
            "Hello World!\n",
            "Hello World!\n",
            "Hello World!\n",
            "Hello World!\n",
            "Hello World!\n",
            "Hello World!\n",
            "Hello World!\n",
            "Hello World!\n",
            "Hello World!\n",
            "Hello World!\n",
            "Hello World!\n",
            "Hello World!\n",
            "Hello World!\n",
            "Hello World!\n",
            "Hello World!\n",
            "Hello World!\n",
            "Hello World!\n",
            "Hello World!\n",
            "Hello World!\n",
            "Hello World!\n",
            "Hello World!\n",
            "Hello World!\n",
            "Hello World!\n",
            "Hello World!\n",
            "Hello World!\n",
            "Hello World!\n",
            "Hello World!\n",
            "Hello World!\n",
            "Hello World!\n",
            "Hello World!\n",
            "Hello World!\n",
            "Hello World!\n",
            "Hello World!\n",
            "Hello World!\n",
            "Hello World!\n",
            "Hello World!\n",
            "Hello World!\n",
            "Hello World!\n",
            "Hello World!\n",
            "Hello World!\n",
            "Hello World!\n",
            "Hello World!\n",
            "Hello World!\n",
            "Hello World!\n",
            "Hello World!\n",
            "Hello World!\n",
            "Hello World!\n",
            "Hello World!\n",
            "Hello World!\n",
            "Hello World!\n",
            "Hello World!\n",
            "Hello World!\n",
            "Hello World!\n",
            "Hello World!\n",
            "Hello World!\n",
            "Hello World!\n",
            "Hello World!\n",
            "Hello World!\n",
            "Hello World!\n",
            "Hello World!\n",
            "Hello World!\n",
            "Hello World!\n",
            "Hello World!\n",
            "Hello World!\n",
            "Hello World!\n",
            "Hello World!\n",
            "Hello World!\n",
            "Hello World!\n",
            "Hello World!\n",
            "Hello World!\n",
            "Hello World!\n",
            "Hello World!\n",
            "Hello World!\n",
            "Hello World!\n",
            "Hello World!\n",
            "Hello World!\n",
            "Hello World!\n",
            "Hello World!\n",
            "Hello World!\n",
            "Hello World!\n",
            "Hello World!\n",
            "Hello World!\n",
            "Hello World!\n",
            "Hello World!\n",
            "Hello World!\n",
            "Hello World!\n",
            "Hello World!\n",
            "Hello World!\n",
            "Hello World!\n",
            "Hello World!\n",
            "Hello World!\n",
            "Hello World!\n",
            "Hello World!\n",
            "Hello World!\n",
            "Hello World!\n",
            "Hello World!\n",
            "Hello World!\n",
            "Hello World!\n",
            "Hello World!\n",
            "Hello World!\n",
            "Hello World!\n",
            "Hello World!\n",
            "Hello World!\n",
            "Hello World!\n",
            "Hello World!\n",
            "Hello World!\n",
            "Hello World!\n",
            "Hello World!\n",
            "Hello World!\n",
            "Hello World!\n",
            "Hello World!\n",
            "Hello World!\n",
            "Hello World!\n",
            "Hello World!\n",
            "Hello World!\n",
            "Hello World!\n",
            "Hello World!\n",
            "Hello World!\n",
            "Hello World!\n",
            "Hello World!\n",
            "Hello World!\n",
            "Hello World!\n",
            "Hello World!\n",
            "Hello World!\n",
            "Hello World!\n",
            "Hello World!\n",
            "Hello World!\n",
            "Hello World!\n",
            "Hello World!\n",
            "Hello World!\n",
            "Hello World!\n",
            "Hello World!\n",
            "Hello World!\n",
            "Hello World!\n",
            "Hello World!\n",
            "Hello World!\n",
            "Hello World!\n",
            "Hello World!\n",
            "Hello World!\n",
            "Hello World!\n",
            "Hello World!\n",
            "Hello World!\n",
            "Hello World!\n",
            "Hello World!\n",
            "Hello World!\n",
            "Hello World!\n",
            "Hello World!\n",
            "Hello World!\n",
            "Hello World!\n",
            "Hello World!\n",
            "Hello World!\n",
            "Hello World!\n",
            "Hello World!\n",
            "Hello World!\n",
            "Hello World!\n",
            "Hello World!\n",
            "Hello World!\n",
            "Hello World!\n",
            "Hello World!\n",
            "Hello World!\n",
            "Hello World!\n",
            "Hello World!\n",
            "Hello World!\n",
            "Hello World!\n",
            "Hello World!\n",
            "Hello World!\n",
            "Hello World!\n",
            "Hello World!\n",
            "Hello World!\n",
            "Hello World!\n",
            "Hello World!\n",
            "Hello World!\n",
            "Hello World!\n",
            "Hello World!\n",
            "Hello World!\n",
            "Hello World!\n",
            "Hello World!\n",
            "Hello World!\n",
            "Hello World!\n",
            "Hello World!\n",
            "Hello World!\n",
            "Hello World!\n",
            "Hello World!\n",
            "Hello World!\n",
            "Hello World!\n",
            "Hello World!\n",
            "Hello World!\n",
            "Hello World!\n",
            "Hello World!\n",
            "Hello World!\n",
            "Hello World!\n",
            "Hello World!\n",
            "Hello World!\n",
            "Hello World!\n",
            "Hello World!\n",
            "Hello World!\n",
            "Hello World!\n",
            "Hello World!\n",
            "Hello World!\n",
            "Hello World!\n",
            "Hello World!\n",
            "Hello World!\n",
            "Hello World!\n",
            "Hello World!\n",
            "Hello World!\n",
            "Hello World!\n",
            "Hello World!\n",
            "Hello World!\n",
            "Hello World!\n",
            "Hello World!\n",
            "Hello World!\n",
            "Hello World!\n",
            "Hello World!\n",
            "Hello World!\n",
            "Hello World!\n",
            "Hello World!\n",
            "Hello World!\n",
            "Hello World!\n",
            "Hello World!\n",
            "Hello World!\n",
            "Hello World!\n",
            "Hello World!\n",
            "Hello World!\n",
            "Hello World!\n",
            "Hello World!\n",
            "Hello World!\n",
            "Hello World!\n",
            "Hello World!\n",
            "Hello World!\n",
            "Hello World!\n",
            "Hello World!\n",
            "Hello World!\n",
            "Hello World!\n",
            "Hello World!\n",
            "Hello World!\n",
            "Hello World!\n",
            "Hello World!\n",
            "Hello World!\n",
            "Hello World!\n",
            "Hello World!\n",
            "Hello World!\n",
            "Hello World!\n",
            "Hello World!\n",
            "Hello World!\n",
            "Hello World!\n",
            "Hello World!\n",
            "Hello World!\n",
            "Hello World!\n",
            "Hello World!\n",
            "Hello World!\n",
            "Hello World!\n",
            "Hello World!\n",
            "Hello World!\n",
            "Hello World!\n",
            "Hello World!\n",
            "Hello World!\n",
            "Hello World!\n",
            "Hello World!\n",
            "Hello World!\n",
            "Hello World!\n",
            "Hello World!\n",
            "Hello World!\n",
            "Hello World!\n",
            "Hello World!\n",
            "Hello World!\n",
            "Hello World!\n",
            "Hello World!\n",
            "Hello World!\n",
            "Hello World!\n",
            "Hello World!\n",
            "Hello World!\n",
            "Hello World!\n",
            "Hello World!\n",
            "Hello World!\n",
            "Hello World!\n",
            "Hello World!\n",
            "Hello World!\n",
            "Hello World!\n",
            "Hello World!\n",
            "Hello World!\n",
            "Hello World!\n",
            "Hello World!\n",
            "Hello World!\n",
            "Hello World!\n",
            "Hello World!\n",
            "Hello World!\n",
            "Hello World!\n",
            "Hello World!\n",
            "Hello World!\n",
            "Hello World!\n",
            "Hello World!\n",
            "Hello World!\n",
            "Hello World!\n",
            "Hello World!\n",
            "Hello World!\n",
            "Hello World!\n",
            "Hello World!\n",
            "Hello World!\n",
            "Hello World!\n",
            "Hello World!\n",
            "Hello World!\n",
            "Hello World!\n",
            "Hello World!\n",
            "Hello World!\n",
            "Hello World!\n",
            "Hello World!\n",
            "Hello World!\n",
            "Hello World!\n",
            "Hello World!\n",
            "Hello World!\n",
            "Hello World!\n",
            "Hello World!\n",
            "Hello World!\n",
            "Hello World!\n",
            "Hello World!\n",
            "Hello World!\n",
            "Hello World!\n",
            "Hello World!\n",
            "Hello World!\n",
            "Hello World!\n",
            "Hello World!\n",
            "Hello World!\n",
            "Hello World!\n",
            "Hello World!\n",
            "Hello World!\n",
            "Hello World!\n",
            "Hello World!\n",
            "Hello World!\n",
            "Hello World!\n",
            "Hello World!\n",
            "Hello World!\n",
            "Hello World!\n",
            "Hello World!\n",
            "Hello World!\n",
            "Hello World!\n",
            "Hello World!\n",
            "Hello World!\n",
            "Hello World!\n",
            "Hello World!\n",
            "Hello World!\n",
            "Hello World!\n",
            "Hello World!\n",
            "Hello World!\n",
            "Hello World!\n",
            "Hello World!\n",
            "Hello World!\n",
            "Hello World!\n",
            "Hello World!\n",
            "Hello World!\n",
            "Hello World!\n",
            "Hello World!\n",
            "Hello World!\n",
            "Hello World!\n",
            "Hello World!\n",
            "Hello World!\n",
            "Hello World!\n",
            "Hello World!\n",
            "Hello World!\n",
            "Hello World!\n",
            "Hello World!\n",
            "Hello World!\n",
            "Hello World!\n",
            "Hello World!\n",
            "Hello World!\n",
            "Hello World!\n",
            "Hello World!\n",
            "Hello World!\n",
            "Hello World!\n",
            "Hello World!\n",
            "Hello World!\n",
            "Hello World!\n",
            "Hello World!\n",
            "Hello World!\n",
            "Hello World!\n",
            "Hello World!\n",
            "Hello World!\n",
            "Hello World!\n",
            "Hello World!\n",
            "Hello World!\n",
            "Hello World!\n",
            "Hello World!\n",
            "Hello World!\n",
            "Hello World!\n",
            "Hello World!\n",
            "Hello World!\n",
            "Hello World!\n",
            "Hello World!\n",
            "Hello World!\n",
            "Hello World!\n",
            "Hello World!\n",
            "Hello World!\n",
            "Hello World!\n",
            "Hello World!\n",
            "Hello World!\n",
            "Hello World!\n",
            "Hello World!\n",
            "Hello World!\n",
            "Hello World!\n",
            "Hello World!\n",
            "Hello World!\n",
            "Hello World!\n",
            "Hello World!\n",
            "Hello World!\n",
            "Hello World!\n",
            "Hello World!\n",
            "Hello World!\n",
            "Hello World!\n",
            "Hello World!\n",
            "Hello World!\n",
            "Hello World!\n",
            "Hello World!\n",
            "Hello World!\n",
            "Hello World!\n",
            "Hello World!\n",
            "Hello World!\n",
            "Hello World!\n",
            "Hello World!\n",
            "Hello World!\n",
            "Hello World!\n",
            "Hello World!\n",
            "Hello World!\n",
            "Hello World!\n",
            "Hello World!\n",
            "Hello World!\n",
            "Hello World!\n",
            "Hello World!\n",
            "Hello World!\n",
            "Hello World!\n",
            "Hello World!\n",
            "Hello World!\n",
            "Hello World!\n",
            "Hello World!\n",
            "Hello World!\n",
            "Hello World!\n",
            "Hello World!\n",
            "Hello World!\n",
            "Hello World!\n",
            "Hello World!\n",
            "Hello World!\n",
            "Hello World!\n",
            "Hello World!\n",
            "Hello World!\n",
            "Hello World!\n",
            "Hello World!\n",
            "Hello World!\n",
            "Hello World!\n",
            "Hello World!\n",
            "Hello World!\n",
            "Hello World!\n",
            "Hello World!\n",
            "Hello World!\n",
            "Hello World!\n",
            "Hello World!\n",
            "Hello World!\n",
            "Hello World!\n",
            "Hello World!\n",
            "Hello World!\n",
            "Hello World!\n",
            "Hello World!\n",
            "Hello World!\n",
            "Hello World!\n",
            "Hello World!\n",
            "Hello World!\n",
            "Hello World!\n",
            "Hello World!\n",
            "Hello World!\n",
            "Hello World!\n",
            "Hello World!\n",
            "Hello World!\n",
            "Hello World!\n",
            "Hello World!\n",
            "Hello World!\n",
            "Hello World!\n",
            "Hello World!\n",
            "Hello World!\n",
            "Hello World!\n",
            "Hello World!\n",
            "Hello World!\n",
            "Hello World!\n",
            "Hello World!\n",
            "Hello World!\n",
            "Hello World!\n",
            "Hello World!\n",
            "Hello World!\n",
            "Hello World!\n",
            "Hello World!\n",
            "Hello World!\n",
            "Hello World!\n",
            "Hello World!\n",
            "Hello World!\n",
            "Hello World!\n",
            "Hello World!\n",
            "Hello World!\n",
            "Hello World!\n",
            "Hello World!\n",
            "Hello World!\n",
            "Hello World!\n",
            "Hello World!\n",
            "Hello World!\n",
            "Hello World!\n",
            "Hello World!\n",
            "Hello World!\n",
            "Hello World!\n",
            "Hello World!\n",
            "Hello World!\n",
            "Hello World!\n",
            "Hello World!\n",
            "Hello World!\n",
            "Hello World!\n",
            "Hello World!\n",
            "Hello World!\n",
            "Hello World!\n",
            "Hello World!\n",
            "Hello World!\n",
            "Hello World!\n",
            "Hello World!\n",
            "Hello World!\n",
            "Hello World!\n",
            "Hello World!\n",
            "Hello World!\n",
            "Hello World!\n",
            "Hello World!\n",
            "Hello World!\n",
            "Hello World!\n",
            "Hello World!\n",
            "Hello World!\n",
            "Hello World!\n",
            "Hello World!\n",
            "Hello World!\n",
            "Hello World!\n",
            "Hello World!\n",
            "Hello World!\n",
            "Hello World!\n",
            "Hello World!\n",
            "Hello World!\n",
            "Hello World!\n",
            "Hello World!\n",
            "Hello World!\n",
            "Hello World!\n",
            "Hello World!\n",
            "Hello World!\n",
            "Hello World!\n",
            "Hello World!\n",
            "Hello World!\n",
            "Hello World!\n",
            "Hello World!\n",
            "Hello World!\n",
            "Hello World!\n",
            "Hello World!\n",
            "Hello World!\n",
            "Hello World!\n",
            "Hello World!\n",
            "Hello World!\n",
            "Hello World!\n",
            "Hello World!\n",
            "Hello World!\n",
            "Hello World!\n",
            "Hello World!\n",
            "Hello World!\n",
            "Hello World!\n",
            "Hello World!\n",
            "Hello World!\n",
            "Hello World!\n",
            "Hello World!\n",
            "Hello World!\n",
            "Hello World!\n",
            "Hello World!\n",
            "Hello World!\n",
            "Hello World!\n",
            "Hello World!\n",
            "Hello World!\n",
            "Hello World!\n",
            "Hello World!\n",
            "Hello World!\n",
            "Hello World!\n",
            "Hello World!\n",
            "Hello World!\n",
            "Hello World!\n",
            "Hello World!\n",
            "Hello World!\n",
            "Hello World!\n",
            "Hello World!\n",
            "Hello World!\n",
            "Hello World!\n",
            "Hello World!\n",
            "Hello World!\n",
            "Hello World!\n",
            "Hello World!\n",
            "Hello World!\n",
            "Hello World!\n",
            "Hello World!\n",
            "Hello World!\n",
            "Hello World!\n",
            "Hello World!\n",
            "Hello World!\n",
            "Hello World!\n",
            "Hello World!\n",
            "Hello World!\n",
            "Hello World!\n",
            "Hello World!\n",
            "Hello World!\n",
            "Hello World!\n",
            "Hello World!\n",
            "Hello World!\n",
            "Hello World!\n",
            "Hello World!\n",
            "Hello World!\n",
            "Hello World!\n",
            "Hello World!\n",
            "Hello World!\n",
            "Hello World!\n",
            "Hello World!\n",
            "Hello World!\n",
            "Hello World!\n",
            "Hello World!\n",
            "Hello World!\n",
            "Hello World!\n",
            "Hello World!\n",
            "Hello World!\n",
            "Hello World!\n",
            "Hello World!\n",
            "Hello World!\n",
            "Hello World!\n",
            "Hello World!\n",
            "Hello World!\n",
            "Hello World!\n",
            "Hello World!\n",
            "Hello World!\n",
            "Hello World!\n",
            "Hello World!\n",
            "Hello World!\n",
            "Hello World!\n",
            "Hello World!\n",
            "Hello World!\n",
            "Hello World!\n",
            "Hello World!\n",
            "Hello World!\n",
            "Hello World!\n",
            "Hello World!\n",
            "Hello World!\n",
            "Hello World!\n",
            "Hello World!\n",
            "Hello World!\n",
            "Hello World!\n",
            "Hello World!\n",
            "Hello World!\n",
            "Hello World!\n",
            "Hello World!\n",
            "Hello World!\n",
            "Hello World!\n",
            "Hello World!\n",
            "Hello World!\n",
            "Hello World!\n",
            "Hello World!\n",
            "Hello World!\n",
            "Hello World!\n",
            "Hello World!\n",
            "Hello World!\n",
            "Hello World!\n",
            "Hello World!\n",
            "Hello World!\n",
            "Hello World!\n",
            "Hello World!\n",
            "Hello World!\n",
            "Hello World!\n",
            "Hello World!\n",
            "Hello World!\n",
            "Hello World!\n",
            "Hello World!\n",
            "Hello World!\n",
            "Hello World!\n",
            "Hello World!\n",
            "Hello World!\n",
            "Hello World!\n",
            "Hello World!\n",
            "Hello World!\n",
            "Hello World!\n",
            "Hello World!\n",
            "Hello World!\n",
            "Hello World!\n",
            "Hello World!\n",
            "Hello World!\n",
            "Hello World!\n",
            "Hello World!\n",
            "Hello World!\n",
            "Hello World!\n",
            "Hello World!\n",
            "Hello World!\n",
            "Hello World!\n",
            "Hello World!\n",
            "Hello World!\n",
            "Hello World!\n",
            "Hello World!\n",
            "Hello World!\n",
            "Hello World!\n",
            "Hello World!\n",
            "Hello World!\n",
            "Hello World!\n",
            "Hello World!\n",
            "Hello World!\n",
            "Hello World!\n",
            "Hello World!\n",
            "Hello World!\n",
            "Hello World!\n",
            "Hello World!\n",
            "Hello World!\n",
            "Hello World!\n",
            "Hello World!\n",
            "Hello World!\n",
            "Hello World!\n",
            "Hello World!\n",
            "Hello World!\n",
            "Hello World!\n",
            "Hello World!\n",
            "Hello World!\n",
            "Hello World!\n",
            "Hello World!\n",
            "Hello World!\n",
            "Hello World!\n",
            "Hello World!\n",
            "Hello World!\n",
            "Hello World!\n",
            "Hello World!\n",
            "Hello World!\n",
            "Hello World!\n",
            "Hello World!\n",
            "Hello World!\n",
            "Hello World!\n",
            "Hello World!\n",
            "Hello World!\n",
            "Hello World!\n",
            "Hello World!\n",
            "Hello World!\n",
            "Hello World!\n",
            "Hello World!\n",
            "Hello World!\n",
            "Hello World!\n",
            "Hello World!\n",
            "Hello World!\n",
            "Hello World!\n",
            "Hello World!\n",
            "Hello World!\n",
            "Hello World!\n",
            "Hello World!\n",
            "Hello World!\n",
            "Hello World!\n",
            "Hello World!\n",
            "Hello World!\n",
            "Hello World!\n",
            "Hello World!\n",
            "Hello World!\n",
            "Hello World!\n",
            "Hello World!\n",
            "Hello World!\n",
            "Hello World!\n",
            "Hello World!\n",
            "Hello World!\n",
            "Hello World!\n",
            "Hello World!\n",
            "Hello World!\n",
            "Hello World!\n",
            "Hello World!\n",
            "Hello World!\n",
            "Hello World!\n",
            "Hello World!\n",
            "Hello World!\n",
            "Hello World!\n",
            "Hello World!\n",
            "Hello World!\n",
            "Hello World!\n",
            "Hello World!\n",
            "Hello World!\n",
            "Hello World!\n",
            "Hello World!\n",
            "Hello World!\n",
            "Hello World!\n",
            "Hello World!\n",
            "Hello World!\n",
            "Hello World!\n",
            "Hello World!\n",
            "Hello World!\n",
            "Hello World!\n",
            "Hello World!\n",
            "Hello World!\n",
            "Hello World!\n",
            "Hello World!\n",
            "Hello World!\n",
            "Hello World!\n",
            "Hello World!\n",
            "Hello World!\n",
            "Hello World!\n",
            "Hello World!\n",
            "Hello World!\n",
            "Hello World!\n",
            "Hello World!\n",
            "Hello World!\n",
            "Hello World!\n",
            "Hello World!\n",
            "Hello World!\n",
            "Hello World!\n",
            "Hello World!\n",
            "Hello World!\n",
            "Hello World!\n",
            "Hello World!\n",
            "Hello World!\n",
            "Hello World!\n",
            "Hello World!\n",
            "Hello World!\n",
            "Hello World!\n",
            "Hello World!\n",
            "Hello World!\n",
            "Hello World!\n",
            "Hello World!\n",
            "Hello World!\n",
            "Hello World!\n",
            "Hello World!\n",
            "Hello World!\n",
            "Hello World!\n",
            "Hello World!\n",
            "Hello World!\n",
            "Hello World!\n",
            "Hello World!\n",
            "Hello World!\n",
            "Hello World!\n",
            "Hello World!\n",
            "Hello World!\n",
            "Hello World!\n",
            "Hello World!\n",
            "Hello World!\n",
            "Hello World!\n",
            "Hello World!\n",
            "Hello World!\n",
            "Hello World!\n",
            "Hello World!\n",
            "Hello World!\n",
            "Hello World!\n",
            "Hello World!\n",
            "Hello World!\n",
            "Hello World!\n",
            "Hello World!\n",
            "Hello World!\n",
            "Hello World!\n",
            "Hello World!\n",
            "Hello World!\n",
            "Hello World!\n",
            "Hello World!\n",
            "Hello World!\n",
            "Hello World!\n",
            "Hello World!\n",
            "Hello World!\n",
            "Hello World!\n",
            "Hello World!\n",
            "Hello World!\n",
            "Hello World!\n",
            "Hello World!\n",
            "Hello World!\n",
            "Hello World!\n",
            "Hello World!\n",
            "Hello World!\n",
            "Hello World!\n",
            "Hello World!\n",
            "Hello World!\n",
            "Hello World!\n",
            "Hello World!\n",
            "Hello World!\n",
            "Hello World!\n",
            "Hello World!\n",
            "Hello World!\n",
            "Hello World!\n",
            "Hello World!\n",
            "Hello World!\n",
            "Hello World!\n",
            "Hello World!\n",
            "Hello World!\n",
            "Hello World!\n",
            "Hello World!\n",
            "Hello World!\n",
            "Hello World!\n",
            "Hello World!\n",
            "Hello World!\n",
            "Hello World!\n",
            "Hello World!\n",
            "Hello World!\n",
            "Hello World!\n",
            "Hello World!\n",
            "Hello World!\n",
            "Hello World!\n",
            "Hello World!\n",
            "Hello World!\n",
            "Hello World!\n",
            "Hello World!\n",
            "Hello World!\n",
            "Hello World!\n",
            "Hello World!\n",
            "Hello World!\n",
            "Hello World!\n",
            "Hello World!\n",
            "Hello World!\n",
            "Hello World!\n",
            "Hello World!\n",
            "Hello World!\n",
            "Hello World!\n",
            "Hello World!\n",
            "Hello World!\n",
            "Hello World!\n",
            "Hello World!\n",
            "Hello World!\n",
            "Hello World!\n",
            "Hello World!\n",
            "Hello World!\n",
            "Hello World!\n",
            "Hello World!\n",
            "Hello World!\n",
            "Hello World!\n",
            "Hello World!\n",
            "Hello World!\n",
            "Hello World!\n",
            "Hello World!\n",
            "Hello World!\n",
            "Hello World!\n",
            "Hello World!\n",
            "Hello World!\n",
            "Hello World!\n",
            "Hello World!\n",
            "Hello World!\n",
            "Hello World!\n",
            "Hello World!\n",
            "Hello World!\n",
            "Hello World!\n",
            "Hello World!\n",
            "Hello World!\n",
            "Hello World!\n",
            "Hello World!\n",
            "Hello World!\n",
            "Hello World!\n",
            "Hello World!\n",
            "Hello World!\n",
            "Hello World!\n",
            "Hello World!\n",
            "Hello World!\n",
            "Hello World!\n",
            "Hello World!\n",
            "Hello World!\n",
            "Hello World!\n",
            "Hello World!\n",
            "Hello World!\n",
            "Hello World!\n",
            "Hello World!\n",
            "Hello World!\n",
            "Hello World!\n",
            "Hello World!\n",
            "Hello World!\n",
            "Hello World!\n",
            "Hello World!\n",
            "Hello World!\n",
            "Hello World!\n",
            "Hello World!\n",
            "Hello World!\n",
            "Hello World!\n",
            "Hello World!\n",
            "Hello World!\n",
            "Hello World!\n",
            "Hello World!\n",
            "Hello World!\n",
            "Hello World!\n",
            "Hello World!\n",
            "Hello World!\n",
            "Hello World!\n",
            "Hello World!\n",
            "Hello World!\n",
            "Hello World!\n",
            "Hello World!\n",
            "Hello World!\n",
            "Hello World!\n",
            "Hello World!\n",
            "Hello World!\n",
            "Hello World!\n",
            "Hello World!\n",
            "Hello World!\n",
            "Hello World!\n",
            "Hello World!\n",
            "Hello World!\n",
            "Hello World!\n",
            "Hello World!\n",
            "Hello World!\n",
            "Hello World!\n",
            "Hello World!\n",
            "Hello World!\n",
            "Hello World!\n",
            "Hello World!\n",
            "Hello World!\n",
            "Hello World!\n",
            "Hello World!\n",
            "Hello World!\n",
            "Hello World!\n",
            "Hello World!\n",
            "Hello World!\n",
            "Hello World!\n",
            "Hello World!\n",
            "Hello World!\n",
            "Hello World!\n",
            "Hello World!\n",
            "Hello World!\n",
            "Hello World!\n",
            "Hello World!\n",
            "Hello World!\n",
            "Hello World!\n",
            "Hello World!\n",
            "Hello World!\n",
            "Hello World!\n",
            "Hello World!\n",
            "Hello World!\n",
            "Hello World!\n",
            "Hello World!\n",
            "Hello World!\n",
            "Hello World!\n",
            "Hello World!\n",
            "Hello World!\n",
            "Hello World!\n",
            "Hello World!\n",
            "Hello World!\n",
            "Hello World!\n",
            "Hello World!\n",
            "Hello World!\n",
            "Hello World!\n",
            "Hello World!\n",
            "Hello World!\n",
            "Hello World!\n",
            "Hello World!\n",
            "Hello World!\n",
            "Hello World!\n",
            "Hello World!\n",
            "Hello World!\n",
            "Hello World!\n",
            "Hello World!\n",
            "Hello World!\n",
            "Hello World!\n",
            "Hello World!\n",
            "Hello World!\n",
            "Hello World!\n",
            "Hello World!\n",
            "Hello World!\n",
            "Hello World!\n",
            "Hello World!\n",
            "Hello World!\n",
            "Hello World!\n",
            "Hello World!\n",
            "Hello World!\n",
            "Hello World!\n",
            "Hello World!\n",
            "Hello World!\n",
            "Hello World!\n",
            "Hello World!\n",
            "Hello World!\n",
            "Hello World!\n",
            "Hello World!\n",
            "Hello World!\n",
            "Hello World!\n",
            "Hello World!\n",
            "Hello World!\n",
            "Hello World!\n",
            "Hello World!\n",
            "Hello World!\n",
            "Hello World!\n",
            "Hello World!\n",
            "Hello World!\n",
            "Hello World!\n",
            "Hello World!\n",
            "Hello World!\n",
            "Hello World!\n",
            "Hello World!\n",
            "Hello World!\n",
            "Hello World!\n",
            "Hello World!\n",
            "Hello World!\n",
            "Hello World!\n",
            "Hello World!\n",
            "Hello World!\n",
            "Hello World!\n",
            "Hello World!\n",
            "Hello World!\n",
            "Hello World!\n",
            "Hello World!\n",
            "Hello World!\n",
            "Hello World!\n",
            "Hello World!\n",
            "Hello World!\n",
            "Hello World!\n",
            "Hello World!\n",
            "Hello World!\n",
            "Hello World!\n",
            "Hello World!\n",
            "Hello World!\n",
            "Hello World!\n",
            "Hello World!\n",
            "Hello World!\n",
            "Hello World!\n",
            "Hello World!\n",
            "Hello World!\n",
            "Hello World!\n",
            "Hello World!\n",
            "Hello World!\n",
            "Hello World!\n",
            "Hello World!\n",
            "Hello World!\n",
            "Hello World!\n",
            "Hello World!\n",
            "Hello World!\n",
            "Hello World!\n",
            "Hello World!\n",
            "Hello World!\n",
            "Hello World!\n",
            "Hello World!\n",
            "Hello World!\n",
            "Hello World!\n",
            "Hello World!\n",
            "Hello World!\n",
            "Hello World!\n",
            "Hello World!\n",
            "Hello World!\n",
            "Hello World!\n",
            "Hello World!\n",
            "Hello World!\n",
            "Hello World!\n",
            "Hello World!\n",
            "Hello World!\n",
            "Hello World!\n",
            "Hello World!\n",
            "Hello World!\n",
            "Hello World!\n",
            "Hello World!\n",
            "Hello World!\n",
            "Hello World!\n",
            "Hello World!\n",
            "Hello World!\n",
            "Hello World!\n",
            "Hello World!\n",
            "Hello World!\n",
            "Hello World!\n",
            "Hello World!\n",
            "Hello World!\n",
            "Hello World!\n",
            "Hello World!\n",
            "Hello World!\n",
            "Hello World!\n",
            "Hello World!\n",
            "Hello World!\n",
            "Hello World!\n",
            "Hello World!\n",
            "Hello World!\n",
            "Hello World!\n",
            "Hello World!\n",
            "Hello World!\n",
            "Hello World!\n",
            "Hello World!\n",
            "Hello World!\n",
            "Hello World!\n",
            "Hello World!\n",
            "Hello World!\n",
            "Hello World!\n",
            "Hello World!\n",
            "Hello World!\n",
            "Hello World!\n",
            "Hello World!\n",
            "Hello World!\n",
            "Hello World!\n",
            "Hello World!\n",
            "Hello World!\n",
            "Hello World!\n",
            "Hello World!\n",
            "Hello World!\n",
            "Hello World!\n",
            "Hello World!\n",
            "Hello World!\n",
            "Hello World!\n",
            "Hello World!\n",
            "Hello World!\n",
            "Hello World!\n",
            "Hello World!\n",
            "Hello World!\n",
            "Hello World!\n",
            "Hello World!\n",
            "Hello World!\n",
            "Hello World!\n",
            "Hello World!\n",
            "Hello World!\n",
            "Hello World!\n",
            "Hello World!\n",
            "Hello World!\n",
            "Hello World!\n",
            "Hello World!\n",
            "Hello World!\n",
            "Hello World!\n",
            "Hello World!\n",
            "Hello World!\n",
            "Hello World!\n",
            "Hello World!\n",
            "Hello World!\n",
            "Hello World!\n",
            "Hello World!\n",
            "Hello World!\n",
            "Hello World!\n",
            "Hello World!\n",
            "Hello World!\n",
            "Hello World!\n",
            "Hello World!\n",
            "Hello World!\n",
            "Hello World!\n",
            "Hello World!\n",
            "Hello World!\n",
            "Hello World!\n",
            "Hello World!\n",
            "Hello World!\n",
            "Hello World!\n",
            "Hello World!\n",
            "Hello World!\n",
            "Hello World!\n",
            "Hello World!\n",
            "Hello World!\n",
            "Hello World!\n",
            "Hello World!\n",
            "Hello World!\n",
            "Hello World!\n",
            "Hello World!\n",
            "Hello World!\n",
            "Hello World!\n",
            "Hello World!\n",
            "Hello World!\n",
            "Hello World!\n",
            "Hello World!\n",
            "Hello World!\n",
            "Hello World!\n",
            "Hello World!\n",
            "Hello World!\n",
            "Hello World!\n",
            "Hello World!\n",
            "Hello World!\n",
            "Hello World!\n",
            "Hello World!\n",
            "Hello World!\n",
            "Hello World!\n",
            "Hello World!\n",
            "Hello World!\n",
            "Hello World!\n",
            "Hello World!\n",
            "Hello World!\n",
            "Hello World!\n",
            "Hello World!\n",
            "Hello World!\n",
            "Hello World!\n",
            "Hello World!\n",
            "Hello World!\n",
            "Hello World!\n",
            "Hello World!\n",
            "Hello World!\n",
            "Hello World!\n",
            "Hello World!\n",
            "Hello World!\n",
            "Hello World!\n",
            "Hello World!\n",
            "Hello World!\n",
            "Hello World!\n",
            "Hello World!\n",
            "Hello World!\n",
            "Hello World!\n",
            "Hello World!\n",
            "Hello World!\n",
            "Hello World!\n",
            "Hello World!\n",
            "Hello World!\n",
            "Hello World!\n",
            "Hello World!\n",
            "Hello World!\n",
            "Hello World!\n",
            "Hello World!\n",
            "Hello World!\n",
            "Hello World!\n",
            "Hello World!\n",
            "Hello World!\n",
            "Hello World!\n",
            "Hello World!\n",
            "Hello World!\n",
            "Hello World!\n",
            "Hello World!\n",
            "Hello World!\n",
            "Hello World!\n",
            "Hello World!\n",
            "Hello World!\n",
            "Hello World!\n",
            "Hello World!\n",
            "Hello World!\n",
            "Hello World!\n",
            "Hello World!\n",
            "Hello World!\n",
            "Hello World!\n",
            "Hello World!\n",
            "Hello World!\n",
            "Hello World!\n",
            "Hello World!\n",
            "Hello World!\n",
            "Hello World!\n",
            "Hello World!\n",
            "Hello World!\n",
            "Hello World!\n",
            "Hello World!\n",
            "Hello World!\n",
            "Hello World!\n",
            "Hello World!\n",
            "Hello World!\n",
            "Hello World!\n",
            "Hello World!\n",
            "Hello World!\n",
            "Hello World!\n",
            "Hello World!\n",
            "Hello World!\n",
            "Hello World!\n",
            "Hello World!\n",
            "Hello World!\n",
            "Hello World!\n",
            "Hello World!\n",
            "Hello World!\n",
            "Hello World!\n",
            "Hello World!\n",
            "Hello World!\n",
            "Hello World!\n",
            "Hello World!\n",
            "Hello World!\n",
            "Hello World!\n",
            "Hello World!\n",
            "Hello World!\n",
            "Hello World!\n",
            "Hello World!\n",
            "Hello World!\n",
            "Hello World!\n",
            "Hello World!\n",
            "Hello World!\n",
            "Hello World!\n",
            "Hello World!\n",
            "Hello World!\n",
            "Hello World!\n",
            "Hello World!\n",
            "Hello World!\n",
            "Hello World!\n",
            "Hello World!\n",
            "Hello World!\n",
            "Hello World!\n",
            "Hello World!\n",
            "Hello World!\n",
            "Hello World!\n",
            "Hello World!\n",
            "Hello World!\n",
            "Hello World!\n",
            "Hello World!\n",
            "Hello World!\n",
            "Hello World!\n",
            "Hello World!\n",
            "Hello World!\n",
            "Hello World!\n",
            "Hello World!\n",
            "Hello World!\n",
            "Hello World!\n",
            "Hello World!\n",
            "Hello World!\n",
            "Hello World!\n",
            "Hello World!\n",
            "Hello World!\n",
            "Hello World!\n",
            "Hello World!\n",
            "Hello World!\n",
            "Hello World!\n",
            "Hello World!\n",
            "Hello World!\n",
            "Hello World!\n",
            "Hello World!\n",
            "Hello World!\n",
            "Hello World!\n",
            "Hello World!\n",
            "Hello World!\n",
            "Hello World!\n",
            "Hello World!\n",
            "Hello World!\n",
            "Hello World!\n",
            "Hello World!\n",
            "Hello World!\n",
            "Hello World!\n",
            "Hello World!\n",
            "Hello World!\n",
            "Hello World!\n",
            "Hello World!\n",
            "Hello World!\n",
            "Hello World!\n",
            "Hello World!\n",
            "Hello World!\n",
            "Hello World!\n",
            "Hello World!\n",
            "Hello World!\n",
            "Hello World!\n",
            "Hello World!\n",
            "Hello World!\n",
            "Hello World!\n",
            "Hello World!\n",
            "Hello World!\n",
            "Hello World!\n",
            "Hello World!\n",
            "Hello World!\n",
            "Hello World!\n",
            "Hello World!\n",
            "Hello World!\n",
            "Hello World!\n",
            "Hello World!\n",
            "Hello World!\n",
            "Hello World!\n",
            "Hello World!\n",
            "Hello World!\n",
            "Hello World!\n",
            "Hello World!\n",
            "Hello World!\n",
            "Hello World!\n",
            "Hello World!\n",
            "Hello World!\n",
            "Hello World!\n",
            "Hello World!\n",
            "Hello World!\n",
            "Hello World!\n",
            "Hello World!\n",
            "Hello World!\n",
            "Hello World!\n",
            "Hello World!\n",
            "Hello World!\n",
            "Hello World!\n",
            "Hello World!\n",
            "Hello World!\n",
            "Hello World!\n",
            "Hello World!\n",
            "Hello World!\n",
            "Hello World!\n",
            "Hello World!\n",
            "Hello World!\n",
            "Hello World!\n",
            "Hello World!\n",
            "Hello World!\n",
            "Hello World!\n",
            "Hello World!\n",
            "Hello World!\n",
            "Hello World!\n",
            "Hello World!\n",
            "Hello World!\n",
            "Hello World!\n",
            "Hello World!\n",
            "Hello World!\n",
            "Hello World!\n",
            "Hello World!\n",
            "Hello World!\n",
            "Hello World!\n",
            "Hello World!\n",
            "Hello World!\n",
            "Hello World!\n",
            "Hello World!\n",
            "Hello World!\n",
            "Hello World!\n",
            "Hello World!\n",
            "Hello World!\n",
            "Hello World!\n",
            "Hello World!\n",
            "Hello World!\n",
            "Hello World!\n",
            "Hello World!\n",
            "Hello World!\n",
            "Hello World!\n",
            "Hello World!\n",
            "Hello World!\n",
            "Hello World!\n",
            "Hello World!\n",
            "Hello World!\n",
            "Hello World!\n",
            "Hello World!\n",
            "Hello World!\n",
            "Hello World!\n",
            "Hello World!\n",
            "Hello World!\n",
            "Hello World!\n",
            "Hello World!\n",
            "Hello World!\n",
            "Hello World!\n",
            "Hello World!\n",
            "Hello World!\n",
            "Hello World!\n",
            "Hello World!\n",
            "Hello World!\n",
            "Hello World!\n",
            "Hello World!\n",
            "Hello World!\n",
            "Hello World!\n",
            "Hello World!\n",
            "Hello World!\n",
            "Hello World!\n",
            "Hello World!\n",
            "Hello World!\n",
            "Hello World!\n",
            "Hello World!\n",
            "Hello World!\n",
            "Hello World!\n",
            "Hello World!\n",
            "Hello World!\n",
            "Hello World!\n",
            "Hello World!\n",
            "Hello World!\n",
            "Hello World!\n",
            "Hello World!\n",
            "Hello World!\n",
            "Hello World!\n",
            "Hello World!\n",
            "Hello World!\n",
            "Hello World!\n",
            "Hello World!\n",
            "Hello World!\n",
            "Hello World!\n",
            "Hello World!\n",
            "Hello World!\n",
            "Hello World!\n",
            "Hello World!\n",
            "Hello World!\n",
            "Hello World!\n",
            "Hello World!\n",
            "Hello World!\n",
            "Hello World!\n",
            "Hello World!\n",
            "Hello World!\n",
            "Hello World!\n",
            "Hello World!\n",
            "Hello World!\n",
            "Hello World!\n",
            "Hello World!\n",
            "Hello World!\n",
            "Hello World!\n",
            "Hello World!\n",
            "Hello World!\n",
            "Hello World!\n",
            "Hello World!\n",
            "Hello World!\n",
            "Hello World!\n",
            "Hello World!\n",
            "Hello World!\n",
            "Hello World!\n",
            "Hello World!\n",
            "Hello World!\n",
            "Hello World!\n",
            "Hello World!\n",
            "Hello World!\n",
            "Hello World!\n",
            "Hello World!\n",
            "Hello World!\n",
            "Hello World!\n",
            "Hello World!\n",
            "Hello World!\n",
            "Hello World!\n",
            "Hello World!\n",
            "Hello World!\n",
            "Hello World!\n",
            "Hello World!\n",
            "Hello World!\n",
            "Hello World!\n",
            "Hello World!\n",
            "Hello World!\n",
            "Hello World!\n",
            "Hello World!\n",
            "Hello World!\n",
            "Hello World!\n",
            "Hello World!\n",
            "Hello World!\n",
            "Hello World!\n",
            "Hello World!\n",
            "Hello World!\n",
            "Hello World!\n",
            "Hello World!\n",
            "Hello World!\n",
            "Hello World!\n",
            "Hello World!\n",
            "Hello World!\n",
            "Hello World!\n",
            "Hello World!\n",
            "Hello World!\n",
            "Hello World!\n",
            "Hello World!\n",
            "Hello World!\n",
            "Hello World!\n",
            "Hello World!\n",
            "Hello World!\n",
            "Hello World!\n",
            "Hello World!\n",
            "Hello World!\n",
            "Hello World!\n",
            "Hello World!\n",
            "Hello World!\n",
            "Hello World!\n",
            "Hello World!\n",
            "Hello World!\n",
            "Hello World!\n",
            "Hello World!\n",
            "Hello World!\n",
            "Hello World!\n",
            "Hello World!\n",
            "Hello World!\n",
            "Hello World!\n",
            "Hello World!\n",
            "Hello World!\n",
            "Hello World!\n",
            "Hello World!\n",
            "Hello World!\n",
            "Hello World!\n",
            "Hello World!\n",
            "Hello World!\n",
            "Hello World!\n",
            "Hello World!\n",
            "Hello World!\n",
            "Hello World!\n",
            "Hello World!\n",
            "Hello World!\n",
            "Hello World!\n",
            "Hello World!\n",
            "Hello World!\n",
            "Hello World!\n",
            "Hello World!\n",
            "Hello World!\n",
            "Hello World!\n",
            "Hello World!\n",
            "Hello World!\n",
            "Hello World!\n",
            "Hello World!\n",
            "Hello World!\n",
            "Hello World!\n",
            "Hello World!\n",
            "Hello World!\n",
            "Hello World!\n",
            "Hello World!\n",
            "Hello World!\n",
            "Hello World!\n",
            "Hello World!\n",
            "Hello World!\n",
            "Hello World!\n",
            "Hello World!\n",
            "Hello World!\n",
            "Hello World!\n",
            "Hello World!\n",
            "Hello World!\n",
            "Hello World!\n",
            "Hello World!\n",
            "Hello World!\n",
            "Hello World!\n",
            "Hello World!\n",
            "Hello World!\n",
            "Hello World!\n",
            "Hello World!\n",
            "Hello World!\n",
            "Hello World!\n",
            "Hello World!\n",
            "Hello World!\n",
            "Hello World!\n",
            "Hello World!\n",
            "Hello World!\n",
            "Hello World!\n",
            "Hello World!\n",
            "Hello World!\n",
            "Hello World!\n",
            "Hello World!\n",
            "Hello World!\n",
            "Hello World!\n",
            "Hello World!\n",
            "Hello World!\n",
            "Hello World!\n",
            "Hello World!\n",
            "Hello World!\n",
            "Hello World!\n",
            "Hello World!\n",
            "Hello World!\n",
            "Hello World!\n",
            "Hello World!\n",
            "Hello World!\n",
            "Hello World!\n",
            "Hello World!\n",
            "Hello World!\n",
            "Hello World!\n",
            "Hello World!\n",
            "Hello World!\n",
            "Hello World!\n",
            "Hello World!\n",
            "Hello World!\n",
            "Hello World!\n",
            "Hello World!\n",
            "Hello World!\n",
            "Hello World!\n",
            "Hello World!\n",
            "Hello World!\n",
            "Hello World!\n",
            "Hello World!\n",
            "Hello World!\n",
            "Hello World!\n",
            "Hello World!\n",
            "Hello World!\n",
            "Hello World!\n",
            "Hello World!\n",
            "Hello World!\n",
            "Hello World!\n",
            "Hello World!\n",
            "Hello World!\n",
            "Hello World!\n",
            "Hello World!\n",
            "Hello World!\n",
            "Hello World!\n",
            "Hello World!\n",
            "Hello World!\n",
            "Hello World!\n",
            "Hello World!\n",
            "Hello World!\n",
            "Hello World!\n",
            "Hello World!\n",
            "Hello World!\n",
            "Hello World!\n",
            "Hello World!\n",
            "Hello World!\n",
            "Hello World!\n",
            "Hello World!\n",
            "Hello World!\n",
            "Hello World!\n",
            "Hello World!\n",
            "Hello World!\n",
            "Hello World!\n",
            "Hello World!\n",
            "Hello World!\n",
            "Hello World!\n",
            "Hello World!\n",
            "Hello World!\n",
            "Hello World!\n",
            "Hello World!\n",
            "Hello World!\n",
            "Hello World!\n",
            "Hello World!\n",
            "Hello World!\n",
            "Hello World!\n",
            "Hello World!\n",
            "Hello World!\n",
            "Hello World!\n",
            "Hello World!\n",
            "Hello World!\n",
            "Hello World!\n",
            "Hello World!\n",
            "Hello World!\n",
            "Hello World!\n",
            "Hello World!\n",
            "Hello World!\n",
            "Hello World!\n",
            "Hello World!\n",
            "Hello World!\n",
            "Hello World!\n",
            "Hello World!\n",
            "Hello World!\n",
            "Hello World!\n",
            "Hello World!\n",
            "Hello World!\n",
            "Hello World!\n",
            "Hello World!\n",
            "Hello World!\n",
            "Hello World!\n",
            "Hello World!\n",
            "Hello World!\n",
            "Hello World!\n",
            "Hello World!\n",
            "Hello World!\n",
            "Hello World!\n",
            "Hello World!\n",
            "Hello World!\n",
            "Hello World!\n",
            "Hello World!\n",
            "Hello World!\n",
            "Hello World!\n",
            "Hello World!\n",
            "Hello World!\n",
            "Hello World!\n",
            "Hello World!\n",
            "Hello World!\n",
            "Hello World!\n",
            "Hello World!\n",
            "Hello World!\n",
            "Hello World!\n",
            "Hello World!\n",
            "Hello World!\n",
            "Hello World!\n",
            "Hello World!\n",
            "Hello World!\n",
            "Hello World!\n",
            "Hello World!\n",
            "Hello World!\n",
            "Hello World!\n",
            "Hello World!\n",
            "Hello World!\n",
            "Hello World!\n",
            "Hello World!\n",
            "Hello World!\n",
            "Hello World!\n",
            "Hello World!\n",
            "Hello World!\n",
            "Hello World!\n",
            "Hello World!\n",
            "Hello World!\n",
            "Hello World!\n",
            "Hello World!\n",
            "Hello World!\n",
            "Hello World!\n",
            "Hello World!\n",
            "Hello World!\n",
            "Hello World!\n",
            "Hello World!\n",
            "Hello World!\n",
            "Hello World!\n",
            "Hello World!\n",
            "Hello World!\n",
            "Hello World!\n",
            "Hello World!\n",
            "Hello World!\n",
            "Hello World!\n",
            "Hello World!\n",
            "Hello World!\n",
            "Hello World!\n",
            "Hello World!\n",
            "Hello World!\n",
            "Hello World!\n",
            "Hello World!\n",
            "Hello World!\n",
            "Hello World!\n",
            "Hello World!\n",
            "Hello World!\n",
            "Hello World!\n",
            "Hello World!\n",
            "Hello World!\n",
            "Hello World!\n",
            "Hello World!\n",
            "Hello World!\n",
            "Hello World!\n",
            "Hello World!\n",
            "Hello World!\n",
            "Hello World!\n",
            "Hello World!\n",
            "Hello World!\n",
            "Hello World!\n",
            "Hello World!\n",
            "Hello World!\n",
            "Hello World!\n",
            "Hello World!\n",
            "Hello World!\n",
            "Hello World!\n",
            "Hello World!\n",
            "Hello World!\n",
            "Hello World!\n",
            "Hello World!\n",
            "Hello World!\n",
            "Hello World!\n",
            "Hello World!\n",
            "Hello World!\n",
            "Hello World!\n",
            "Hello World!\n",
            "Hello World!\n",
            "Hello World!\n",
            "Hello World!\n",
            "Hello World!\n",
            "Hello World!\n",
            "Hello World!\n",
            "Hello World!\n",
            "Hello World!\n",
            "Hello World!\n",
            "Hello World!\n",
            "Hello World!\n",
            "Hello World!\n",
            "Hello World!\n",
            "Hello World!\n",
            "Hello World!\n",
            "Hello World!\n",
            "Hello World!\n",
            "Hello World!\n",
            "Hello World!\n",
            "Hello World!\n",
            "Hello World!\n",
            "Hello World!\n",
            "Hello World!\n",
            "Hello World!\n",
            "Hello World!\n",
            "Hello World!\n",
            "Hello World!\n",
            "Hello World!\n",
            "Hello World!\n",
            "Hello World!\n",
            "Hello World!\n",
            "Hello World!\n",
            "Hello World!\n",
            "Hello World!\n",
            "Hello World!\n",
            "Hello World!\n",
            "Hello World!\n",
            "Hello World!\n",
            "Hello World!\n",
            "Hello World!\n",
            "Hello World!\n",
            "Hello World!\n",
            "Hello World!\n",
            "Hello World!\n",
            "Hello World!\n",
            "Hello World!\n",
            "Hello World!\n",
            "Hello World!\n",
            "Hello World!\n",
            "Hello World!\n",
            "Hello World!\n",
            "Hello World!\n",
            "Hello World!\n",
            "Hello World!\n",
            "Hello World!\n",
            "Hello World!\n",
            "Hello World!\n",
            "Hello World!\n",
            "Hello World!\n",
            "Hello World!\n",
            "Hello World!\n",
            "Hello World!\n",
            "Hello World!\n",
            "Hello World!\n",
            "Hello World!\n",
            "Hello World!\n",
            "Hello World!\n",
            "Hello World!\n",
            "Hello World!\n",
            "Hello World!\n",
            "Hello World!\n",
            "Hello World!\n",
            "Hello World!\n",
            "Hello World!\n",
            "Hello World!\n",
            "Hello World!\n",
            "Hello World!\n",
            "Hello World!\n",
            "Hello World!\n",
            "Hello World!\n",
            "Hello World!\n",
            "Hello World!\n",
            "Hello World!\n",
            "Hello World!\n",
            "Hello World!\n",
            "Hello World!\n",
            "Hello World!\n",
            "Hello World!\n",
            "Hello World!\n",
            "Hello World!\n",
            "Hello World!\n",
            "Hello World!\n",
            "Hello World!\n",
            "Hello World!\n",
            "Hello World!\n",
            "Hello World!\n",
            "Hello World!\n",
            "Hello World!\n",
            "Hello World!\n",
            "Hello World!\n",
            "Hello World!\n",
            "Hello World!\n",
            "Hello World!\n",
            "Hello World!\n",
            "Hello World!\n",
            "Hello World!\n",
            "Hello World!\n",
            "Hello World!\n",
            "Hello World!\n",
            "Hello World!\n",
            "Hello World!\n",
            "Hello World!\n",
            "Hello World!\n",
            "Hello World!\n",
            "Hello World!\n",
            "Hello World!\n",
            "Hello World!\n",
            "Hello World!\n",
            "Hello World!\n",
            "Hello World!\n",
            "Hello World!\n",
            "Hello World!\n",
            "Hello World!\n",
            "Hello World!\n",
            "Hello World!\n",
            "Hello World!\n",
            "Hello World!\n",
            "Hello World!\n",
            "Hello World!\n",
            "Hello World!\n",
            "Hello World!\n",
            "Hello World!\n",
            "Hello World!\n",
            "Hello World!\n",
            "Hello World!\n",
            "Hello World!\n",
            "Hello World!\n",
            "Hello World!\n",
            "Hello World!\n",
            "Hello World!\n",
            "Hello World!\n",
            "Hello World!\n",
            "Hello World!\n",
            "Hello World!\n",
            "Hello World!\n",
            "Hello World!\n",
            "Hello World!\n",
            "Hello World!\n",
            "Hello World!\n",
            "Hello World!\n",
            "Hello World!\n",
            "Hello World!\n",
            "Hello World!\n",
            "Hello World!\n",
            "Hello World!\n",
            "Hello World!\n",
            "Hello World!\n",
            "Hello World!\n",
            "Hello World!\n",
            "Hello World!\n",
            "Hello World!\n",
            "Hello World!\n",
            "Hello World!\n",
            "Hello World!\n",
            "Hello World!\n",
            "Hello World!\n",
            "Hello World!\n",
            "Hello World!\n",
            "Hello World!\n",
            "Hello World!\n",
            "Hello World!\n",
            "Hello World!\n",
            "Hello World!\n",
            "Hello World!\n",
            "Hello World!\n",
            "Hello World!\n",
            "Hello World!\n",
            "Hello World!\n",
            "Hello World!\n",
            "Hello World!\n",
            "Hello World!\n",
            "Hello World!\n",
            "Hello World!\n",
            "Hello World!\n",
            "Hello World!\n",
            "Hello World!\n",
            "Hello World!\n",
            "Hello World!\n",
            "Hello World!\n",
            "Hello World!\n",
            "Hello World!\n",
            "Hello World!\n",
            "Hello World!\n",
            "Hello World!\n",
            "Hello World!\n",
            "Hello World!\n",
            "Hello World!\n",
            "Hello World!\n",
            "Hello World!\n",
            "Hello World!\n",
            "Hello World!\n",
            "Hello World!\n",
            "Hello World!\n",
            "Hello World!\n",
            "Hello World!\n",
            "Hello World!\n",
            "Hello World!\n",
            "Hello World!\n",
            "Hello World!\n",
            "Hello World!\n",
            "Hello World!\n",
            "Hello World!\n",
            "Hello World!\n",
            "Hello World!\n",
            "Hello World!\n",
            "Hello World!\n",
            "Hello World!\n",
            "Hello World!\n",
            "Hello World!\n",
            "Hello World!\n",
            "Hello World!\n",
            "Hello World!\n",
            "Hello World!\n",
            "Hello World!\n",
            "Hello World!\n",
            "Hello World!\n",
            "Hello World!\n",
            "Hello World!\n",
            "Hello World!\n",
            "Hello World!\n",
            "Hello World!\n",
            "Hello World!\n",
            "Hello World!\n",
            "Hello World!\n",
            "Hello World!\n",
            "Hello World!\n",
            "Hello World!\n",
            "Hello World!\n",
            "Hello World!\n",
            "Hello World!\n",
            "Hello World!\n",
            "Hello World!\n",
            "Hello World!\n",
            "Hello World!\n",
            "Hello World!\n",
            "Hello World!\n",
            "Hello World!\n",
            "Hello World!\n",
            "Hello World!\n",
            "Hello World!\n",
            "Hello World!\n",
            "Hello World!\n",
            "Hello World!\n",
            "Hello World!\n",
            "Hello World!\n",
            "Hello World!\n",
            "Hello World!\n",
            "Hello World!\n",
            "Hello World!\n",
            "Hello World!\n",
            "Hello World!\n",
            "Hello World!\n",
            "Hello World!\n",
            "Hello World!\n",
            "Hello World!\n",
            "Hello World!\n",
            "Hello World!\n",
            "Hello World!\n",
            "Hello World!\n",
            "Hello World!\n",
            "Hello World!\n",
            "Hello World!\n",
            "Hello World!\n",
            "Hello World!\n",
            "Hello World!\n",
            "Hello World!\n",
            "Hello World!\n",
            "Hello World!\n",
            "Hello World!\n",
            "Hello World!\n",
            "Hello World!\n",
            "Hello World!\n",
            "Hello World!\n",
            "Hello World!\n",
            "Hello World!\n",
            "Hello World!\n",
            "Hello World!\n",
            "Hello World!\n",
            "Hello World!\n",
            "Hello World!\n",
            "Hello World!\n",
            "Hello World!\n",
            "Hello World!\n",
            "Hello World!\n",
            "Hello World!\n",
            "Hello World!\n",
            "Hello World!\n",
            "Hello World!\n",
            "Hello World!\n",
            "Hello World!\n",
            "Hello World!\n",
            "Hello World!\n",
            "Hello World!\n",
            "Hello World!\n",
            "Hello World!\n",
            "Hello World!\n",
            "Hello World!\n",
            "Hello World!\n",
            "Hello World!\n",
            "Hello World!\n",
            "Hello World!\n",
            "Hello World!\n",
            "Hello World!\n",
            "Hello World!\n",
            "Hello World!\n",
            "Hello World!\n",
            "Hello World!\n",
            "Hello World!\n",
            "Hello World!\n",
            "Hello World!\n",
            "Hello World!\n",
            "Hello World!\n",
            "Hello World!\n",
            "Hello World!\n",
            "Hello World!\n",
            "Hello World!\n",
            "Hello World!\n",
            "Hello World!\n",
            "Hello World!\n",
            "Hello World!\n",
            "Hello World!\n",
            "Hello World!\n",
            "Hello World!\n",
            "Hello World!\n",
            "Hello World!\n",
            "Hello World!\n",
            "Hello World!\n",
            "Hello World!\n",
            "Hello World!\n",
            "Hello World!\n",
            "Hello World!\n",
            "Hello World!\n",
            "Hello World!\n",
            "Hello World!\n",
            "Hello World!\n",
            "Hello World!\n",
            "Hello World!\n",
            "Hello World!\n",
            "Hello World!\n",
            "Hello World!\n",
            "Hello World!\n",
            "Hello World!\n",
            "Hello World!\n",
            "Hello World!\n",
            "Hello World!\n",
            "Hello World!\n",
            "Hello World!\n",
            "Hello World!\n",
            "Hello World!\n",
            "Hello World!\n",
            "Hello World!\n"
          ]
        },
        {
          "output_type": "error",
          "ename": "KeyboardInterrupt",
          "evalue": "",
          "traceback": [
            "\u001b[0;31m---------------------------------------------------------------------------\u001b[0m",
            "\u001b[0;31mKeyboardInterrupt\u001b[0m                         Traceback (most recent call last)",
            "\u001b[0;32m<ipython-input-57-0f2cee99d403>\u001b[0m in \u001b[0;36m<cell line: 1>\u001b[0;34m()\u001b[0m\n\u001b[1;32m      1\u001b[0m \u001b[0;32mwhile\u001b[0m \u001b[0;32mTrue\u001b[0m\u001b[0;34m:\u001b[0m\u001b[0;34m\u001b[0m\u001b[0;34m\u001b[0m\u001b[0m\n\u001b[0;32m----> 2\u001b[0;31m   \u001b[0mprint\u001b[0m\u001b[0;34m(\u001b[0m\u001b[0;34m'Hello World!'\u001b[0m\u001b[0;34m)\u001b[0m\u001b[0;34m\u001b[0m\u001b[0;34m\u001b[0m\u001b[0m\n\u001b[0m",
            "\u001b[0;32m/usr/local/lib/python3.10/dist-packages/ipykernel/iostream.py\u001b[0m in \u001b[0;36mwrite\u001b[0;34m(self, string)\u001b[0m\n\u001b[1;32m    398\u001b[0m                 \u001b[0mstring\u001b[0m \u001b[0;34m=\u001b[0m \u001b[0mstring\u001b[0m\u001b[0;34m.\u001b[0m\u001b[0mdecode\u001b[0m\u001b[0;34m(\u001b[0m\u001b[0mself\u001b[0m\u001b[0;34m.\u001b[0m\u001b[0mencoding\u001b[0m\u001b[0;34m,\u001b[0m \u001b[0;34m'replace'\u001b[0m\u001b[0;34m)\u001b[0m\u001b[0;34m\u001b[0m\u001b[0;34m\u001b[0m\u001b[0m\n\u001b[1;32m    399\u001b[0m \u001b[0;34m\u001b[0m\u001b[0m\n\u001b[0;32m--> 400\u001b[0;31m             \u001b[0mis_child\u001b[0m \u001b[0;34m=\u001b[0m \u001b[0;34m(\u001b[0m\u001b[0;32mnot\u001b[0m \u001b[0mself\u001b[0m\u001b[0;34m.\u001b[0m\u001b[0m_is_master_process\u001b[0m\u001b[0;34m(\u001b[0m\u001b[0;34m)\u001b[0m\u001b[0;34m)\u001b[0m\u001b[0;34m\u001b[0m\u001b[0;34m\u001b[0m\u001b[0m\n\u001b[0m\u001b[1;32m    401\u001b[0m             \u001b[0;31m# only touch the buffer in the IO thread to avoid races\u001b[0m\u001b[0;34m\u001b[0m\u001b[0;34m\u001b[0m\u001b[0m\n\u001b[1;32m    402\u001b[0m             \u001b[0mself\u001b[0m\u001b[0;34m.\u001b[0m\u001b[0mpub_thread\u001b[0m\u001b[0;34m.\u001b[0m\u001b[0mschedule\u001b[0m\u001b[0;34m(\u001b[0m\u001b[0;32mlambda\u001b[0m \u001b[0;34m:\u001b[0m \u001b[0mself\u001b[0m\u001b[0;34m.\u001b[0m\u001b[0m_buffer\u001b[0m\u001b[0;34m.\u001b[0m\u001b[0mwrite\u001b[0m\u001b[0;34m(\u001b[0m\u001b[0mstring\u001b[0m\u001b[0;34m)\u001b[0m\u001b[0;34m)\u001b[0m\u001b[0;34m\u001b[0m\u001b[0;34m\u001b[0m\u001b[0m\n",
            "\u001b[0;32m/usr/local/lib/python3.10/dist-packages/ipykernel/iostream.py\u001b[0m in \u001b[0;36m_is_master_process\u001b[0;34m(self)\u001b[0m\n\u001b[1;32m    307\u001b[0m \u001b[0;34m\u001b[0m\u001b[0m\n\u001b[1;32m    308\u001b[0m     \u001b[0;32mdef\u001b[0m \u001b[0m_is_master_process\u001b[0m\u001b[0;34m(\u001b[0m\u001b[0mself\u001b[0m\u001b[0;34m)\u001b[0m\u001b[0;34m:\u001b[0m\u001b[0;34m\u001b[0m\u001b[0;34m\u001b[0m\u001b[0m\n\u001b[0;32m--> 309\u001b[0;31m         \u001b[0;32mreturn\u001b[0m \u001b[0mos\u001b[0m\u001b[0;34m.\u001b[0m\u001b[0mgetpid\u001b[0m\u001b[0;34m(\u001b[0m\u001b[0;34m)\u001b[0m \u001b[0;34m==\u001b[0m \u001b[0mself\u001b[0m\u001b[0;34m.\u001b[0m\u001b[0m_master_pid\u001b[0m\u001b[0;34m\u001b[0m\u001b[0;34m\u001b[0m\u001b[0m\n\u001b[0m\u001b[1;32m    310\u001b[0m \u001b[0;34m\u001b[0m\u001b[0m\n\u001b[1;32m    311\u001b[0m     \u001b[0;32mdef\u001b[0m \u001b[0mset_parent\u001b[0m\u001b[0;34m(\u001b[0m\u001b[0mself\u001b[0m\u001b[0;34m,\u001b[0m \u001b[0mparent\u001b[0m\u001b[0;34m)\u001b[0m\u001b[0;34m:\u001b[0m\u001b[0;34m\u001b[0m\u001b[0;34m\u001b[0m\u001b[0m\n",
            "\u001b[0;31mKeyboardInterrupt\u001b[0m: "
          ]
        }
      ]
    },
    {
      "cell_type": "code",
      "source": [
        "c = 0\n",
        "while True:\n",
        "  print('Hello World!')\n",
        "  c += 1\n",
        "  if c >= 5:\n",
        "    break"
      ],
      "metadata": {
        "colab": {
          "base_uri": "https://localhost:8080/"
        },
        "id": "CenpijYKKKNP",
        "outputId": "e4bbc7eb-7ef6-4a46-d69e-ccf9e46ecabe"
      },
      "execution_count": null,
      "outputs": [
        {
          "output_type": "stream",
          "name": "stdout",
          "text": [
            "Hello World!\n",
            "Hello World!\n",
            "Hello World!\n",
            "Hello World!\n",
            "Hello World!\n"
          ]
        }
      ]
    },
    {
      "cell_type": "code",
      "source": [
        "i = 0\n",
        "while i < 5:\n",
        "  if i == 2:\n",
        "    i += 1\n",
        "    continue\n",
        "  print(i)\n",
        "  i = i + 1  # i += 1"
      ],
      "metadata": {
        "colab": {
          "base_uri": "https://localhost:8080/"
        },
        "id": "P6cSRVbUKSL9",
        "outputId": "8bacb910-e2d4-46d4-f897-6d38ab6cd037"
      },
      "execution_count": null,
      "outputs": [
        {
          "output_type": "stream",
          "name": "stdout",
          "text": [
            "0\n",
            "1\n",
            "3\n",
            "4\n"
          ]
        }
      ]
    },
    {
      "cell_type": "code",
      "source": [
        "for i in range(5):\n",
        "  if i == 2:\n",
        "    continue\n",
        "  print(i)"
      ],
      "metadata": {
        "colab": {
          "base_uri": "https://localhost:8080/"
        },
        "id": "fMo4NOoFKiJQ",
        "outputId": "d813c25d-7a08-4808-af6a-1ff573159fca"
      },
      "execution_count": null,
      "outputs": [
        {
          "output_type": "stream",
          "name": "stdout",
          "text": [
            "0\n",
            "1\n",
            "3\n",
            "4\n"
          ]
        }
      ]
    },
    {
      "cell_type": "markdown",
      "source": [
        "### 函式"
      ],
      "metadata": {
        "id": "5ka8NVLHLKlz"
      }
    },
    {
      "cell_type": "code",
      "source": [
        "def square01(x):\n",
        "  print(x**2)\n",
        "\n",
        "def square02(x):\n",
        "  return x**2"
      ],
      "metadata": {
        "id": "QtyOBTjOLChk"
      },
      "execution_count": null,
      "outputs": []
    },
    {
      "cell_type": "code",
      "source": [
        "square01(2)"
      ],
      "metadata": {
        "colab": {
          "base_uri": "https://localhost:8080/"
        },
        "id": "eTi38tLNLZ8N",
        "outputId": "48dc0e61-5200-40f2-ae61-938e968fdb8d"
      },
      "execution_count": null,
      "outputs": [
        {
          "output_type": "stream",
          "name": "stdout",
          "text": [
            "4\n"
          ]
        }
      ]
    },
    {
      "cell_type": "code",
      "source": [
        "square02(2)"
      ],
      "metadata": {
        "colab": {
          "base_uri": "https://localhost:8080/"
        },
        "id": "eIpvv26WLdEW",
        "outputId": "5d517786-ad65-4614-8533-662d25848d24"
      },
      "execution_count": null,
      "outputs": [
        {
          "output_type": "execute_result",
          "data": {
            "text/plain": [
              "4"
            ]
          },
          "metadata": {},
          "execution_count": 64
        }
      ]
    },
    {
      "cell_type": "code",
      "source": [
        "x1 = square01(2)"
      ],
      "metadata": {
        "colab": {
          "base_uri": "https://localhost:8080/"
        },
        "id": "psAIsR1dLf3J",
        "outputId": "638c6aa9-fe78-44c6-bdb7-015f2a1ceb99"
      },
      "execution_count": null,
      "outputs": [
        {
          "output_type": "stream",
          "name": "stdout",
          "text": [
            "4\n"
          ]
        }
      ]
    },
    {
      "cell_type": "code",
      "source": [
        "x2 = square02(2)"
      ],
      "metadata": {
        "id": "9GR-_PhwLtV6"
      },
      "execution_count": null,
      "outputs": []
    },
    {
      "cell_type": "code",
      "source": [
        "x1"
      ],
      "metadata": {
        "id": "icUzHvucLwIq"
      },
      "execution_count": null,
      "outputs": []
    },
    {
      "cell_type": "code",
      "source": [
        "x2"
      ],
      "metadata": {
        "colab": {
          "base_uri": "https://localhost:8080/"
        },
        "id": "i4GihaEvLyCp",
        "outputId": "5ceaa634-74d2-46ea-9357-7593b04508f7"
      },
      "execution_count": null,
      "outputs": [
        {
          "output_type": "execute_result",
          "data": {
            "text/plain": [
              "4"
            ]
          },
          "metadata": {},
          "execution_count": 68
        }
      ]
    },
    {
      "cell_type": "markdown",
      "source": [
        "### 例外處理(Exception Handling)\n",
        "\n",
        "```python\n",
        "try:\n",
        "  程式區塊01\n",
        "except Exception as e:\n",
        "  程式區塊02\n",
        "```"
      ],
      "metadata": {
        "id": "5hX4XhMbL9-6"
      }
    },
    {
      "cell_type": "code",
      "source": [
        "def add(a, b):\n",
        "  print(f\"{a} + {b} = {a+b}\")\n",
        "\n",
        "def sub(a, b):\n",
        "  print(f\"{a} - {b} = {a-b}\")\n",
        "\n",
        "def mul(a, b):\n",
        "  print(f\"{a} x {b} = {a*b}\")\n",
        "\n",
        "def div(a, b):\n",
        "  print(f\"{a} / {b} = {a/b}\")"
      ],
      "metadata": {
        "id": "TvcILflyLzLq"
      },
      "execution_count": null,
      "outputs": []
    },
    {
      "cell_type": "code",
      "source": [
        "fns = [add, sub, div, mul]"
      ],
      "metadata": {
        "id": "kmVo7BuENT3_"
      },
      "execution_count": null,
      "outputs": []
    },
    {
      "cell_type": "code",
      "source": [
        "for i in fns:\n",
        "  i(4, 2)"
      ],
      "metadata": {
        "colab": {
          "base_uri": "https://localhost:8080/"
        },
        "id": "tOihcHFeMi_f",
        "outputId": "40654460-974e-44c3-da27-75a0127664e6"
      },
      "execution_count": null,
      "outputs": [
        {
          "output_type": "stream",
          "name": "stdout",
          "text": [
            "4 + 2 = 6\n",
            "4 - 2 = 2\n",
            "4 / 2 = 2.0\n",
            "4 x 2 = 8\n"
          ]
        }
      ]
    },
    {
      "cell_type": "code",
      "source": [
        "for i in fns:\n",
        "  i(4, 0)"
      ],
      "metadata": {
        "colab": {
          "base_uri": "https://localhost:8080/",
          "height": 287
        },
        "id": "tSM-jgQiMkvG",
        "outputId": "7555be97-9b8d-4f9b-b907-00d485da9f9b"
      },
      "execution_count": null,
      "outputs": [
        {
          "output_type": "stream",
          "name": "stdout",
          "text": [
            "4 + 0 = 4\n",
            "4 - 0 = 4\n"
          ]
        },
        {
          "output_type": "error",
          "ename": "ZeroDivisionError",
          "evalue": "division by zero",
          "traceback": [
            "\u001b[0;31m---------------------------------------------------------------------------\u001b[0m",
            "\u001b[0;31mZeroDivisionError\u001b[0m                         Traceback (most recent call last)",
            "\u001b[0;32m<ipython-input-76-6490d7400f6e>\u001b[0m in \u001b[0;36m<cell line: 1>\u001b[0;34m()\u001b[0m\n\u001b[1;32m      1\u001b[0m \u001b[0;32mfor\u001b[0m \u001b[0mi\u001b[0m \u001b[0;32min\u001b[0m \u001b[0mfns\u001b[0m\u001b[0;34m:\u001b[0m\u001b[0;34m\u001b[0m\u001b[0;34m\u001b[0m\u001b[0m\n\u001b[0;32m----> 2\u001b[0;31m   \u001b[0mi\u001b[0m\u001b[0;34m(\u001b[0m\u001b[0;36m4\u001b[0m\u001b[0;34m,\u001b[0m \u001b[0;36m0\u001b[0m\u001b[0;34m)\u001b[0m\u001b[0;34m\u001b[0m\u001b[0;34m\u001b[0m\u001b[0m\n\u001b[0m",
            "\u001b[0;32m<ipython-input-71-923436b41caf>\u001b[0m in \u001b[0;36mdiv\u001b[0;34m(a, b)\u001b[0m\n\u001b[1;32m      9\u001b[0m \u001b[0;34m\u001b[0m\u001b[0m\n\u001b[1;32m     10\u001b[0m \u001b[0;32mdef\u001b[0m \u001b[0mdiv\u001b[0m\u001b[0;34m(\u001b[0m\u001b[0ma\u001b[0m\u001b[0;34m,\u001b[0m \u001b[0mb\u001b[0m\u001b[0;34m)\u001b[0m\u001b[0;34m:\u001b[0m\u001b[0;34m\u001b[0m\u001b[0;34m\u001b[0m\u001b[0m\n\u001b[0;32m---> 11\u001b[0;31m   \u001b[0mprint\u001b[0m\u001b[0;34m(\u001b[0m\u001b[0;34mf\"{a} / {b} = {a/b}\"\u001b[0m\u001b[0;34m)\u001b[0m\u001b[0;34m\u001b[0m\u001b[0;34m\u001b[0m\u001b[0m\n\u001b[0m",
            "\u001b[0;31mZeroDivisionError\u001b[0m: division by zero"
          ]
        }
      ]
    },
    {
      "cell_type": "code",
      "source": [
        "for i in fns:\n",
        "  try:\n",
        "    i(4, 0)\n",
        "  except Exception as e:\n",
        "    print(e)"
      ],
      "metadata": {
        "colab": {
          "base_uri": "https://localhost:8080/"
        },
        "id": "I-SHJOr2N7wI",
        "outputId": "d3597d45-d1a3-45e2-e1a9-b55963195434"
      },
      "execution_count": null,
      "outputs": [
        {
          "output_type": "stream",
          "name": "stdout",
          "text": [
            "4 + 0 = 4\n",
            "4 - 0 = 4\n",
            "division by zero\n",
            "4 x 0 = 0\n"
          ]
        }
      ]
    },
    {
      "cell_type": "markdown",
      "source": [
        "### 綜合練習 03\n",
        "\n",
        "使用例外處理，修正萌典api的應用可能產生的錯誤。"
      ],
      "metadata": {
        "id": "zTOl21HiRoHx"
      }
    },
    {
      "cell_type": "code",
      "source": [
        "import requests\n",
        "\n",
        "def lookup(word):\n",
        "  url = \"https://www.moedict.tw/uni/\"\n",
        "  data = requests.get(url + word).json()\n",
        "  try:\n",
        "    return data['heteronyms'][0]['definitions'][0]['def']\n",
        "  except Exception as e:\n",
        "    return \"發生錯誤！大概是查不到這個字吧！\""
      ],
      "metadata": {
        "id": "r2RJt42zOh1M"
      },
      "execution_count": null,
      "outputs": []
    },
    {
      "cell_type": "code",
      "source": [
        "lookup('教室')"
      ],
      "metadata": {
        "colab": {
          "base_uri": "https://localhost:8080/",
          "height": 36
        },
        "id": "9Qlxw93aRivl",
        "outputId": "43f3f14c-b152-4a9b-ce30-acfad3ca6e98"
      },
      "execution_count": null,
      "outputs": [
        {
          "output_type": "execute_result",
          "data": {
            "text/plain": [
              "'學校裡進行教學活動的房間。'"
            ],
            "application/vnd.google.colaboratory.intrinsic+json": {
              "type": "string"
            }
          },
          "metadata": {},
          "execution_count": 82
        }
      ]
    },
    {
      "cell_type": "code",
      "source": [
        "lookup('apple')"
      ],
      "metadata": {
        "colab": {
          "base_uri": "https://localhost:8080/",
          "height": 36
        },
        "id": "HoZA8JKfRkxd",
        "outputId": "650f58ba-1a18-47c0-af41-b1ff241f75ac"
      },
      "execution_count": null,
      "outputs": [
        {
          "output_type": "execute_result",
          "data": {
            "text/plain": [
              "'發生錯誤！大概是查不到這個字吧！'"
            ],
            "application/vnd.google.colaboratory.intrinsic+json": {
              "type": "string"
            }
          },
          "metadata": {},
          "execution_count": 87
        }
      ]
    },
    {
      "cell_type": "markdown",
      "source": [
        "## 網路爬蟲簡介\n",
        "\n",
        "https://github.com/vcdemy/crawler\n",
        "\n",
        "https://vcdemy.github.io/web"
      ],
      "metadata": {
        "id": "w0xRKxy9S_Ke"
      }
    },
    {
      "cell_type": "markdown",
      "source": [
        "* requests ==> 抓資料\n",
        "* BeautifulSoup ==> 剖析資料"
      ],
      "metadata": {
        "id": "Za_ESKsfTTwA"
      }
    },
    {
      "cell_type": "markdown",
      "source": [
        "### 抓取網頁原始碼"
      ],
      "metadata": {
        "id": "-JcIVd_UT6x9"
      }
    },
    {
      "cell_type": "code",
      "source": [
        "import requests"
      ],
      "metadata": {
        "id": "Xa-XBStsSAyO"
      },
      "execution_count": null,
      "outputs": []
    },
    {
      "cell_type": "code",
      "source": [
        "url = \"https://vcdemy.github.io/web/html_only.html\""
      ],
      "metadata": {
        "id": "9qy_mayeT-fq"
      },
      "execution_count": null,
      "outputs": []
    },
    {
      "cell_type": "code",
      "source": [
        "r = requests.get(url)"
      ],
      "metadata": {
        "id": "ZC1ggLgmUAeD"
      },
      "execution_count": null,
      "outputs": []
    },
    {
      "cell_type": "code",
      "source": [
        "print(r.text)"
      ],
      "metadata": {
        "colab": {
          "base_uri": "https://localhost:8080/"
        },
        "id": "41SRi-p5UDy8",
        "outputId": "c9c24b3a-51ca-4d65-f6b5-af744edb6f9c"
      },
      "execution_count": null,
      "outputs": [
        {
          "output_type": "stream",
          "name": "stdout",
          "text": [
            "<!DOCTYPE html>\n",
            "<html>\n",
            "<head>\n",
            "    <title>HTML範例</title>\n",
            "</head>\n",
            "<body>\n",
            "\n",
            "<h1>哈囉！HTML！</h1>\n",
            "\n",
            "<img src=\"ninja.jpg\" />\n",
            "\n",
            "</body>\n",
            "</html>\n"
          ]
        }
      ]
    },
    {
      "cell_type": "code",
      "source": [
        "r.status_code"
      ],
      "metadata": {
        "colab": {
          "base_uri": "https://localhost:8080/"
        },
        "id": "wYpz8CxmUF5U",
        "outputId": "be29555f-6552-4994-e4d4-a597f141b69c"
      },
      "execution_count": null,
      "outputs": [
        {
          "output_type": "execute_result",
          "data": {
            "text/plain": [
              "200"
            ]
          },
          "metadata": {},
          "execution_count": 92
        }
      ]
    },
    {
      "cell_type": "code",
      "source": [
        "r.headers"
      ],
      "metadata": {
        "colab": {
          "base_uri": "https://localhost:8080/"
        },
        "collapsed": true,
        "id": "8vfF77uUUdzd",
        "outputId": "4954af84-c542-4078-fa80-c6283f8df6bb"
      },
      "execution_count": null,
      "outputs": [
        {
          "output_type": "execute_result",
          "data": {
            "text/plain": [
              "{'Connection': 'keep-alive', 'Content-Length': '143', 'Server': 'GitHub.com', 'Content-Type': 'text/html; charset=utf-8', 'permissions-policy': 'interest-cohort=()', 'Last-Modified': 'Tue, 07 Feb 2023 13:26:17 GMT', 'Access-Control-Allow-Origin': '*', 'Strict-Transport-Security': 'max-age=31556952', 'ETag': '\"63e25179-8f\"', 'expires': 'Fri, 30 Aug 2024 03:34:36 GMT', 'Cache-Control': 'max-age=600', 'x-proxy-cache': 'MISS', 'X-GitHub-Request-Id': 'B4F8:24E165:220F69:25A2D2:66D13B74', 'Accept-Ranges': 'bytes', 'Age': '0', 'Date': 'Fri, 30 Aug 2024 03:24:36 GMT', 'Via': '1.1 varnish', 'X-Served-By': 'cache-pdk-kfty2130044-PDK', 'X-Cache': 'MISS', 'X-Cache-Hits': '0', 'X-Timer': 'S1724988276.322351,VS0,VE21', 'Vary': 'Accept-Encoding', 'X-Fastly-Request-ID': '6efed6622d8e82d61c154b2ef779c90084d387b0'}"
            ]
          },
          "metadata": {},
          "execution_count": 93
        }
      ]
    },
    {
      "cell_type": "markdown",
      "source": [
        "### 剖析網頁原始碼"
      ],
      "metadata": {
        "id": "Q91fUNhQVcuo"
      }
    },
    {
      "cell_type": "code",
      "source": [
        "from bs4 import BeautifulSoup"
      ],
      "metadata": {
        "id": "1D2o2JLtUk6O"
      },
      "execution_count": null,
      "outputs": []
    },
    {
      "cell_type": "code",
      "source": [
        "soup = BeautifulSoup(r.text)"
      ],
      "metadata": {
        "id": "2wMz73gTU6rP"
      },
      "execution_count": null,
      "outputs": []
    },
    {
      "cell_type": "code",
      "source": [
        "soup.title"
      ],
      "metadata": {
        "colab": {
          "base_uri": "https://localhost:8080/"
        },
        "id": "SXZytGzMVNvR",
        "outputId": "0d75089e-f98d-4ab8-ec5b-b10fb8e208dd"
      },
      "execution_count": null,
      "outputs": [
        {
          "output_type": "execute_result",
          "data": {
            "text/plain": [
              "<title>HTML範例</title>"
            ]
          },
          "metadata": {},
          "execution_count": 98
        }
      ]
    },
    {
      "cell_type": "code",
      "source": [
        "soup.title.text"
      ],
      "metadata": {
        "colab": {
          "base_uri": "https://localhost:8080/",
          "height": 36
        },
        "id": "PF4MYQe2WBr9",
        "outputId": "b8f9fa77-9736-437c-dc57-3525fd917c6f"
      },
      "execution_count": null,
      "outputs": [
        {
          "output_type": "execute_result",
          "data": {
            "text/plain": [
              "'HTML範例'"
            ],
            "application/vnd.google.colaboratory.intrinsic+json": {
              "type": "string"
            }
          },
          "metadata": {},
          "execution_count": 102
        }
      ]
    },
    {
      "cell_type": "code",
      "source": [
        "print(soup.title.text)"
      ],
      "metadata": {
        "colab": {
          "base_uri": "https://localhost:8080/"
        },
        "id": "k2XgMHccVXJD",
        "outputId": "2d9ce98c-c5d6-41ae-ae91-2530651d5eec"
      },
      "execution_count": null,
      "outputs": [
        {
          "output_type": "stream",
          "name": "stdout",
          "text": [
            "HTML範例\n"
          ]
        }
      ]
    },
    {
      "cell_type": "code",
      "source": [
        "soup.h1"
      ],
      "metadata": {
        "colab": {
          "base_uri": "https://localhost:8080/"
        },
        "id": "QZh8YRMfVS4A",
        "outputId": "f43149dc-7e47-499b-c098-9f9f914fde58"
      },
      "execution_count": null,
      "outputs": [
        {
          "output_type": "execute_result",
          "data": {
            "text/plain": [
              "<h1>哈囉！HTML！</h1>"
            ]
          },
          "metadata": {},
          "execution_count": 99
        }
      ]
    },
    {
      "cell_type": "markdown",
      "source": [
        "### 抓取圖片"
      ],
      "metadata": {
        "id": "RRY57hDkWNTj"
      }
    },
    {
      "cell_type": "code",
      "source": [
        "url = \"https://vcdemy.github.io/web/ninja.jpg\""
      ],
      "metadata": {
        "id": "ySeU3h3ZVUCi"
      },
      "execution_count": null,
      "outputs": []
    },
    {
      "cell_type": "code",
      "source": [
        "r = requests.get(url)"
      ],
      "metadata": {
        "id": "YsK3TEt8WS90"
      },
      "execution_count": null,
      "outputs": []
    },
    {
      "cell_type": "code",
      "source": [
        "f = open('ninja.jpg', 'wb')\n",
        "f.write(r.content)\n",
        "f.close()"
      ],
      "metadata": {
        "id": "Ldcd0N-3WVc1"
      },
      "execution_count": null,
      "outputs": []
    },
    {
      "cell_type": "code",
      "source": [
        "with open('ninja2.jpg', 'wb') as f:\n",
        "  f.write(r.content)"
      ],
      "metadata": {
        "id": "6iQXZ5URWgfF"
      },
      "execution_count": null,
      "outputs": []
    },
    {
      "cell_type": "markdown",
      "source": [
        "### 抓取 pdf 檔"
      ],
      "metadata": {
        "id": "5VBqZAzpW8CX"
      }
    },
    {
      "cell_type": "code",
      "source": [
        "url = \"https://arxiv.org/pdf/2408.16756\""
      ],
      "metadata": {
        "id": "LOQ4ZaJwWyMV"
      },
      "execution_count": null,
      "outputs": []
    },
    {
      "cell_type": "code",
      "source": [
        "r = requests.get(url)"
      ],
      "metadata": {
        "id": "lAEX1cnnXKzF"
      },
      "execution_count": null,
      "outputs": []
    },
    {
      "cell_type": "code",
      "source": [
        "with open('llm01.pdf', 'wb') as f:\n",
        "  f.write(r.content)"
      ],
      "metadata": {
        "id": "e0rJ92bIXOBd"
      },
      "execution_count": null,
      "outputs": []
    },
    {
      "cell_type": "markdown",
      "source": [
        "### 剖析網頁，取得所有pdf檔的網址"
      ],
      "metadata": {
        "id": "WMvnMsQmYyUQ"
      }
    },
    {
      "cell_type": "markdown",
      "source": [
        "https://www.w3schools.com/cssref/css_selectors.php"
      ],
      "metadata": {
        "id": "9IMyufOtZYnG"
      }
    },
    {
      "cell_type": "code",
      "source": [
        "url = \"https://arxiv.org/search/?query=LLM&searchtype=all&source=header\""
      ],
      "metadata": {
        "id": "snKjYKAQXSfG"
      },
      "execution_count": null,
      "outputs": []
    },
    {
      "cell_type": "code",
      "source": [
        "r = requests.get(url)"
      ],
      "metadata": {
        "id": "RBHiGyIsZIyT"
      },
      "execution_count": null,
      "outputs": []
    },
    {
      "cell_type": "code",
      "source": [
        "soup = BeautifulSoup(r.text)"
      ],
      "metadata": {
        "id": "cFrjQGJBZNX_"
      },
      "execution_count": null,
      "outputs": []
    },
    {
      "cell_type": "code",
      "source": [
        "soup.title"
      ],
      "metadata": {
        "colab": {
          "base_uri": "https://localhost:8080/"
        },
        "id": "qno9sgcvZQTn",
        "outputId": "a8d2801e-8bea-4f97-ac6f-61039e1f503a"
      },
      "execution_count": null,
      "outputs": [
        {
          "output_type": "execute_result",
          "data": {
            "text/plain": [
              "<title>Search | arXiv e-print repository</title>"
            ]
          },
          "metadata": {},
          "execution_count": 113
        }
      ]
    },
    {
      "cell_type": "code",
      "source": [
        "soup.select(\"li.arxiv-result div span a\")[0]"
      ],
      "metadata": {
        "colab": {
          "base_uri": "https://localhost:8080/"
        },
        "id": "oN7nH01Ba0fC",
        "outputId": "31c12724-29b2-41ff-8bd9-81e9fc4bddd7"
      },
      "execution_count": null,
      "outputs": [
        {
          "output_type": "execute_result",
          "data": {
            "text/plain": [
              "<a href=\"https://arxiv.org/pdf/2408.16756\">pdf</a>"
            ]
          },
          "metadata": {},
          "execution_count": 122
        }
      ]
    },
    {
      "cell_type": "code",
      "source": [
        "soup.select(\"li.arxiv-result div span a\")"
      ],
      "metadata": {
        "colab": {
          "base_uri": "https://localhost:8080/"
        },
        "id": "mUbzEDyoZSLA",
        "outputId": "ea6d59ca-57e4-463b-da60-30328752ae54"
      },
      "execution_count": null,
      "outputs": [
        {
          "output_type": "execute_result",
          "data": {
            "text/plain": [
              "[<a href=\"https://arxiv.org/pdf/2408.16756\">pdf</a>,\n",
              " <a href=\"https://arxiv.org/format/2408.16756\">other</a>,\n",
              " <a href=\"https://arxiv.org/pdf/2408.16740\">pdf</a>,\n",
              " <a href=\"https://arxiv.org/ps/2408.16740\">ps</a>,\n",
              " <a href=\"https://arxiv.org/format/2408.16740\">other</a>,\n",
              " <a href=\"https://arxiv.org/pdf/2408.16737\">pdf</a>,\n",
              " <a href=\"https://arxiv.org/format/2408.16737\">other</a>,\n",
              " <a href=\"https://arxiv.org/pdf/2408.16730\">pdf</a>,\n",
              " <a href=\"https://arxiv.org/format/2408.16730\">other</a>,\n",
              " <a href=\"https://arxiv.org/pdf/2408.16700\">pdf</a>,\n",
              " <a href=\"https://arxiv.org/format/2408.16700\">other</a>,\n",
              " <a href=\"https://arxiv.org/pdf/2408.16673\">pdf</a>,\n",
              " <a href=\"https://arxiv.org/format/2408.16673\">other</a>,\n",
              " <a href=\"https://arxiv.org/pdf/2408.16667\">pdf</a>,\n",
              " <a href=\"https://arxiv.org/format/2408.16667\">other</a>,\n",
              " <a href=\"https://arxiv.org/pdf/2408.16629\">pdf</a>,\n",
              " <a href=\"https://arxiv.org/format/2408.16629\">other</a>,\n",
              " <a href=\"https://arxiv.org/pdf/2408.16601\">pdf</a>,\n",
              " <a href=\"https://arxiv.org/format/2408.16601\">other</a>,\n",
              " <a href=\"https://arxiv.org/pdf/2408.16586\">pdf</a>,\n",
              " <a href=\"https://arxiv.org/format/2408.16586\">other</a>,\n",
              " <a href=\"https://arxiv.org/pdf/2408.16542\">pdf</a>,\n",
              " <a href=\"https://arxiv.org/format/2408.16542\">other</a>,\n",
              " <a href=\"https://arxiv.org/pdf/2408.16502\">pdf</a>,\n",
              " <a href=\"https://arxiv.org/format/2408.16502\">other</a>,\n",
              " <a href=\"https://arxiv.org/pdf/2408.16498\">pdf</a>,\n",
              " <a href=\"https://arxiv.org/format/2408.16498\">other</a>,\n",
              " <a href=\"https://arxiv.org/pdf/2408.16482\">pdf</a>,\n",
              " <a href=\"https://arxiv.org/format/2408.16482\">other</a>,\n",
              " <a href=\"https://arxiv.org/pdf/2408.16465\">pdf</a>,\n",
              " <a href=\"https://arxiv.org/format/2408.16465\">other</a>,\n",
              " <a href=\"https://arxiv.org/pdf/2408.16440\">pdf</a>,\n",
              " <a href=\"https://arxiv.org/ps/2408.16440\">ps</a>,\n",
              " <a href=\"https://arxiv.org/format/2408.16440\">other</a>,\n",
              " <a href=\"https://arxiv.org/pdf/2408.16423\">pdf</a>,\n",
              " <a href=\"https://arxiv.org/format/2408.16423\">other</a>,\n",
              " <a href=\"https://arxiv.org/pdf/2408.16400\">pdf</a>,\n",
              " <a href=\"https://arxiv.org/format/2408.16400\">other</a>,\n",
              " <a href=\"https://arxiv.org/pdf/2408.16345\">pdf</a>,\n",
              " <a href=\"https://arxiv.org/format/2408.16345\">other</a>,\n",
              " <a href=\"https://arxiv.org/pdf/2408.16326\">pdf</a>,\n",
              " <a href=\"https://arxiv.org/format/2408.16326\">other</a>,\n",
              " <a href=\"https://arxiv.org/pdf/2408.16312\">pdf</a>,\n",
              " <a href=\"https://arxiv.org/format/2408.16312\">other</a>,\n",
              " <a href=\"https://arxiv.org/pdf/2408.16304\">pdf</a>,\n",
              " <a href=\"https://arxiv.org/format/2408.16304\">other</a>,\n",
              " <a href=\"https://arxiv.org/pdf/2408.16296\">pdf</a>,\n",
              " <a href=\"https://arxiv.org/format/2408.16296\">other</a>,\n",
              " <a href=\"https://arxiv.org/pdf/2408.16276\">pdf</a>,\n",
              " <a href=\"https://arxiv.org/ps/2408.16276\">ps</a>,\n",
              " <a href=\"https://arxiv.org/format/2408.16276\">other</a>,\n",
              " <a href=\"https://arxiv.org/pdf/2408.16264\">pdf</a>,\n",
              " <a href=\"https://arxiv.org/format/2408.16264\">other</a>,\n",
              " <a href=\"https://arxiv.org/pdf/2408.16221\">pdf</a>,\n",
              " <a href=\"https://arxiv.org/format/2408.16221\">other</a>,\n",
              " <a href=\"https://arxiv.org/pdf/2408.16219\">pdf</a>,\n",
              " <a href=\"https://arxiv.org/format/2408.16219\">other</a>,\n",
              " <a href=\"https://arxiv.org/pdf/2408.16213\">pdf</a>,\n",
              " <a href=\"https://arxiv.org/format/2408.16213\">other</a>,\n",
              " <a href=\"https://arxiv.org/pdf/2408.16208\">pdf</a>,\n",
              " <a href=\"https://arxiv.org/format/2408.16208\">other</a>,\n",
              " <a href=\"https://arxiv.org/pdf/2408.16180\">pdf</a>,\n",
              " <a href=\"https://arxiv.org/format/2408.16180\">other</a>,\n",
              " <a href=\"https://arxiv.org/pdf/2408.16173\">pdf</a>,\n",
              " <a href=\"https://arxiv.org/format/2408.16173\">other</a>,\n",
              " <a href=\"https://arxiv.org/pdf/2408.16163\">pdf</a>,\n",
              " <a href=\"https://arxiv.org/ps/2408.16163\">ps</a>,\n",
              " <a href=\"https://arxiv.org/format/2408.16163\">other</a>,\n",
              " <a href=\"https://arxiv.org/pdf/2408.16151\">pdf</a>,\n",
              " <a href=\"https://arxiv.org/ps/2408.16151\">ps</a>,\n",
              " <a href=\"https://arxiv.org/format/2408.16151\">other</a>,\n",
              " <a class=\"\" href=\"https://doi.org/10.1145/3674805.3690746\">10.1145/3674805.3690746 <i aria-hidden=\"true\" class=\"fa fa-external-link\"></i></a>,\n",
              " <a href=\"https://arxiv.org/pdf/2408.16119\">pdf</a>,\n",
              " <a href=\"https://arxiv.org/format/2408.16119\">other</a>,\n",
              " <a href=\"https://arxiv.org/pdf/2408.16100\">pdf</a>,\n",
              " <a href=\"https://arxiv.org/format/2408.16100\">other</a>,\n",
              " <a href=\"https://arxiv.org/pdf/2408.16098\">pdf</a>,\n",
              " <a href=\"https://arxiv.org/format/2408.16098\">other</a>,\n",
              " <a href=\"https://arxiv.org/pdf/2408.16090\">pdf</a>,\n",
              " <a href=\"https://arxiv.org/format/2408.16090\">other</a>,\n",
              " <a href=\"https://arxiv.org/pdf/2408.16081\">pdf</a>,\n",
              " <a href=\"https://arxiv.org/ps/2408.16081\">ps</a>,\n",
              " <a href=\"https://arxiv.org/format/2408.16081\">other</a>,\n",
              " <a href=\"https://arxiv.org/pdf/2408.16073\">pdf</a>,\n",
              " <a href=\"https://arxiv.org/pdf/2408.16032\">pdf</a>,\n",
              " <a href=\"https://arxiv.org/format/2408.16032\">other</a>,\n",
              " <a href=\"https://arxiv.org/pdf/2408.16028\">pdf</a>,\n",
              " <a href=\"https://arxiv.org/format/2408.16028\">other</a>,\n",
              " <a href=\"https://arxiv.org/pdf/2408.16021\">pdf</a>,\n",
              " <a href=\"https://arxiv.org/format/2408.16021\">other</a>,\n",
              " <a href=\"https://arxiv.org/pdf/2408.16018\">pdf</a>,\n",
              " <a href=\"https://arxiv.org/format/2408.16018\">other</a>,\n",
              " <a href=\"https://arxiv.org/pdf/2408.16012\">pdf</a>,\n",
              " <a href=\"https://arxiv.org/pdf/2408.15998\">pdf</a>,\n",
              " <a href=\"https://arxiv.org/format/2408.15998\">other</a>,\n",
              " <a href=\"https://arxiv.org/pdf/2408.15978\">pdf</a>,\n",
              " <a href=\"https://arxiv.org/format/2408.15978\">other</a>,\n",
              " <a href=\"https://arxiv.org/pdf/2408.15971\">pdf</a>,\n",
              " <a href=\"https://arxiv.org/format/2408.15971\">other</a>,\n",
              " <a href=\"https://arxiv.org/pdf/2408.15966\">pdf</a>,\n",
              " <a href=\"https://arxiv.org/format/2408.15966\">other</a>,\n",
              " <a href=\"https://arxiv.org/pdf/2408.15950\">pdf</a>,\n",
              " <a href=\"https://arxiv.org/format/2408.15950\">other</a>,\n",
              " <a href=\"https://arxiv.org/pdf/2408.15915\">pdf</a>,\n",
              " <a href=\"https://arxiv.org/format/2408.15915\">other</a>]"
            ]
          },
          "metadata": {},
          "execution_count": 119
        }
      ]
    },
    {
      "cell_type": "code",
      "source": [
        "for i in soup.select(\"li.arxiv-result div span a\"):\n",
        "  link = i.get('href')\n",
        "  if 'pdf' in link:\n",
        "    print(link)"
      ],
      "metadata": {
        "colab": {
          "base_uri": "https://localhost:8080/"
        },
        "id": "82tjkhxAaKgP",
        "outputId": "e9f55c19-3552-422c-e97f-731f562376e1"
      },
      "execution_count": null,
      "outputs": [
        {
          "output_type": "stream",
          "name": "stdout",
          "text": [
            "https://arxiv.org/pdf/2408.16756\n",
            "https://arxiv.org/pdf/2408.16740\n",
            "https://arxiv.org/pdf/2408.16737\n",
            "https://arxiv.org/pdf/2408.16730\n",
            "https://arxiv.org/pdf/2408.16700\n",
            "https://arxiv.org/pdf/2408.16673\n",
            "https://arxiv.org/pdf/2408.16667\n",
            "https://arxiv.org/pdf/2408.16629\n",
            "https://arxiv.org/pdf/2408.16601\n",
            "https://arxiv.org/pdf/2408.16586\n",
            "https://arxiv.org/pdf/2408.16542\n",
            "https://arxiv.org/pdf/2408.16502\n",
            "https://arxiv.org/pdf/2408.16498\n",
            "https://arxiv.org/pdf/2408.16482\n",
            "https://arxiv.org/pdf/2408.16465\n",
            "https://arxiv.org/pdf/2408.16440\n",
            "https://arxiv.org/pdf/2408.16423\n",
            "https://arxiv.org/pdf/2408.16400\n",
            "https://arxiv.org/pdf/2408.16345\n",
            "https://arxiv.org/pdf/2408.16326\n",
            "https://arxiv.org/pdf/2408.16312\n",
            "https://arxiv.org/pdf/2408.16304\n",
            "https://arxiv.org/pdf/2408.16296\n",
            "https://arxiv.org/pdf/2408.16276\n",
            "https://arxiv.org/pdf/2408.16264\n",
            "https://arxiv.org/pdf/2408.16221\n",
            "https://arxiv.org/pdf/2408.16219\n",
            "https://arxiv.org/pdf/2408.16213\n",
            "https://arxiv.org/pdf/2408.16208\n",
            "https://arxiv.org/pdf/2408.16180\n",
            "https://arxiv.org/pdf/2408.16173\n",
            "https://arxiv.org/pdf/2408.16163\n",
            "https://arxiv.org/pdf/2408.16151\n",
            "https://arxiv.org/pdf/2408.16119\n",
            "https://arxiv.org/pdf/2408.16100\n",
            "https://arxiv.org/pdf/2408.16098\n",
            "https://arxiv.org/pdf/2408.16090\n",
            "https://arxiv.org/pdf/2408.16081\n",
            "https://arxiv.org/pdf/2408.16073\n",
            "https://arxiv.org/pdf/2408.16032\n",
            "https://arxiv.org/pdf/2408.16028\n",
            "https://arxiv.org/pdf/2408.16021\n",
            "https://arxiv.org/pdf/2408.16018\n",
            "https://arxiv.org/pdf/2408.16012\n",
            "https://arxiv.org/pdf/2408.15998\n",
            "https://arxiv.org/pdf/2408.15978\n",
            "https://arxiv.org/pdf/2408.15971\n",
            "https://arxiv.org/pdf/2408.15966\n",
            "https://arxiv.org/pdf/2408.15950\n",
            "https://arxiv.org/pdf/2408.15915\n"
          ]
        }
      ]
    },
    {
      "cell_type": "code",
      "source": [
        "for i in soup.select(\"li.arxiv-result div span a\"):\n",
        "  link = i.get('href')\n",
        "  if 'pdf' in link:\n",
        "    print(link)\n",
        "    r = requests.get(link)\n",
        "    with open(f\"{link.split('/')[-1]}.pdf\", 'wb') as f:\n",
        "      f.write(r.content)"
      ],
      "metadata": {
        "colab": {
          "base_uri": "https://localhost:8080/"
        },
        "id": "z1GiJ6k0bgJx",
        "outputId": "ee4c2ceb-1574-4780-8d0e-fdc616cfd33f"
      },
      "execution_count": null,
      "outputs": [
        {
          "output_type": "stream",
          "name": "stdout",
          "text": [
            "https://arxiv.org/pdf/2408.16756\n",
            "https://arxiv.org/pdf/2408.16740\n",
            "https://arxiv.org/pdf/2408.16737\n",
            "https://arxiv.org/pdf/2408.16730\n",
            "https://arxiv.org/pdf/2408.16700\n",
            "https://arxiv.org/pdf/2408.16673\n",
            "https://arxiv.org/pdf/2408.16667\n",
            "https://arxiv.org/pdf/2408.16629\n",
            "https://arxiv.org/pdf/2408.16601\n",
            "https://arxiv.org/pdf/2408.16586\n",
            "https://arxiv.org/pdf/2408.16542\n",
            "https://arxiv.org/pdf/2408.16502\n",
            "https://arxiv.org/pdf/2408.16498\n",
            "https://arxiv.org/pdf/2408.16482\n",
            "https://arxiv.org/pdf/2408.16465\n",
            "https://arxiv.org/pdf/2408.16440\n",
            "https://arxiv.org/pdf/2408.16423\n",
            "https://arxiv.org/pdf/2408.16400\n",
            "https://arxiv.org/pdf/2408.16345\n",
            "https://arxiv.org/pdf/2408.16326\n",
            "https://arxiv.org/pdf/2408.16312\n",
            "https://arxiv.org/pdf/2408.16304\n",
            "https://arxiv.org/pdf/2408.16296\n",
            "https://arxiv.org/pdf/2408.16276\n",
            "https://arxiv.org/pdf/2408.16264\n",
            "https://arxiv.org/pdf/2408.16221\n",
            "https://arxiv.org/pdf/2408.16219\n",
            "https://arxiv.org/pdf/2408.16213\n",
            "https://arxiv.org/pdf/2408.16208\n",
            "https://arxiv.org/pdf/2408.16180\n",
            "https://arxiv.org/pdf/2408.16173\n",
            "https://arxiv.org/pdf/2408.16163\n",
            "https://arxiv.org/pdf/2408.16151\n",
            "https://arxiv.org/pdf/2408.16119\n",
            "https://arxiv.org/pdf/2408.16100\n",
            "https://arxiv.org/pdf/2408.16098\n",
            "https://arxiv.org/pdf/2408.16090\n",
            "https://arxiv.org/pdf/2408.16081\n",
            "https://arxiv.org/pdf/2408.16073\n",
            "https://arxiv.org/pdf/2408.16032\n",
            "https://arxiv.org/pdf/2408.16028\n",
            "https://arxiv.org/pdf/2408.16021\n",
            "https://arxiv.org/pdf/2408.16018\n",
            "https://arxiv.org/pdf/2408.16012\n",
            "https://arxiv.org/pdf/2408.15998\n",
            "https://arxiv.org/pdf/2408.15978\n",
            "https://arxiv.org/pdf/2408.15971\n",
            "https://arxiv.org/pdf/2408.15966\n",
            "https://arxiv.org/pdf/2408.15950\n",
            "https://arxiv.org/pdf/2408.15915\n"
          ]
        }
      ]
    },
    {
      "cell_type": "code",
      "source": [
        "link = \"https://arxiv.org/pdf/2408.15915\""
      ],
      "metadata": {
        "id": "P8kboE5QcnMm"
      },
      "execution_count": null,
      "outputs": []
    },
    {
      "cell_type": "code",
      "source": [
        "link.split('/')[-1]"
      ],
      "metadata": {
        "colab": {
          "base_uri": "https://localhost:8080/",
          "height": 36
        },
        "id": "xV1dSeqVdSfz",
        "outputId": "9e5bdf0b-7d06-485d-f0ca-cb333ae55877"
      },
      "execution_count": null,
      "outputs": [
        {
          "output_type": "execute_result",
          "data": {
            "text/plain": [
              "'2408.15915'"
            ],
            "application/vnd.google.colaboratory.intrinsic+json": {
              "type": "string"
            }
          },
          "metadata": {},
          "execution_count": 130
        }
      ]
    },
    {
      "cell_type": "markdown",
      "source": [
        "## 資料分析簡介"
      ],
      "metadata": {
        "id": "eQUti4WYxPaP"
      }
    },
    {
      "cell_type": "markdown",
      "source": [
        "* numpy => 科學運算基礎套件\n",
        "* matplotlib => 繪圖基礎套件\n",
        "* pandas => 資料分析基礎套件"
      ],
      "metadata": {
        "id": "unEHo4PPxTI2"
      }
    },
    {
      "cell_type": "markdown",
      "source": [
        "套件載入慣例\n",
        "```python\n",
        "import numpy as np\n",
        "import matplotlib.pyplot as plt\n",
        "import pandas as pd\n",
        "```"
      ],
      "metadata": {
        "id": "sURwkrlKx7O_"
      }
    },
    {
      "cell_type": "markdown",
      "source": [
        "### NumPy (Numerical Python的縮寫)"
      ],
      "metadata": {
        "id": "BY4IIQ9UyQCu"
      }
    },
    {
      "cell_type": "markdown",
      "source": [
        "* ndarray ==> 多維陣列 (N-Dimensional Arrays)\n",
        "* ufunct ==> 通用函式 (Universal Functions)"
      ],
      "metadata": {
        "id": "uHbClplEyWVV"
      }
    },
    {
      "cell_type": "code",
      "source": [
        "import numpy as np"
      ],
      "metadata": {
        "id": "ZEyC6_WTdXRc"
      },
      "execution_count": 1,
      "outputs": []
    },
    {
      "cell_type": "markdown",
      "source": [
        "### list 的加法及乘法"
      ],
      "metadata": {
        "id": "YT2eF4GJzuNr"
      }
    },
    {
      "cell_type": "code",
      "source": [
        "x = [1, 2, 3]\n",
        "y = [4, 5, 6]"
      ],
      "metadata": {
        "id": "f9fAV2klynQ4"
      },
      "execution_count": 2,
      "outputs": []
    },
    {
      "cell_type": "code",
      "source": [
        "x + y"
      ],
      "metadata": {
        "colab": {
          "base_uri": "https://localhost:8080/"
        },
        "id": "hmWpkYl0ztZm",
        "outputId": "c9448dda-db2a-4aae-9ac9-54bf4e641489"
      },
      "execution_count": 3,
      "outputs": [
        {
          "output_type": "execute_result",
          "data": {
            "text/plain": [
              "[1, 2, 3, 4, 5, 6]"
            ]
          },
          "metadata": {},
          "execution_count": 3
        }
      ]
    },
    {
      "cell_type": "code",
      "source": [
        "x * 2"
      ],
      "metadata": {
        "colab": {
          "base_uri": "https://localhost:8080/"
        },
        "id": "7fxjRgJcz4b0",
        "outputId": "c1e75ebf-08a8-4a32-dee7-5c4c7bc49ef9"
      },
      "execution_count": 4,
      "outputs": [
        {
          "output_type": "execute_result",
          "data": {
            "text/plain": [
              "[1, 2, 3, 1, 2, 3]"
            ]
          },
          "metadata": {},
          "execution_count": 4
        }
      ]
    },
    {
      "cell_type": "markdown",
      "source": [
        "### ndarray"
      ],
      "metadata": {
        "id": "TZqfd2Iu0LeL"
      }
    },
    {
      "cell_type": "code",
      "source": [
        "x1 = np.array(x)\n",
        "y1 = np.array(y)"
      ],
      "metadata": {
        "id": "xuf-BvXsz9cF"
      },
      "execution_count": 5,
      "outputs": []
    },
    {
      "cell_type": "code",
      "source": [
        "x1 + y1"
      ],
      "metadata": {
        "colab": {
          "base_uri": "https://localhost:8080/"
        },
        "id": "p8hwm3mC0SK0",
        "outputId": "f50cfa53-9946-46a7-a401-d31f4ba2d360"
      },
      "execution_count": 6,
      "outputs": [
        {
          "output_type": "execute_result",
          "data": {
            "text/plain": [
              "array([5, 7, 9])"
            ]
          },
          "metadata": {},
          "execution_count": 6
        }
      ]
    },
    {
      "cell_type": "code",
      "source": [
        "x1 * 2"
      ],
      "metadata": {
        "colab": {
          "base_uri": "https://localhost:8080/"
        },
        "id": "wsC5mLXm0WyU",
        "outputId": "94f13b26-21b6-4149-f363-afab82dc0bb7"
      },
      "execution_count": 7,
      "outputs": [
        {
          "output_type": "execute_result",
          "data": {
            "text/plain": [
              "array([2, 4, 6])"
            ]
          },
          "metadata": {},
          "execution_count": 7
        }
      ]
    },
    {
      "cell_type": "markdown",
      "source": [
        "### ufunct"
      ],
      "metadata": {
        "id": "LbxSLrwq0mhC"
      }
    },
    {
      "cell_type": "code",
      "source": [
        "import math"
      ],
      "metadata": {
        "id": "JVA01P0Q0YKc"
      },
      "execution_count": 8,
      "outputs": []
    },
    {
      "cell_type": "code",
      "source": [
        "math.pi"
      ],
      "metadata": {
        "colab": {
          "base_uri": "https://localhost:8080/"
        },
        "id": "4FD5r6rC0tXr",
        "outputId": "70a398b8-22de-4704-d226-78fba5daf49a"
      },
      "execution_count": 9,
      "outputs": [
        {
          "output_type": "execute_result",
          "data": {
            "text/plain": [
              "3.141592653589793"
            ]
          },
          "metadata": {},
          "execution_count": 9
        }
      ]
    },
    {
      "cell_type": "code",
      "source": [
        "math.sin(math.pi/2)"
      ],
      "metadata": {
        "colab": {
          "base_uri": "https://localhost:8080/"
        },
        "id": "v99h6muF0uTr",
        "outputId": "01242129-2c6d-46b0-e0b9-6cbb1c821c0d"
      },
      "execution_count": 10,
      "outputs": [
        {
          "output_type": "execute_result",
          "data": {
            "text/plain": [
              "1.0"
            ]
          },
          "metadata": {},
          "execution_count": 10
        }
      ]
    },
    {
      "cell_type": "code",
      "source": [
        "math.sin(x)"
      ],
      "metadata": {
        "colab": {
          "base_uri": "https://localhost:8080/",
          "height": 144
        },
        "id": "smzq9Hxy0x1z",
        "outputId": "be7d2677-8601-40c3-975f-bf21b53e2269"
      },
      "execution_count": 12,
      "outputs": [
        {
          "output_type": "error",
          "ename": "TypeError",
          "evalue": "must be real number, not list",
          "traceback": [
            "\u001b[0;31m---------------------------------------------------------------------------\u001b[0m",
            "\u001b[0;31mTypeError\u001b[0m                                 Traceback (most recent call last)",
            "\u001b[0;32m<ipython-input-12-514904a8605d>\u001b[0m in \u001b[0;36m<cell line: 1>\u001b[0;34m()\u001b[0m\n\u001b[0;32m----> 1\u001b[0;31m \u001b[0mmath\u001b[0m\u001b[0;34m.\u001b[0m\u001b[0msin\u001b[0m\u001b[0;34m(\u001b[0m\u001b[0mx\u001b[0m\u001b[0;34m)\u001b[0m\u001b[0;34m\u001b[0m\u001b[0;34m\u001b[0m\u001b[0m\n\u001b[0m",
            "\u001b[0;31mTypeError\u001b[0m: must be real number, not list"
          ]
        }
      ]
    },
    {
      "cell_type": "code",
      "source": [
        "np.pi"
      ],
      "metadata": {
        "colab": {
          "base_uri": "https://localhost:8080/"
        },
        "id": "iMeddnU001yU",
        "outputId": "3f2b6613-2a8c-4194-cf03-9ca57403412c"
      },
      "execution_count": 13,
      "outputs": [
        {
          "output_type": "execute_result",
          "data": {
            "text/plain": [
              "3.141592653589793"
            ]
          },
          "metadata": {},
          "execution_count": 13
        }
      ]
    },
    {
      "cell_type": "code",
      "source": [
        "np.sin(np.pi/2)"
      ],
      "metadata": {
        "colab": {
          "base_uri": "https://localhost:8080/"
        },
        "id": "7OFlFc3k1GGq",
        "outputId": "3b52cb1f-20bf-4bbc-9301-33f6096ffbf0"
      },
      "execution_count": 14,
      "outputs": [
        {
          "output_type": "execute_result",
          "data": {
            "text/plain": [
              "1.0"
            ]
          },
          "metadata": {},
          "execution_count": 14
        }
      ]
    },
    {
      "cell_type": "code",
      "source": [
        "np.sin(x)"
      ],
      "metadata": {
        "colab": {
          "base_uri": "https://localhost:8080/"
        },
        "id": "XTpwMxMg1H9S",
        "outputId": "48939b19-e924-46f9-f6fa-961f2ea28718"
      },
      "execution_count": 15,
      "outputs": [
        {
          "output_type": "execute_result",
          "data": {
            "text/plain": [
              "array([0.84147098, 0.90929743, 0.14112001])"
            ]
          },
          "metadata": {},
          "execution_count": 15
        }
      ]
    },
    {
      "cell_type": "markdown",
      "source": [
        "### ndarray indexing & slicing"
      ],
      "metadata": {
        "id": "7aTBW5fl1oRp"
      }
    },
    {
      "cell_type": "code",
      "source": [
        "np.arange(5)"
      ],
      "metadata": {
        "colab": {
          "base_uri": "https://localhost:8080/"
        },
        "id": "hgGi2arB1JaD",
        "outputId": "6f88327e-ff30-4773-c081-1a05ad8f73c9"
      },
      "execution_count": 17,
      "outputs": [
        {
          "output_type": "execute_result",
          "data": {
            "text/plain": [
              "array([0, 1, 2, 3, 4])"
            ]
          },
          "metadata": {},
          "execution_count": 17
        }
      ]
    },
    {
      "cell_type": "code",
      "source": [
        "M = np.arange(25).reshape(5, 5)"
      ],
      "metadata": {
        "id": "hmGY42KG1vhS"
      },
      "execution_count": 23,
      "outputs": []
    },
    {
      "cell_type": "code",
      "source": [
        "M"
      ],
      "metadata": {
        "colab": {
          "base_uri": "https://localhost:8080/"
        },
        "id": "AODSnW3o155q",
        "outputId": "e573b498-600a-4c81-ab99-f268cd2a67a8"
      },
      "execution_count": 24,
      "outputs": [
        {
          "output_type": "execute_result",
          "data": {
            "text/plain": [
              "array([[ 0,  1,  2,  3,  4],\n",
              "       [ 5,  6,  7,  8,  9],\n",
              "       [10, 11, 12, 13, 14],\n",
              "       [15, 16, 17, 18, 19],\n",
              "       [20, 21, 22, 23, 24]])"
            ]
          },
          "metadata": {},
          "execution_count": 24
        }
      ]
    },
    {
      "cell_type": "code",
      "source": [
        "L = [[ 0,  1,  2,  3,  4],\n",
        "     [ 5,  6,  7,  8,  9],\n",
        "     [10, 11, 12, 13, 14],\n",
        "     [15, 16, 17, 18, 19],\n",
        "     [20, 21, 22, 23, 24]]"
      ],
      "metadata": {
        "id": "RJqVbbjh2LhJ"
      },
      "execution_count": 25,
      "outputs": []
    },
    {
      "cell_type": "code",
      "source": [
        "len(L)"
      ],
      "metadata": {
        "colab": {
          "base_uri": "https://localhost:8080/"
        },
        "id": "22VUKmfz2g_X",
        "outputId": "8646267f-d463-4d2a-dfc4-d79c759f54fc"
      },
      "execution_count": 26,
      "outputs": [
        {
          "output_type": "execute_result",
          "data": {
            "text/plain": [
              "5"
            ]
          },
          "metadata": {},
          "execution_count": 26
        }
      ]
    },
    {
      "cell_type": "code",
      "source": [
        "L[2][2]"
      ],
      "metadata": {
        "colab": {
          "base_uri": "https://localhost:8080/"
        },
        "id": "XVrr7GVU2rAG",
        "outputId": "4c050e80-e3e1-4787-f8bf-6f84b0b717cc"
      },
      "execution_count": 30,
      "outputs": [
        {
          "output_type": "execute_result",
          "data": {
            "text/plain": [
              "12"
            ]
          },
          "metadata": {},
          "execution_count": 30
        }
      ]
    },
    {
      "cell_type": "code",
      "source": [
        "M[2][2]"
      ],
      "metadata": {
        "colab": {
          "base_uri": "https://localhost:8080/"
        },
        "id": "rdFipRyf2laI",
        "outputId": "bc51892c-ef4d-4f54-80f5-ee33ec5d09bb"
      },
      "execution_count": 31,
      "outputs": [
        {
          "output_type": "execute_result",
          "data": {
            "text/plain": [
              "12"
            ]
          },
          "metadata": {},
          "execution_count": 31
        }
      ]
    },
    {
      "cell_type": "code",
      "source": [
        "M[2, 2]"
      ],
      "metadata": {
        "colab": {
          "base_uri": "https://localhost:8080/"
        },
        "id": "CYhh16Ra3Yub",
        "outputId": "990c921f-d31b-4be7-8872-3291444c8fd4"
      },
      "execution_count": 34,
      "outputs": [
        {
          "output_type": "execute_result",
          "data": {
            "text/plain": [
              "12"
            ]
          },
          "metadata": {},
          "execution_count": 34
        }
      ]
    },
    {
      "cell_type": "code",
      "source": [
        "M"
      ],
      "metadata": {
        "colab": {
          "base_uri": "https://localhost:8080/"
        },
        "id": "_QIa_MM73TIs",
        "outputId": "86296d56-4f15-481b-f690-aeb8edfece59"
      },
      "execution_count": 33,
      "outputs": [
        {
          "output_type": "execute_result",
          "data": {
            "text/plain": [
              "array([[ 0,  1,  2,  3,  4],\n",
              "       [ 5,  6,  7,  8,  9],\n",
              "       [10, 11, 12, 13, 14],\n",
              "       [15, 16, 17, 18, 19],\n",
              "       [20, 21, 22, 23, 24]])"
            ]
          },
          "metadata": {},
          "execution_count": 33
        }
      ]
    },
    {
      "cell_type": "code",
      "source": [
        "M[1:4, 1:4]"
      ],
      "metadata": {
        "colab": {
          "base_uri": "https://localhost:8080/"
        },
        "id": "VRF5Rsv22nLQ",
        "outputId": "f0a20164-0b26-4493-a88d-56fbb6af3761"
      },
      "execution_count": 32,
      "outputs": [
        {
          "output_type": "execute_result",
          "data": {
            "text/plain": [
              "array([[ 6,  7,  8],\n",
              "       [11, 12, 13],\n",
              "       [16, 17, 18]])"
            ]
          },
          "metadata": {},
          "execution_count": 32
        }
      ]
    },
    {
      "cell_type": "code",
      "source": [
        "M[0:5, 2]"
      ],
      "metadata": {
        "colab": {
          "base_uri": "https://localhost:8080/"
        },
        "id": "hn0x2dis3KKl",
        "outputId": "181806e9-11b6-4176-e399-1d7eda475abf"
      },
      "execution_count": 36,
      "outputs": [
        {
          "output_type": "execute_result",
          "data": {
            "text/plain": [
              "array([ 2,  7, 12, 17, 22])"
            ]
          },
          "metadata": {},
          "execution_count": 36
        }
      ]
    },
    {
      "cell_type": "code",
      "source": [
        "M[:, 2]"
      ],
      "metadata": {
        "colab": {
          "base_uri": "https://localhost:8080/"
        },
        "id": "SKbjw2s9368f",
        "outputId": "6e6b081c-af0e-4d40-fb8d-5dc9e36b59d9"
      },
      "execution_count": 38,
      "outputs": [
        {
          "output_type": "execute_result",
          "data": {
            "text/plain": [
              "array([ 2,  7, 12, 17, 22])"
            ]
          },
          "metadata": {},
          "execution_count": 38
        }
      ]
    },
    {
      "cell_type": "code",
      "source": [
        "M[2, :]"
      ],
      "metadata": {
        "colab": {
          "base_uri": "https://localhost:8080/"
        },
        "id": "e3v1QnTN4DAq",
        "outputId": "0990322b-35e0-47a8-ea5c-dc067fa22924"
      },
      "execution_count": 39,
      "outputs": [
        {
          "output_type": "execute_result",
          "data": {
            "text/plain": [
              "array([10, 11, 12, 13, 14])"
            ]
          },
          "metadata": {},
          "execution_count": 39
        }
      ]
    },
    {
      "cell_type": "code",
      "source": [
        "M[2]"
      ],
      "metadata": {
        "colab": {
          "base_uri": "https://localhost:8080/"
        },
        "id": "TnPuGOvd4Kg6",
        "outputId": "da1553f8-5e98-4300-9996-1c7c27494b3c"
      },
      "execution_count": 40,
      "outputs": [
        {
          "output_type": "execute_result",
          "data": {
            "text/plain": [
              "array([10, 11, 12, 13, 14])"
            ]
          },
          "metadata": {},
          "execution_count": 40
        }
      ]
    },
    {
      "cell_type": "code",
      "source": [
        "M[:, -1]"
      ],
      "metadata": {
        "colab": {
          "base_uri": "https://localhost:8080/"
        },
        "id": "2n2Zl1fW4MjB",
        "outputId": "871c3201-2ea1-4d34-d02f-ea707e0e5b16"
      },
      "execution_count": 41,
      "outputs": [
        {
          "output_type": "execute_result",
          "data": {
            "text/plain": [
              "array([ 4,  9, 14, 19, 24])"
            ]
          },
          "metadata": {},
          "execution_count": 41
        }
      ]
    },
    {
      "cell_type": "code",
      "source": [
        "M[[0, 1, 2, 3, 4],[0, 1, 2, 3, 4]]"
      ],
      "metadata": {
        "colab": {
          "base_uri": "https://localhost:8080/"
        },
        "id": "G0iyalad4llK",
        "outputId": "c261387e-55b7-44f1-f9c8-38336e1148bb"
      },
      "execution_count": 43,
      "outputs": [
        {
          "output_type": "execute_result",
          "data": {
            "text/plain": [
              "array([ 0,  6, 12, 18, 24])"
            ]
          },
          "metadata": {},
          "execution_count": 43
        }
      ]
    },
    {
      "cell_type": "markdown",
      "source": [
        "### 基本影像處理"
      ],
      "metadata": {
        "id": "vHJJ4Yrr56K0"
      }
    },
    {
      "cell_type": "markdown",
      "source": [
        "* pillow (PIL) => pilimage\n",
        "* scikit-image => numpy\n",
        "* opencv => numpy"
      ],
      "metadata": {
        "id": "QV6xWZDX6Alc"
      }
    },
    {
      "cell_type": "code",
      "source": [
        "import skimage"
      ],
      "metadata": {
        "id": "lW1b-qHe5_r9"
      },
      "execution_count": 44,
      "outputs": []
    },
    {
      "cell_type": "code",
      "source": [
        "astronaut = skimage.data.astronaut()"
      ],
      "metadata": {
        "id": "5i83QgRf4vpZ"
      },
      "execution_count": 46,
      "outputs": []
    },
    {
      "cell_type": "code",
      "source": [
        "type(astronaut)"
      ],
      "metadata": {
        "colab": {
          "base_uri": "https://localhost:8080/"
        },
        "id": "JAwjWnTC6tX6",
        "outputId": "210c7805-b77f-4c56-e071-c82ec7204349"
      },
      "execution_count": 48,
      "outputs": [
        {
          "output_type": "execute_result",
          "data": {
            "text/plain": [
              "numpy.ndarray"
            ]
          },
          "metadata": {},
          "execution_count": 48
        }
      ]
    },
    {
      "cell_type": "code",
      "source": [
        "astronaut[100:200, 200:300]"
      ],
      "metadata": {
        "colab": {
          "base_uri": "https://localhost:8080/",
          "height": 140
        },
        "id": "6Hh5GzMq656r",
        "outputId": "caae2e8c-c1be-487a-cf31-5e844bacd8a1"
      },
      "execution_count": 50,
      "outputs": [
        {
          "output_type": "execute_result",
          "data": {
            "text/plain": [
              "array([[[ 81,  57,  17],\n",
              "        [ 69,  38,   4],\n",
              "        [146, 126, 106],\n",
              "        ...,\n",
              "        [ 75,  59,  28],\n",
              "        [146, 135, 121],\n",
              "        [201, 188, 180]],\n",
              "\n",
              "       [[ 83,  57,  21],\n",
              "        [ 85,  58,  11],\n",
              "        [116,  86,  73],\n",
              "        ...,\n",
              "        [ 97,  84,  59],\n",
              "        [183, 168, 160],\n",
              "        [202, 188, 181]],\n",
              "\n",
              "       [[ 96,  66,  36],\n",
              "        [ 84,  59,   9],\n",
              "        [ 72,  40,   1],\n",
              "        ...,\n",
              "        [117,  99,  81],\n",
              "        [196, 181, 173],\n",
              "        [205, 187, 183]],\n",
              "\n",
              "       ...,\n",
              "\n",
              "       [[ 13,  11,   4],\n",
              "        [ 16,  10,   5],\n",
              "        [ 20,  15,   7],\n",
              "        ...,\n",
              "        [229, 218, 216],\n",
              "        [225, 216, 213],\n",
              "        [226, 217, 215]],\n",
              "\n",
              "       [[ 22,  17,  11],\n",
              "        [ 15,  10,   8],\n",
              "        [ 18,  14,   8],\n",
              "        ...,\n",
              "        [227, 218, 216],\n",
              "        [227, 217, 216],\n",
              "        [227, 217, 215]],\n",
              "\n",
              "       [[ 21,  10,   9],\n",
              "        [ 19,   7,  10],\n",
              "        [ 19,  11,   5],\n",
              "        ...,\n",
              "        [229, 218, 215],\n",
              "        [229, 218, 215],\n",
              "        [229, 218, 219]]], dtype=uint8)"
            ],
            "text/html": [
              "<style>\n",
              "      .ndarray_repr .ndarray_raw_data {\n",
              "        display: none;\n",
              "      }\n",
              "      .ndarray_repr.show_array .ndarray_raw_data {\n",
              "        display: block;\n",
              "      }\n",
              "      .ndarray_repr.show_array .ndarray_image_preview {\n",
              "        display: none;\n",
              "      }\n",
              "      </style>\n",
              "      <div id=\"id-45e6894d-bcb0-42cc-9280-d96d7ba18d8f\" class=\"ndarray_repr\"><pre>ndarray (100, 100, 3) <button style=\"padding: 0 2px;\">show data</button></pre><img src=\"data:image/png;base64,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\" class=\"ndarray_image_preview\" /><pre class=\"ndarray_raw_data\">array([[[ 81,  57,  17],\n",
              "        [ 69,  38,   4],\n",
              "        [146, 126, 106],\n",
              "        ...,\n",
              "        [ 75,  59,  28],\n",
              "        [146, 135, 121],\n",
              "        [201, 188, 180]],\n",
              "\n",
              "       [[ 83,  57,  21],\n",
              "        [ 85,  58,  11],\n",
              "        [116,  86,  73],\n",
              "        ...,\n",
              "        [ 97,  84,  59],\n",
              "        [183, 168, 160],\n",
              "        [202, 188, 181]],\n",
              "\n",
              "       [[ 96,  66,  36],\n",
              "        [ 84,  59,   9],\n",
              "        [ 72,  40,   1],\n",
              "        ...,\n",
              "        [117,  99,  81],\n",
              "        [196, 181, 173],\n",
              "        [205, 187, 183]],\n",
              "\n",
              "       ...,\n",
              "\n",
              "       [[ 13,  11,   4],\n",
              "        [ 16,  10,   5],\n",
              "        [ 20,  15,   7],\n",
              "        ...,\n",
              "        [229, 218, 216],\n",
              "        [225, 216, 213],\n",
              "        [226, 217, 215]],\n",
              "\n",
              "       [[ 22,  17,  11],\n",
              "        [ 15,  10,   8],\n",
              "        [ 18,  14,   8],\n",
              "        ...,\n",
              "        [227, 218, 216],\n",
              "        [227, 217, 216],\n",
              "        [227, 217, 215]],\n",
              "\n",
              "       [[ 21,  10,   9],\n",
              "        [ 19,   7,  10],\n",
              "        [ 19,  11,   5],\n",
              "        ...,\n",
              "        [229, 218, 215],\n",
              "        [229, 218, 215],\n",
              "        [229, 218, 219]]], dtype=uint8)</pre></div><script>\n",
              "      (() => {\n",
              "      const titles = ['show data', 'hide data'];\n",
              "      let index = 0\n",
              "      document.querySelector('#id-45e6894d-bcb0-42cc-9280-d96d7ba18d8f button').onclick = (e) => {\n",
              "        document.querySelector('#id-45e6894d-bcb0-42cc-9280-d96d7ba18d8f').classList.toggle('show_array');\n",
              "        index = (++index) % 2;\n",
              "        document.querySelector('#id-45e6894d-bcb0-42cc-9280-d96d7ba18d8f button').textContent = titles[index];\n",
              "        e.preventDefault();\n",
              "        e.stopPropagation();\n",
              "      }\n",
              "      })();\n",
              "    </script>"
            ]
          },
          "metadata": {},
          "execution_count": 50
        }
      ]
    },
    {
      "cell_type": "code",
      "source": [
        "skimage.io.imread('lin.jpg')"
      ],
      "metadata": {
        "colab": {
          "base_uri": "https://localhost:8080/",
          "height": 469
        },
        "id": "hahYt8ed7EeZ",
        "outputId": "4b1ebdbc-9782-4e2a-c2a5-290a682865ca"
      },
      "execution_count": 51,
      "outputs": [
        {
          "output_type": "execute_result",
          "data": {
            "text/plain": [
              "array([[[ 68,  90, 176],\n",
              "        [ 71,  91, 178],\n",
              "        [ 69,  91, 177],\n",
              "        ...,\n",
              "        [ 62,  74, 150],\n",
              "        [ 68,  77, 156],\n",
              "        [ 76,  84, 165]],\n",
              "\n",
              "       [[ 71,  93, 179],\n",
              "        [ 71,  93, 179],\n",
              "        [ 70,  91, 180],\n",
              "        ...,\n",
              "        [ 63,  75, 149],\n",
              "        [ 67,  76, 153],\n",
              "        [ 71,  80, 159]],\n",
              "\n",
              "       [[ 73,  95, 181],\n",
              "        [ 73,  95, 181],\n",
              "        [ 71,  92, 181],\n",
              "        ...,\n",
              "        [ 61,  73, 147],\n",
              "        [ 67,  76, 151],\n",
              "        [ 71,  80, 157]],\n",
              "\n",
              "       ...,\n",
              "\n",
              "       [[ 87, 117, 203],\n",
              "        [ 87, 114, 201],\n",
              "        [ 86, 113, 202],\n",
              "        ...,\n",
              "        [ 84, 101, 183],\n",
              "        [ 85, 103, 185],\n",
              "        [ 88, 106, 190]],\n",
              "\n",
              "       [[ 89, 116, 203],\n",
              "        [ 88, 114, 201],\n",
              "        [ 87, 112, 202],\n",
              "        ...,\n",
              "        [ 84, 102, 184],\n",
              "        [ 82, 103, 184],\n",
              "        [ 86, 104, 188]],\n",
              "\n",
              "       [[ 90, 117, 204],\n",
              "        [ 90, 116, 203],\n",
              "        [ 88, 115, 204],\n",
              "        ...,\n",
              "        [ 82, 103, 184],\n",
              "        [ 83, 104, 185],\n",
              "        [ 86, 107, 190]]], dtype=uint8)"
            ],
            "text/html": [
              "<style>\n",
              "      .ndarray_repr .ndarray_raw_data {\n",
              "        display: none;\n",
              "      }\n",
              "      .ndarray_repr.show_array .ndarray_raw_data {\n",
              "        display: block;\n",
              "      }\n",
              "      .ndarray_repr.show_array .ndarray_image_preview {\n",
              "        display: none;\n",
              "      }\n",
              "      </style>\n",
              "      <div id=\"id-feda04fa-4124-4682-bf91-a87a95a80286\" class=\"ndarray_repr\"><pre>ndarray (429, 656, 3) <button style=\"padding: 0 2px;\">show data</button></pre><img src=\"data:image/png;base64,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\" class=\"ndarray_image_preview\" /><pre class=\"ndarray_raw_data\">array([[[ 68,  90, 176],\n",
              "        [ 71,  91, 178],\n",
              "        [ 69,  91, 177],\n",
              "        ...,\n",
              "        [ 62,  74, 150],\n",
              "        [ 68,  77, 156],\n",
              "        [ 76,  84, 165]],\n",
              "\n",
              "       [[ 71,  93, 179],\n",
              "        [ 71,  93, 179],\n",
              "        [ 70,  91, 180],\n",
              "        ...,\n",
              "        [ 63,  75, 149],\n",
              "        [ 67,  76, 153],\n",
              "        [ 71,  80, 159]],\n",
              "\n",
              "       [[ 73,  95, 181],\n",
              "        [ 73,  95, 181],\n",
              "        [ 71,  92, 181],\n",
              "        ...,\n",
              "        [ 61,  73, 147],\n",
              "        [ 67,  76, 151],\n",
              "        [ 71,  80, 157]],\n",
              "\n",
              "       ...,\n",
              "\n",
              "       [[ 87, 117, 203],\n",
              "        [ 87, 114, 201],\n",
              "        [ 86, 113, 202],\n",
              "        ...,\n",
              "        [ 84, 101, 183],\n",
              "        [ 85, 103, 185],\n",
              "        [ 88, 106, 190]],\n",
              "\n",
              "       [[ 89, 116, 203],\n",
              "        [ 88, 114, 201],\n",
              "        [ 87, 112, 202],\n",
              "        ...,\n",
              "        [ 84, 102, 184],\n",
              "        [ 82, 103, 184],\n",
              "        [ 86, 104, 188]],\n",
              "\n",
              "       [[ 90, 117, 204],\n",
              "        [ 90, 116, 203],\n",
              "        [ 88, 115, 204],\n",
              "        ...,\n",
              "        [ 82, 103, 184],\n",
              "        [ 83, 104, 185],\n",
              "        [ 86, 107, 190]]], dtype=uint8)</pre></div><script>\n",
              "      (() => {\n",
              "      const titles = ['show data', 'hide data'];\n",
              "      let index = 0\n",
              "      document.querySelector('#id-feda04fa-4124-4682-bf91-a87a95a80286 button').onclick = (e) => {\n",
              "        document.querySelector('#id-feda04fa-4124-4682-bf91-a87a95a80286').classList.toggle('show_array');\n",
              "        index = (++index) % 2;\n",
              "        document.querySelector('#id-feda04fa-4124-4682-bf91-a87a95a80286 button').textContent = titles[index];\n",
              "        e.preventDefault();\n",
              "        e.stopPropagation();\n",
              "      }\n",
              "      })();\n",
              "    </script>"
            ]
          },
          "metadata": {},
          "execution_count": 51
        }
      ]
    },
    {
      "cell_type": "code",
      "source": [
        "!pip install gradio"
      ],
      "metadata": {
        "colab": {
          "base_uri": "https://localhost:8080/"
        },
        "collapsed": true,
        "id": "8kusn9TF77D3",
        "outputId": "15843a09-0d04-4c30-e17d-3d840f2755c0"
      },
      "execution_count": 52,
      "outputs": [
        {
          "output_type": "stream",
          "name": "stdout",
          "text": [
            "Collecting gradio\n",
            "  Downloading gradio-4.42.0-py3-none-any.whl.metadata (15 kB)\n",
            "Collecting aiofiles<24.0,>=22.0 (from gradio)\n",
            "  Downloading aiofiles-23.2.1-py3-none-any.whl.metadata (9.7 kB)\n",
            "Requirement already satisfied: anyio<5.0,>=3.0 in /usr/local/lib/python3.10/dist-packages (from gradio) (3.7.1)\n",
            "Collecting fastapi (from gradio)\n",
            "  Downloading fastapi-0.112.2-py3-none-any.whl.metadata (27 kB)\n",
            "Collecting ffmpy (from gradio)\n",
            "  Downloading ffmpy-0.4.0-py3-none-any.whl.metadata (2.9 kB)\n",
            "Collecting gradio-client==1.3.0 (from gradio)\n",
            "  Downloading gradio_client-1.3.0-py3-none-any.whl.metadata (7.1 kB)\n",
            "Collecting httpx>=0.24.1 (from gradio)\n",
            "  Downloading httpx-0.27.2-py3-none-any.whl.metadata (7.1 kB)\n",
            "Requirement already satisfied: huggingface-hub>=0.19.3 in /usr/local/lib/python3.10/dist-packages (from gradio) (0.23.5)\n",
            "Requirement already satisfied: importlib-resources<7.0,>=1.3 in /usr/local/lib/python3.10/dist-packages (from gradio) (6.4.4)\n",
            "Requirement already satisfied: jinja2<4.0 in /usr/local/lib/python3.10/dist-packages (from gradio) (3.1.4)\n",
            "Requirement already satisfied: markupsafe~=2.0 in /usr/local/lib/python3.10/dist-packages (from gradio) (2.1.5)\n",
            "Requirement already satisfied: matplotlib~=3.0 in /usr/local/lib/python3.10/dist-packages (from gradio) (3.7.1)\n",
            "Requirement already satisfied: numpy<3.0,>=1.0 in /usr/local/lib/python3.10/dist-packages (from gradio) (1.26.4)\n",
            "Collecting orjson~=3.0 (from gradio)\n",
            "  Downloading orjson-3.10.7-cp310-cp310-manylinux_2_17_x86_64.manylinux2014_x86_64.whl.metadata (50 kB)\n",
            "\u001b[2K     \u001b[90m━━━━━━━━━━━━━━━━━━━━━━━━━━━━━━━━━━━━━━━━\u001b[0m \u001b[32m50.4/50.4 kB\u001b[0m \u001b[31m4.1 MB/s\u001b[0m eta \u001b[36m0:00:00\u001b[0m\n",
            "\u001b[?25hRequirement already satisfied: packaging in /usr/local/lib/python3.10/dist-packages (from gradio) (24.1)\n",
            "Requirement already satisfied: pandas<3.0,>=1.0 in /usr/local/lib/python3.10/dist-packages (from gradio) (2.1.4)\n",
            "Requirement already satisfied: pillow<11.0,>=8.0 in /usr/local/lib/python3.10/dist-packages (from gradio) (9.4.0)\n",
            "Requirement already satisfied: pydantic>=2.0 in /usr/local/lib/python3.10/dist-packages (from gradio) (2.8.2)\n",
            "Collecting pydub (from gradio)\n",
            "  Downloading pydub-0.25.1-py2.py3-none-any.whl.metadata (1.4 kB)\n",
            "Collecting python-multipart>=0.0.9 (from gradio)\n",
            "  Downloading python_multipart-0.0.9-py3-none-any.whl.metadata (2.5 kB)\n",
            "Requirement already satisfied: pyyaml<7.0,>=5.0 in /usr/local/lib/python3.10/dist-packages (from gradio) (6.0.2)\n",
            "Collecting ruff>=0.2.2 (from gradio)\n",
            "  Downloading ruff-0.6.3-py3-none-manylinux_2_17_x86_64.manylinux2014_x86_64.whl.metadata (25 kB)\n",
            "Collecting semantic-version~=2.0 (from gradio)\n",
            "  Downloading semantic_version-2.10.0-py2.py3-none-any.whl.metadata (9.7 kB)\n",
            "Collecting tomlkit==0.12.0 (from gradio)\n",
            "  Downloading tomlkit-0.12.0-py3-none-any.whl.metadata (2.7 kB)\n",
            "Requirement already satisfied: typer<1.0,>=0.12 in /usr/local/lib/python3.10/dist-packages (from gradio) (0.12.5)\n",
            "Requirement already satisfied: typing-extensions~=4.0 in /usr/local/lib/python3.10/dist-packages (from gradio) (4.12.2)\n",
            "Requirement already satisfied: urllib3~=2.0 in /usr/local/lib/python3.10/dist-packages (from gradio) (2.0.7)\n",
            "Collecting uvicorn>=0.14.0 (from gradio)\n",
            "  Downloading uvicorn-0.30.6-py3-none-any.whl.metadata (6.6 kB)\n",
            "Requirement already satisfied: fsspec in /usr/local/lib/python3.10/dist-packages (from gradio-client==1.3.0->gradio) (2024.6.1)\n",
            "Collecting websockets<13.0,>=10.0 (from gradio-client==1.3.0->gradio)\n",
            "  Downloading websockets-12.0-cp310-cp310-manylinux_2_5_x86_64.manylinux1_x86_64.manylinux_2_17_x86_64.manylinux2014_x86_64.whl.metadata (6.6 kB)\n",
            "Requirement already satisfied: idna>=2.8 in /usr/local/lib/python3.10/dist-packages (from anyio<5.0,>=3.0->gradio) (3.8)\n",
            "Requirement already satisfied: sniffio>=1.1 in /usr/local/lib/python3.10/dist-packages (from anyio<5.0,>=3.0->gradio) (1.3.1)\n",
            "Requirement already satisfied: exceptiongroup in /usr/local/lib/python3.10/dist-packages (from anyio<5.0,>=3.0->gradio) (1.2.2)\n",
            "Requirement already satisfied: certifi in /usr/local/lib/python3.10/dist-packages (from httpx>=0.24.1->gradio) (2024.7.4)\n",
            "Collecting httpcore==1.* (from httpx>=0.24.1->gradio)\n",
            "  Downloading httpcore-1.0.5-py3-none-any.whl.metadata (20 kB)\n",
            "Collecting h11<0.15,>=0.13 (from httpcore==1.*->httpx>=0.24.1->gradio)\n",
            "  Downloading h11-0.14.0-py3-none-any.whl.metadata (8.2 kB)\n",
            "Requirement already satisfied: filelock in /usr/local/lib/python3.10/dist-packages (from huggingface-hub>=0.19.3->gradio) (3.15.4)\n",
            "Requirement already satisfied: requests in /usr/local/lib/python3.10/dist-packages (from huggingface-hub>=0.19.3->gradio) (2.32.3)\n",
            "Requirement already satisfied: tqdm>=4.42.1 in /usr/local/lib/python3.10/dist-packages (from huggingface-hub>=0.19.3->gradio) (4.66.5)\n",
            "Requirement already satisfied: contourpy>=1.0.1 in /usr/local/lib/python3.10/dist-packages (from matplotlib~=3.0->gradio) (1.2.1)\n",
            "Requirement already satisfied: cycler>=0.10 in /usr/local/lib/python3.10/dist-packages (from matplotlib~=3.0->gradio) (0.12.1)\n",
            "Requirement already satisfied: fonttools>=4.22.0 in /usr/local/lib/python3.10/dist-packages (from matplotlib~=3.0->gradio) (4.53.1)\n",
            "Requirement already satisfied: kiwisolver>=1.0.1 in /usr/local/lib/python3.10/dist-packages (from matplotlib~=3.0->gradio) (1.4.5)\n",
            "Requirement already satisfied: pyparsing>=2.3.1 in /usr/local/lib/python3.10/dist-packages (from matplotlib~=3.0->gradio) (3.1.4)\n",
            "Requirement already satisfied: python-dateutil>=2.7 in /usr/local/lib/python3.10/dist-packages (from matplotlib~=3.0->gradio) (2.8.2)\n",
            "Requirement already satisfied: pytz>=2020.1 in /usr/local/lib/python3.10/dist-packages (from pandas<3.0,>=1.0->gradio) (2024.1)\n",
            "Requirement already satisfied: tzdata>=2022.1 in /usr/local/lib/python3.10/dist-packages (from pandas<3.0,>=1.0->gradio) (2024.1)\n",
            "Requirement already satisfied: annotated-types>=0.4.0 in /usr/local/lib/python3.10/dist-packages (from pydantic>=2.0->gradio) (0.7.0)\n",
            "Requirement already satisfied: pydantic-core==2.20.1 in /usr/local/lib/python3.10/dist-packages (from pydantic>=2.0->gradio) (2.20.1)\n",
            "Requirement already satisfied: click>=8.0.0 in /usr/local/lib/python3.10/dist-packages (from typer<1.0,>=0.12->gradio) (8.1.7)\n",
            "Requirement already satisfied: shellingham>=1.3.0 in /usr/local/lib/python3.10/dist-packages (from typer<1.0,>=0.12->gradio) (1.5.4)\n",
            "Requirement already satisfied: rich>=10.11.0 in /usr/local/lib/python3.10/dist-packages (from typer<1.0,>=0.12->gradio) (13.8.0)\n",
            "Collecting starlette<0.39.0,>=0.37.2 (from fastapi->gradio)\n",
            "  Downloading starlette-0.38.2-py3-none-any.whl.metadata (5.9 kB)\n",
            "Requirement already satisfied: six>=1.5 in /usr/local/lib/python3.10/dist-packages (from python-dateutil>=2.7->matplotlib~=3.0->gradio) (1.16.0)\n",
            "Requirement already satisfied: markdown-it-py>=2.2.0 in /usr/local/lib/python3.10/dist-packages (from rich>=10.11.0->typer<1.0,>=0.12->gradio) (3.0.0)\n",
            "Requirement already satisfied: pygments<3.0.0,>=2.13.0 in /usr/local/lib/python3.10/dist-packages (from rich>=10.11.0->typer<1.0,>=0.12->gradio) (2.16.1)\n",
            "Requirement already satisfied: charset-normalizer<4,>=2 in /usr/local/lib/python3.10/dist-packages (from requests->huggingface-hub>=0.19.3->gradio) (3.3.2)\n",
            "Requirement already satisfied: mdurl~=0.1 in /usr/local/lib/python3.10/dist-packages (from markdown-it-py>=2.2.0->rich>=10.11.0->typer<1.0,>=0.12->gradio) (0.1.2)\n",
            "Downloading gradio-4.42.0-py3-none-any.whl (16.8 MB)\n",
            "\u001b[2K   \u001b[90m━━━━━━━━━━━━━━━━━━━━━━━━━━━━━━━━━━━━━━━━\u001b[0m \u001b[32m16.8/16.8 MB\u001b[0m \u001b[31m80.4 MB/s\u001b[0m eta \u001b[36m0:00:00\u001b[0m\n",
            "\u001b[?25hDownloading gradio_client-1.3.0-py3-none-any.whl (318 kB)\n",
            "\u001b[2K   \u001b[90m━━━━━━━━━━━━━━━━━━━━━━━━━━━━━━━━━━━━━━━━\u001b[0m \u001b[32m318.7/318.7 kB\u001b[0m \u001b[31m29.3 MB/s\u001b[0m eta \u001b[36m0:00:00\u001b[0m\n",
            "\u001b[?25hDownloading tomlkit-0.12.0-py3-none-any.whl (37 kB)\n",
            "Downloading aiofiles-23.2.1-py3-none-any.whl (15 kB)\n",
            "Downloading httpx-0.27.2-py3-none-any.whl (76 kB)\n",
            "\u001b[2K   \u001b[90m━━━━━━━━━━━━━━━━━━━━━━━━━━━━━━━━━━━━━━━━\u001b[0m \u001b[32m76.4/76.4 kB\u001b[0m \u001b[31m7.3 MB/s\u001b[0m eta \u001b[36m0:00:00\u001b[0m\n",
            "\u001b[?25hDownloading httpcore-1.0.5-py3-none-any.whl (77 kB)\n",
            "\u001b[2K   \u001b[90m━━━━━━━━━━━━━━━━━━━━━━━━━━━━━━━━━━━━━━━━\u001b[0m \u001b[32m77.9/77.9 kB\u001b[0m \u001b[31m8.4 MB/s\u001b[0m eta \u001b[36m0:00:00\u001b[0m\n",
            "\u001b[?25hDownloading orjson-3.10.7-cp310-cp310-manylinux_2_17_x86_64.manylinux2014_x86_64.whl (141 kB)\n",
            "\u001b[2K   \u001b[90m━━━━━━━━━━━━━━━━━━━━━━━━━━━━━━━━━━━━━━━━\u001b[0m \u001b[32m141.9/141.9 kB\u001b[0m \u001b[31m14.4 MB/s\u001b[0m eta \u001b[36m0:00:00\u001b[0m\n",
            "\u001b[?25hDownloading python_multipart-0.0.9-py3-none-any.whl (22 kB)\n",
            "Downloading ruff-0.6.3-py3-none-manylinux_2_17_x86_64.manylinux2014_x86_64.whl (10.3 MB)\n",
            "\u001b[2K   \u001b[90m━━━━━━━━━━━━━━━━━━━━━━━━━━━━━━━━━━━━━━━━\u001b[0m \u001b[32m10.3/10.3 MB\u001b[0m \u001b[31m106.1 MB/s\u001b[0m eta \u001b[36m0:00:00\u001b[0m\n",
            "\u001b[?25hDownloading semantic_version-2.10.0-py2.py3-none-any.whl (15 kB)\n",
            "Downloading uvicorn-0.30.6-py3-none-any.whl (62 kB)\n",
            "\u001b[2K   \u001b[90m━━━━━━━━━━━━━━━━━━━━━━━━━━━━━━━━━━━━━━━━\u001b[0m \u001b[32m62.8/62.8 kB\u001b[0m \u001b[31m6.6 MB/s\u001b[0m eta \u001b[36m0:00:00\u001b[0m\n",
            "\u001b[?25hDownloading fastapi-0.112.2-py3-none-any.whl (93 kB)\n",
            "\u001b[2K   \u001b[90m━━━━━━━━━━━━━━━━━━━━━━━━━━━━━━━━━━━━━━━━\u001b[0m \u001b[32m93.5/93.5 kB\u001b[0m \u001b[31m9.6 MB/s\u001b[0m eta \u001b[36m0:00:00\u001b[0m\n",
            "\u001b[?25hDownloading ffmpy-0.4.0-py3-none-any.whl (5.8 kB)\n",
            "Downloading pydub-0.25.1-py2.py3-none-any.whl (32 kB)\n",
            "Downloading h11-0.14.0-py3-none-any.whl (58 kB)\n",
            "\u001b[2K   \u001b[90m━━━━━━━━━━━━━━━━━━━━━━━━━━━━━━━━━━━━━━━━\u001b[0m \u001b[32m58.3/58.3 kB\u001b[0m \u001b[31m6.2 MB/s\u001b[0m eta \u001b[36m0:00:00\u001b[0m\n",
            "\u001b[?25hDownloading starlette-0.38.2-py3-none-any.whl (72 kB)\n",
            "\u001b[2K   \u001b[90m━━━━━━━━━━━━━━━━━━━━━━━━━━━━━━━━━━━━━━━━\u001b[0m \u001b[32m72.0/72.0 kB\u001b[0m \u001b[31m7.4 MB/s\u001b[0m eta \u001b[36m0:00:00\u001b[0m\n",
            "\u001b[?25hDownloading websockets-12.0-cp310-cp310-manylinux_2_5_x86_64.manylinux1_x86_64.manylinux_2_17_x86_64.manylinux2014_x86_64.whl (130 kB)\n",
            "\u001b[2K   \u001b[90m━━━━━━━━━━━━━━━━━━━━━━━━━━━━━━━━━━━━━━━━\u001b[0m \u001b[32m130.2/130.2 kB\u001b[0m \u001b[31m14.3 MB/s\u001b[0m eta \u001b[36m0:00:00\u001b[0m\n",
            "\u001b[?25hInstalling collected packages: pydub, websockets, tomlkit, semantic-version, ruff, python-multipart, orjson, h11, ffmpy, aiofiles, uvicorn, starlette, httpcore, httpx, fastapi, gradio-client, gradio\n",
            "  Attempting uninstall: tomlkit\n",
            "    Found existing installation: tomlkit 0.13.2\n",
            "    Uninstalling tomlkit-0.13.2:\n",
            "      Successfully uninstalled tomlkit-0.13.2\n",
            "Successfully installed aiofiles-23.2.1 fastapi-0.112.2 ffmpy-0.4.0 gradio-4.42.0 gradio-client-1.3.0 h11-0.14.0 httpcore-1.0.5 httpx-0.27.2 orjson-3.10.7 pydub-0.25.1 python-multipart-0.0.9 ruff-0.6.3 semantic-version-2.10.0 starlette-0.38.2 tomlkit-0.12.0 uvicorn-0.30.6 websockets-12.0\n"
          ]
        }
      ]
    },
    {
      "cell_type": "code",
      "source": [
        "import gradio as gr\n",
        "\n",
        "def process(img):\n",
        "  return img[:200, :200]\n",
        "\n",
        "gr.Interface(process, 'image', 'image').launch()"
      ],
      "metadata": {
        "colab": {
          "base_uri": "https://localhost:8080/",
          "height": 648
        },
        "id": "-huI5YWs8Jpm",
        "outputId": "a0dac0c4-dbe3-4731-d4ba-0810b083f009"
      },
      "execution_count": 55,
      "outputs": [
        {
          "output_type": "stream",
          "name": "stdout",
          "text": [
            "Setting queue=True in a Colab notebook requires sharing enabled. Setting `share=True` (you can turn this off by setting `share=False` in `launch()` explicitly).\n",
            "\n",
            "Colab notebook detected. To show errors in colab notebook, set debug=True in launch()\n",
            "Running on public URL: https://be64a2bd86c0f3676c.gradio.live\n",
            "\n",
            "This share link expires in 72 hours. For free permanent hosting and GPU upgrades, run `gradio deploy` from Terminal to deploy to Spaces (https://huggingface.co/spaces)\n"
          ]
        },
        {
          "output_type": "display_data",
          "data": {
            "text/plain": [
              "<IPython.core.display.HTML object>"
            ],
            "text/html": [
              "<div><iframe src=\"https://be64a2bd86c0f3676c.gradio.live\" width=\"100%\" height=\"500\" allow=\"autoplay; camera; microphone; clipboard-read; clipboard-write;\" frameborder=\"0\" allowfullscreen></iframe></div>"
            ]
          },
          "metadata": {}
        },
        {
          "output_type": "execute_result",
          "data": {
            "text/plain": []
          },
          "metadata": {},
          "execution_count": 55
        }
      ]
    },
    {
      "cell_type": "code",
      "source": [],
      "metadata": {
        "id": "pirPqFEa8bjA"
      },
      "execution_count": null,
      "outputs": []
    }
  ]
}